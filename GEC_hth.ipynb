{
  "nbformat": 4,
  "nbformat_minor": 0,
  "metadata": {
    "colab": {
      "name": "GEC-hth.ipynb",
      "provenance": []
    },
    "kernelspec": {
      "name": "python3",
      "display_name": "Python 3"
    },
    "language_info": {
      "name": "python"
    },
    "gpuClass": "standard",
    "accelerator": "GPU",
    "widgets": {
      "application/vnd.jupyter.widget-state+json": {
        "9ba6633f39b54faea3eedf260672892e": {
          "model_module": "@jupyter-widgets/controls",
          "model_name": "HBoxModel",
          "model_module_version": "1.5.0",
          "state": {
            "_dom_classes": [],
            "_model_module": "@jupyter-widgets/controls",
            "_model_module_version": "1.5.0",
            "_model_name": "HBoxModel",
            "_view_count": null,
            "_view_module": "@jupyter-widgets/controls",
            "_view_module_version": "1.5.0",
            "_view_name": "HBoxView",
            "box_style": "",
            "children": [
              "IPY_MODEL_b4181be0a1b6494c81076ce1dea1ba99",
              "IPY_MODEL_04e1a2d6783449afa3721cca23afd796",
              "IPY_MODEL_e220e43096fb4101b6ed7427ede1d472"
            ],
            "layout": "IPY_MODEL_657f9c437e1f462fb3e8d5fb7edf2bed"
          }
        },
        "b4181be0a1b6494c81076ce1dea1ba99": {
          "model_module": "@jupyter-widgets/controls",
          "model_name": "HTMLModel",
          "model_module_version": "1.5.0",
          "state": {
            "_dom_classes": [],
            "_model_module": "@jupyter-widgets/controls",
            "_model_module_version": "1.5.0",
            "_model_name": "HTMLModel",
            "_view_count": null,
            "_view_module": "@jupyter-widgets/controls",
            "_view_module_version": "1.5.0",
            "_view_name": "HTMLView",
            "description": "",
            "description_tooltip": null,
            "layout": "IPY_MODEL_170e0736898a429e99834bea2ecf9fee",
            "placeholder": "​",
            "style": "IPY_MODEL_c2d696ccb8114eeca25d1cee71ef4dc3",
            "value": "Downloading data files: 100%"
          }
        },
        "04e1a2d6783449afa3721cca23afd796": {
          "model_module": "@jupyter-widgets/controls",
          "model_name": "FloatProgressModel",
          "model_module_version": "1.5.0",
          "state": {
            "_dom_classes": [],
            "_model_module": "@jupyter-widgets/controls",
            "_model_module_version": "1.5.0",
            "_model_name": "FloatProgressModel",
            "_view_count": null,
            "_view_module": "@jupyter-widgets/controls",
            "_view_module_version": "1.5.0",
            "_view_name": "ProgressView",
            "bar_style": "success",
            "description": "",
            "description_tooltip": null,
            "layout": "IPY_MODEL_a873e483d62b4e2e827b12f34961d217",
            "max": 1,
            "min": 0,
            "orientation": "horizontal",
            "style": "IPY_MODEL_ddf0fa8578254d5c97d1623251d964dd",
            "value": 1
          }
        },
        "e220e43096fb4101b6ed7427ede1d472": {
          "model_module": "@jupyter-widgets/controls",
          "model_name": "HTMLModel",
          "model_module_version": "1.5.0",
          "state": {
            "_dom_classes": [],
            "_model_module": "@jupyter-widgets/controls",
            "_model_module_version": "1.5.0",
            "_model_name": "HTMLModel",
            "_view_count": null,
            "_view_module": "@jupyter-widgets/controls",
            "_view_module_version": "1.5.0",
            "_view_name": "HTMLView",
            "description": "",
            "description_tooltip": null,
            "layout": "IPY_MODEL_122190c3388645fca9f8a19b9044d47f",
            "placeholder": "​",
            "style": "IPY_MODEL_e5d60b7677b446bd9f2f363601f179fe",
            "value": " 1/1 [00:00&lt;00:00, 24.93it/s]"
          }
        },
        "657f9c437e1f462fb3e8d5fb7edf2bed": {
          "model_module": "@jupyter-widgets/base",
          "model_name": "LayoutModel",
          "model_module_version": "1.2.0",
          "state": {
            "_model_module": "@jupyter-widgets/base",
            "_model_module_version": "1.2.0",
            "_model_name": "LayoutModel",
            "_view_count": null,
            "_view_module": "@jupyter-widgets/base",
            "_view_module_version": "1.2.0",
            "_view_name": "LayoutView",
            "align_content": null,
            "align_items": null,
            "align_self": null,
            "border": null,
            "bottom": null,
            "display": null,
            "flex": null,
            "flex_flow": null,
            "grid_area": null,
            "grid_auto_columns": null,
            "grid_auto_flow": null,
            "grid_auto_rows": null,
            "grid_column": null,
            "grid_gap": null,
            "grid_row": null,
            "grid_template_areas": null,
            "grid_template_columns": null,
            "grid_template_rows": null,
            "height": null,
            "justify_content": null,
            "justify_items": null,
            "left": null,
            "margin": null,
            "max_height": null,
            "max_width": null,
            "min_height": null,
            "min_width": null,
            "object_fit": null,
            "object_position": null,
            "order": null,
            "overflow": null,
            "overflow_x": null,
            "overflow_y": null,
            "padding": null,
            "right": null,
            "top": null,
            "visibility": null,
            "width": null
          }
        },
        "170e0736898a429e99834bea2ecf9fee": {
          "model_module": "@jupyter-widgets/base",
          "model_name": "LayoutModel",
          "model_module_version": "1.2.0",
          "state": {
            "_model_module": "@jupyter-widgets/base",
            "_model_module_version": "1.2.0",
            "_model_name": "LayoutModel",
            "_view_count": null,
            "_view_module": "@jupyter-widgets/base",
            "_view_module_version": "1.2.0",
            "_view_name": "LayoutView",
            "align_content": null,
            "align_items": null,
            "align_self": null,
            "border": null,
            "bottom": null,
            "display": null,
            "flex": null,
            "flex_flow": null,
            "grid_area": null,
            "grid_auto_columns": null,
            "grid_auto_flow": null,
            "grid_auto_rows": null,
            "grid_column": null,
            "grid_gap": null,
            "grid_row": null,
            "grid_template_areas": null,
            "grid_template_columns": null,
            "grid_template_rows": null,
            "height": null,
            "justify_content": null,
            "justify_items": null,
            "left": null,
            "margin": null,
            "max_height": null,
            "max_width": null,
            "min_height": null,
            "min_width": null,
            "object_fit": null,
            "object_position": null,
            "order": null,
            "overflow": null,
            "overflow_x": null,
            "overflow_y": null,
            "padding": null,
            "right": null,
            "top": null,
            "visibility": null,
            "width": null
          }
        },
        "c2d696ccb8114eeca25d1cee71ef4dc3": {
          "model_module": "@jupyter-widgets/controls",
          "model_name": "DescriptionStyleModel",
          "model_module_version": "1.5.0",
          "state": {
            "_model_module": "@jupyter-widgets/controls",
            "_model_module_version": "1.5.0",
            "_model_name": "DescriptionStyleModel",
            "_view_count": null,
            "_view_module": "@jupyter-widgets/base",
            "_view_module_version": "1.2.0",
            "_view_name": "StyleView",
            "description_width": ""
          }
        },
        "a873e483d62b4e2e827b12f34961d217": {
          "model_module": "@jupyter-widgets/base",
          "model_name": "LayoutModel",
          "model_module_version": "1.2.0",
          "state": {
            "_model_module": "@jupyter-widgets/base",
            "_model_module_version": "1.2.0",
            "_model_name": "LayoutModel",
            "_view_count": null,
            "_view_module": "@jupyter-widgets/base",
            "_view_module_version": "1.2.0",
            "_view_name": "LayoutView",
            "align_content": null,
            "align_items": null,
            "align_self": null,
            "border": null,
            "bottom": null,
            "display": null,
            "flex": null,
            "flex_flow": null,
            "grid_area": null,
            "grid_auto_columns": null,
            "grid_auto_flow": null,
            "grid_auto_rows": null,
            "grid_column": null,
            "grid_gap": null,
            "grid_row": null,
            "grid_template_areas": null,
            "grid_template_columns": null,
            "grid_template_rows": null,
            "height": null,
            "justify_content": null,
            "justify_items": null,
            "left": null,
            "margin": null,
            "max_height": null,
            "max_width": null,
            "min_height": null,
            "min_width": null,
            "object_fit": null,
            "object_position": null,
            "order": null,
            "overflow": null,
            "overflow_x": null,
            "overflow_y": null,
            "padding": null,
            "right": null,
            "top": null,
            "visibility": null,
            "width": null
          }
        },
        "ddf0fa8578254d5c97d1623251d964dd": {
          "model_module": "@jupyter-widgets/controls",
          "model_name": "ProgressStyleModel",
          "model_module_version": "1.5.0",
          "state": {
            "_model_module": "@jupyter-widgets/controls",
            "_model_module_version": "1.5.0",
            "_model_name": "ProgressStyleModel",
            "_view_count": null,
            "_view_module": "@jupyter-widgets/base",
            "_view_module_version": "1.2.0",
            "_view_name": "StyleView",
            "bar_color": null,
            "description_width": ""
          }
        },
        "122190c3388645fca9f8a19b9044d47f": {
          "model_module": "@jupyter-widgets/base",
          "model_name": "LayoutModel",
          "model_module_version": "1.2.0",
          "state": {
            "_model_module": "@jupyter-widgets/base",
            "_model_module_version": "1.2.0",
            "_model_name": "LayoutModel",
            "_view_count": null,
            "_view_module": "@jupyter-widgets/base",
            "_view_module_version": "1.2.0",
            "_view_name": "LayoutView",
            "align_content": null,
            "align_items": null,
            "align_self": null,
            "border": null,
            "bottom": null,
            "display": null,
            "flex": null,
            "flex_flow": null,
            "grid_area": null,
            "grid_auto_columns": null,
            "grid_auto_flow": null,
            "grid_auto_rows": null,
            "grid_column": null,
            "grid_gap": null,
            "grid_row": null,
            "grid_template_areas": null,
            "grid_template_columns": null,
            "grid_template_rows": null,
            "height": null,
            "justify_content": null,
            "justify_items": null,
            "left": null,
            "margin": null,
            "max_height": null,
            "max_width": null,
            "min_height": null,
            "min_width": null,
            "object_fit": null,
            "object_position": null,
            "order": null,
            "overflow": null,
            "overflow_x": null,
            "overflow_y": null,
            "padding": null,
            "right": null,
            "top": null,
            "visibility": null,
            "width": null
          }
        },
        "e5d60b7677b446bd9f2f363601f179fe": {
          "model_module": "@jupyter-widgets/controls",
          "model_name": "DescriptionStyleModel",
          "model_module_version": "1.5.0",
          "state": {
            "_model_module": "@jupyter-widgets/controls",
            "_model_module_version": "1.5.0",
            "_model_name": "DescriptionStyleModel",
            "_view_count": null,
            "_view_module": "@jupyter-widgets/base",
            "_view_module_version": "1.2.0",
            "_view_name": "StyleView",
            "description_width": ""
          }
        },
        "1a0c6ef2f11b4a8e8bc661497d72a100": {
          "model_module": "@jupyter-widgets/controls",
          "model_name": "HBoxModel",
          "model_module_version": "1.5.0",
          "state": {
            "_dom_classes": [],
            "_model_module": "@jupyter-widgets/controls",
            "_model_module_version": "1.5.0",
            "_model_name": "HBoxModel",
            "_view_count": null,
            "_view_module": "@jupyter-widgets/controls",
            "_view_module_version": "1.5.0",
            "_view_name": "HBoxView",
            "box_style": "",
            "children": [
              "IPY_MODEL_2048c1e6659d467980bcad961246c0d8",
              "IPY_MODEL_c89f52f8735842469738ee1a4189b45c",
              "IPY_MODEL_e60e931b9ac140ac89bdf1a1491de581"
            ],
            "layout": "IPY_MODEL_caeda059287f448b867ade062c47b4d3"
          }
        },
        "2048c1e6659d467980bcad961246c0d8": {
          "model_module": "@jupyter-widgets/controls",
          "model_name": "HTMLModel",
          "model_module_version": "1.5.0",
          "state": {
            "_dom_classes": [],
            "_model_module": "@jupyter-widgets/controls",
            "_model_module_version": "1.5.0",
            "_model_name": "HTMLModel",
            "_view_count": null,
            "_view_module": "@jupyter-widgets/controls",
            "_view_module_version": "1.5.0",
            "_view_name": "HTMLView",
            "description": "",
            "description_tooltip": null,
            "layout": "IPY_MODEL_40f1235dedc64864be95672a4d4e6298",
            "placeholder": "​",
            "style": "IPY_MODEL_49ebbae1da3b4092b97dfd9462f3f36d",
            "value": "Extracting data files: 100%"
          }
        },
        "c89f52f8735842469738ee1a4189b45c": {
          "model_module": "@jupyter-widgets/controls",
          "model_name": "FloatProgressModel",
          "model_module_version": "1.5.0",
          "state": {
            "_dom_classes": [],
            "_model_module": "@jupyter-widgets/controls",
            "_model_module_version": "1.5.0",
            "_model_name": "FloatProgressModel",
            "_view_count": null,
            "_view_module": "@jupyter-widgets/controls",
            "_view_module_version": "1.5.0",
            "_view_name": "ProgressView",
            "bar_style": "success",
            "description": "",
            "description_tooltip": null,
            "layout": "IPY_MODEL_00811ec010cc4413bd9a5120002474da",
            "max": 1,
            "min": 0,
            "orientation": "horizontal",
            "style": "IPY_MODEL_0079171bcf994e55b8e69ba78d5f54f4",
            "value": 1
          }
        },
        "e60e931b9ac140ac89bdf1a1491de581": {
          "model_module": "@jupyter-widgets/controls",
          "model_name": "HTMLModel",
          "model_module_version": "1.5.0",
          "state": {
            "_dom_classes": [],
            "_model_module": "@jupyter-widgets/controls",
            "_model_module_version": "1.5.0",
            "_model_name": "HTMLModel",
            "_view_count": null,
            "_view_module": "@jupyter-widgets/controls",
            "_view_module_version": "1.5.0",
            "_view_name": "HTMLView",
            "description": "",
            "description_tooltip": null,
            "layout": "IPY_MODEL_597c4bc4ce2748b3a08c1948dd1a8dca",
            "placeholder": "​",
            "style": "IPY_MODEL_048b457c08b94933b74f5c6b62084d67",
            "value": " 1/1 [00:00&lt;00:00, 17.77it/s]"
          }
        },
        "caeda059287f448b867ade062c47b4d3": {
          "model_module": "@jupyter-widgets/base",
          "model_name": "LayoutModel",
          "model_module_version": "1.2.0",
          "state": {
            "_model_module": "@jupyter-widgets/base",
            "_model_module_version": "1.2.0",
            "_model_name": "LayoutModel",
            "_view_count": null,
            "_view_module": "@jupyter-widgets/base",
            "_view_module_version": "1.2.0",
            "_view_name": "LayoutView",
            "align_content": null,
            "align_items": null,
            "align_self": null,
            "border": null,
            "bottom": null,
            "display": null,
            "flex": null,
            "flex_flow": null,
            "grid_area": null,
            "grid_auto_columns": null,
            "grid_auto_flow": null,
            "grid_auto_rows": null,
            "grid_column": null,
            "grid_gap": null,
            "grid_row": null,
            "grid_template_areas": null,
            "grid_template_columns": null,
            "grid_template_rows": null,
            "height": null,
            "justify_content": null,
            "justify_items": null,
            "left": null,
            "margin": null,
            "max_height": null,
            "max_width": null,
            "min_height": null,
            "min_width": null,
            "object_fit": null,
            "object_position": null,
            "order": null,
            "overflow": null,
            "overflow_x": null,
            "overflow_y": null,
            "padding": null,
            "right": null,
            "top": null,
            "visibility": null,
            "width": null
          }
        },
        "40f1235dedc64864be95672a4d4e6298": {
          "model_module": "@jupyter-widgets/base",
          "model_name": "LayoutModel",
          "model_module_version": "1.2.0",
          "state": {
            "_model_module": "@jupyter-widgets/base",
            "_model_module_version": "1.2.0",
            "_model_name": "LayoutModel",
            "_view_count": null,
            "_view_module": "@jupyter-widgets/base",
            "_view_module_version": "1.2.0",
            "_view_name": "LayoutView",
            "align_content": null,
            "align_items": null,
            "align_self": null,
            "border": null,
            "bottom": null,
            "display": null,
            "flex": null,
            "flex_flow": null,
            "grid_area": null,
            "grid_auto_columns": null,
            "grid_auto_flow": null,
            "grid_auto_rows": null,
            "grid_column": null,
            "grid_gap": null,
            "grid_row": null,
            "grid_template_areas": null,
            "grid_template_columns": null,
            "grid_template_rows": null,
            "height": null,
            "justify_content": null,
            "justify_items": null,
            "left": null,
            "margin": null,
            "max_height": null,
            "max_width": null,
            "min_height": null,
            "min_width": null,
            "object_fit": null,
            "object_position": null,
            "order": null,
            "overflow": null,
            "overflow_x": null,
            "overflow_y": null,
            "padding": null,
            "right": null,
            "top": null,
            "visibility": null,
            "width": null
          }
        },
        "49ebbae1da3b4092b97dfd9462f3f36d": {
          "model_module": "@jupyter-widgets/controls",
          "model_name": "DescriptionStyleModel",
          "model_module_version": "1.5.0",
          "state": {
            "_model_module": "@jupyter-widgets/controls",
            "_model_module_version": "1.5.0",
            "_model_name": "DescriptionStyleModel",
            "_view_count": null,
            "_view_module": "@jupyter-widgets/base",
            "_view_module_version": "1.2.0",
            "_view_name": "StyleView",
            "description_width": ""
          }
        },
        "00811ec010cc4413bd9a5120002474da": {
          "model_module": "@jupyter-widgets/base",
          "model_name": "LayoutModel",
          "model_module_version": "1.2.0",
          "state": {
            "_model_module": "@jupyter-widgets/base",
            "_model_module_version": "1.2.0",
            "_model_name": "LayoutModel",
            "_view_count": null,
            "_view_module": "@jupyter-widgets/base",
            "_view_module_version": "1.2.0",
            "_view_name": "LayoutView",
            "align_content": null,
            "align_items": null,
            "align_self": null,
            "border": null,
            "bottom": null,
            "display": null,
            "flex": null,
            "flex_flow": null,
            "grid_area": null,
            "grid_auto_columns": null,
            "grid_auto_flow": null,
            "grid_auto_rows": null,
            "grid_column": null,
            "grid_gap": null,
            "grid_row": null,
            "grid_template_areas": null,
            "grid_template_columns": null,
            "grid_template_rows": null,
            "height": null,
            "justify_content": null,
            "justify_items": null,
            "left": null,
            "margin": null,
            "max_height": null,
            "max_width": null,
            "min_height": null,
            "min_width": null,
            "object_fit": null,
            "object_position": null,
            "order": null,
            "overflow": null,
            "overflow_x": null,
            "overflow_y": null,
            "padding": null,
            "right": null,
            "top": null,
            "visibility": null,
            "width": null
          }
        },
        "0079171bcf994e55b8e69ba78d5f54f4": {
          "model_module": "@jupyter-widgets/controls",
          "model_name": "ProgressStyleModel",
          "model_module_version": "1.5.0",
          "state": {
            "_model_module": "@jupyter-widgets/controls",
            "_model_module_version": "1.5.0",
            "_model_name": "ProgressStyleModel",
            "_view_count": null,
            "_view_module": "@jupyter-widgets/base",
            "_view_module_version": "1.2.0",
            "_view_name": "StyleView",
            "bar_color": null,
            "description_width": ""
          }
        },
        "597c4bc4ce2748b3a08c1948dd1a8dca": {
          "model_module": "@jupyter-widgets/base",
          "model_name": "LayoutModel",
          "model_module_version": "1.2.0",
          "state": {
            "_model_module": "@jupyter-widgets/base",
            "_model_module_version": "1.2.0",
            "_model_name": "LayoutModel",
            "_view_count": null,
            "_view_module": "@jupyter-widgets/base",
            "_view_module_version": "1.2.0",
            "_view_name": "LayoutView",
            "align_content": null,
            "align_items": null,
            "align_self": null,
            "border": null,
            "bottom": null,
            "display": null,
            "flex": null,
            "flex_flow": null,
            "grid_area": null,
            "grid_auto_columns": null,
            "grid_auto_flow": null,
            "grid_auto_rows": null,
            "grid_column": null,
            "grid_gap": null,
            "grid_row": null,
            "grid_template_areas": null,
            "grid_template_columns": null,
            "grid_template_rows": null,
            "height": null,
            "justify_content": null,
            "justify_items": null,
            "left": null,
            "margin": null,
            "max_height": null,
            "max_width": null,
            "min_height": null,
            "min_width": null,
            "object_fit": null,
            "object_position": null,
            "order": null,
            "overflow": null,
            "overflow_x": null,
            "overflow_y": null,
            "padding": null,
            "right": null,
            "top": null,
            "visibility": null,
            "width": null
          }
        },
        "048b457c08b94933b74f5c6b62084d67": {
          "model_module": "@jupyter-widgets/controls",
          "model_name": "DescriptionStyleModel",
          "model_module_version": "1.5.0",
          "state": {
            "_model_module": "@jupyter-widgets/controls",
            "_model_module_version": "1.5.0",
            "_model_name": "DescriptionStyleModel",
            "_view_count": null,
            "_view_module": "@jupyter-widgets/base",
            "_view_module_version": "1.2.0",
            "_view_name": "StyleView",
            "description_width": ""
          }
        },
        "380d7c77f8bb4042b60dcaaf037c3a76": {
          "model_module": "@jupyter-widgets/controls",
          "model_name": "HBoxModel",
          "model_module_version": "1.5.0",
          "state": {
            "_dom_classes": [],
            "_model_module": "@jupyter-widgets/controls",
            "_model_module_version": "1.5.0",
            "_model_name": "HBoxModel",
            "_view_count": null,
            "_view_module": "@jupyter-widgets/controls",
            "_view_module_version": "1.5.0",
            "_view_name": "HBoxView",
            "box_style": "",
            "children": [
              "IPY_MODEL_a3bfab76f803486ba4cd3211afac0f07",
              "IPY_MODEL_1a358657125e4e6eb0a4102862fc095d",
              "IPY_MODEL_2edf681069e6450b9570034f33981f65"
            ],
            "layout": "IPY_MODEL_a7748daace8043bc8288e2cb713484c8"
          }
        },
        "a3bfab76f803486ba4cd3211afac0f07": {
          "model_module": "@jupyter-widgets/controls",
          "model_name": "HTMLModel",
          "model_module_version": "1.5.0",
          "state": {
            "_dom_classes": [],
            "_model_module": "@jupyter-widgets/controls",
            "_model_module_version": "1.5.0",
            "_model_name": "HTMLModel",
            "_view_count": null,
            "_view_module": "@jupyter-widgets/controls",
            "_view_module_version": "1.5.0",
            "_view_name": "HTMLView",
            "description": "",
            "description_tooltip": null,
            "layout": "IPY_MODEL_3bc8b6c20bb849b188c02d9106ed342e",
            "placeholder": "​",
            "style": "IPY_MODEL_6e4dadcad3c84694a296eae9c5b4323d",
            "value": ""
          }
        },
        "1a358657125e4e6eb0a4102862fc095d": {
          "model_module": "@jupyter-widgets/controls",
          "model_name": "FloatProgressModel",
          "model_module_version": "1.5.0",
          "state": {
            "_dom_classes": [],
            "_model_module": "@jupyter-widgets/controls",
            "_model_module_version": "1.5.0",
            "_model_name": "FloatProgressModel",
            "_view_count": null,
            "_view_module": "@jupyter-widgets/controls",
            "_view_module_version": "1.5.0",
            "_view_name": "ProgressView",
            "bar_style": "info",
            "description": "",
            "description_tooltip": null,
            "layout": "IPY_MODEL_f432e53c3e5b4de689145dbdab09016b",
            "max": 1,
            "min": 0,
            "orientation": "horizontal",
            "style": "IPY_MODEL_053eb0c3d8d04b0b81e76982489a960d",
            "value": 1
          }
        },
        "2edf681069e6450b9570034f33981f65": {
          "model_module": "@jupyter-widgets/controls",
          "model_name": "HTMLModel",
          "model_module_version": "1.5.0",
          "state": {
            "_dom_classes": [],
            "_model_module": "@jupyter-widgets/controls",
            "_model_module_version": "1.5.0",
            "_model_name": "HTMLModel",
            "_view_count": null,
            "_view_module": "@jupyter-widgets/controls",
            "_view_module_version": "1.5.0",
            "_view_name": "HTMLView",
            "description": "",
            "description_tooltip": null,
            "layout": "IPY_MODEL_2e6fe16b40664ab89e96cc3f95a8c673",
            "placeholder": "​",
            "style": "IPY_MODEL_e0fcbbaf869345adb7f1130b764529d1",
            "value": " 0/? [00:00&lt;?, ? tables/s]"
          }
        },
        "a7748daace8043bc8288e2cb713484c8": {
          "model_module": "@jupyter-widgets/base",
          "model_name": "LayoutModel",
          "model_module_version": "1.2.0",
          "state": {
            "_model_module": "@jupyter-widgets/base",
            "_model_module_version": "1.2.0",
            "_model_name": "LayoutModel",
            "_view_count": null,
            "_view_module": "@jupyter-widgets/base",
            "_view_module_version": "1.2.0",
            "_view_name": "LayoutView",
            "align_content": null,
            "align_items": null,
            "align_self": null,
            "border": null,
            "bottom": null,
            "display": null,
            "flex": null,
            "flex_flow": null,
            "grid_area": null,
            "grid_auto_columns": null,
            "grid_auto_flow": null,
            "grid_auto_rows": null,
            "grid_column": null,
            "grid_gap": null,
            "grid_row": null,
            "grid_template_areas": null,
            "grid_template_columns": null,
            "grid_template_rows": null,
            "height": null,
            "justify_content": null,
            "justify_items": null,
            "left": null,
            "margin": null,
            "max_height": null,
            "max_width": null,
            "min_height": null,
            "min_width": null,
            "object_fit": null,
            "object_position": null,
            "order": null,
            "overflow": null,
            "overflow_x": null,
            "overflow_y": null,
            "padding": null,
            "right": null,
            "top": null,
            "visibility": null,
            "width": null
          }
        },
        "3bc8b6c20bb849b188c02d9106ed342e": {
          "model_module": "@jupyter-widgets/base",
          "model_name": "LayoutModel",
          "model_module_version": "1.2.0",
          "state": {
            "_model_module": "@jupyter-widgets/base",
            "_model_module_version": "1.2.0",
            "_model_name": "LayoutModel",
            "_view_count": null,
            "_view_module": "@jupyter-widgets/base",
            "_view_module_version": "1.2.0",
            "_view_name": "LayoutView",
            "align_content": null,
            "align_items": null,
            "align_self": null,
            "border": null,
            "bottom": null,
            "display": null,
            "flex": null,
            "flex_flow": null,
            "grid_area": null,
            "grid_auto_columns": null,
            "grid_auto_flow": null,
            "grid_auto_rows": null,
            "grid_column": null,
            "grid_gap": null,
            "grid_row": null,
            "grid_template_areas": null,
            "grid_template_columns": null,
            "grid_template_rows": null,
            "height": null,
            "justify_content": null,
            "justify_items": null,
            "left": null,
            "margin": null,
            "max_height": null,
            "max_width": null,
            "min_height": null,
            "min_width": null,
            "object_fit": null,
            "object_position": null,
            "order": null,
            "overflow": null,
            "overflow_x": null,
            "overflow_y": null,
            "padding": null,
            "right": null,
            "top": null,
            "visibility": null,
            "width": null
          }
        },
        "6e4dadcad3c84694a296eae9c5b4323d": {
          "model_module": "@jupyter-widgets/controls",
          "model_name": "DescriptionStyleModel",
          "model_module_version": "1.5.0",
          "state": {
            "_model_module": "@jupyter-widgets/controls",
            "_model_module_version": "1.5.0",
            "_model_name": "DescriptionStyleModel",
            "_view_count": null,
            "_view_module": "@jupyter-widgets/base",
            "_view_module_version": "1.2.0",
            "_view_name": "StyleView",
            "description_width": ""
          }
        },
        "f432e53c3e5b4de689145dbdab09016b": {
          "model_module": "@jupyter-widgets/base",
          "model_name": "LayoutModel",
          "model_module_version": "1.2.0",
          "state": {
            "_model_module": "@jupyter-widgets/base",
            "_model_module_version": "1.2.0",
            "_model_name": "LayoutModel",
            "_view_count": null,
            "_view_module": "@jupyter-widgets/base",
            "_view_module_version": "1.2.0",
            "_view_name": "LayoutView",
            "align_content": null,
            "align_items": null,
            "align_self": null,
            "border": null,
            "bottom": null,
            "display": null,
            "flex": null,
            "flex_flow": null,
            "grid_area": null,
            "grid_auto_columns": null,
            "grid_auto_flow": null,
            "grid_auto_rows": null,
            "grid_column": null,
            "grid_gap": null,
            "grid_row": null,
            "grid_template_areas": null,
            "grid_template_columns": null,
            "grid_template_rows": null,
            "height": null,
            "justify_content": null,
            "justify_items": null,
            "left": null,
            "margin": null,
            "max_height": null,
            "max_width": null,
            "min_height": null,
            "min_width": null,
            "object_fit": null,
            "object_position": null,
            "order": null,
            "overflow": null,
            "overflow_x": null,
            "overflow_y": null,
            "padding": null,
            "right": null,
            "top": null,
            "visibility": null,
            "width": "20px"
          }
        },
        "053eb0c3d8d04b0b81e76982489a960d": {
          "model_module": "@jupyter-widgets/controls",
          "model_name": "ProgressStyleModel",
          "model_module_version": "1.5.0",
          "state": {
            "_model_module": "@jupyter-widgets/controls",
            "_model_module_version": "1.5.0",
            "_model_name": "ProgressStyleModel",
            "_view_count": null,
            "_view_module": "@jupyter-widgets/base",
            "_view_module_version": "1.2.0",
            "_view_name": "StyleView",
            "bar_color": null,
            "description_width": ""
          }
        },
        "2e6fe16b40664ab89e96cc3f95a8c673": {
          "model_module": "@jupyter-widgets/base",
          "model_name": "LayoutModel",
          "model_module_version": "1.2.0",
          "state": {
            "_model_module": "@jupyter-widgets/base",
            "_model_module_version": "1.2.0",
            "_model_name": "LayoutModel",
            "_view_count": null,
            "_view_module": "@jupyter-widgets/base",
            "_view_module_version": "1.2.0",
            "_view_name": "LayoutView",
            "align_content": null,
            "align_items": null,
            "align_self": null,
            "border": null,
            "bottom": null,
            "display": null,
            "flex": null,
            "flex_flow": null,
            "grid_area": null,
            "grid_auto_columns": null,
            "grid_auto_flow": null,
            "grid_auto_rows": null,
            "grid_column": null,
            "grid_gap": null,
            "grid_row": null,
            "grid_template_areas": null,
            "grid_template_columns": null,
            "grid_template_rows": null,
            "height": null,
            "justify_content": null,
            "justify_items": null,
            "left": null,
            "margin": null,
            "max_height": null,
            "max_width": null,
            "min_height": null,
            "min_width": null,
            "object_fit": null,
            "object_position": null,
            "order": null,
            "overflow": null,
            "overflow_x": null,
            "overflow_y": null,
            "padding": null,
            "right": null,
            "top": null,
            "visibility": null,
            "width": null
          }
        },
        "e0fcbbaf869345adb7f1130b764529d1": {
          "model_module": "@jupyter-widgets/controls",
          "model_name": "DescriptionStyleModel",
          "model_module_version": "1.5.0",
          "state": {
            "_model_module": "@jupyter-widgets/controls",
            "_model_module_version": "1.5.0",
            "_model_name": "DescriptionStyleModel",
            "_view_count": null,
            "_view_module": "@jupyter-widgets/base",
            "_view_module_version": "1.2.0",
            "_view_name": "StyleView",
            "description_width": ""
          }
        },
        "960811706e3243bbb134e2b38512b8db": {
          "model_module": "@jupyter-widgets/controls",
          "model_name": "HBoxModel",
          "model_module_version": "1.5.0",
          "state": {
            "_dom_classes": [],
            "_model_module": "@jupyter-widgets/controls",
            "_model_module_version": "1.5.0",
            "_model_name": "HBoxModel",
            "_view_count": null,
            "_view_module": "@jupyter-widgets/controls",
            "_view_module_version": "1.5.0",
            "_view_name": "HBoxView",
            "box_style": "",
            "children": [
              "IPY_MODEL_fd92ea1ae6444b8b90b7915a36270054",
              "IPY_MODEL_8217fa888c29422ca5955c9870e47c39",
              "IPY_MODEL_1a40eb947539457597ee2a87810280d3"
            ],
            "layout": "IPY_MODEL_44fd79adb0e64d1da626998202580996"
          }
        },
        "fd92ea1ae6444b8b90b7915a36270054": {
          "model_module": "@jupyter-widgets/controls",
          "model_name": "HTMLModel",
          "model_module_version": "1.5.0",
          "state": {
            "_dom_classes": [],
            "_model_module": "@jupyter-widgets/controls",
            "_model_module_version": "1.5.0",
            "_model_name": "HTMLModel",
            "_view_count": null,
            "_view_module": "@jupyter-widgets/controls",
            "_view_module_version": "1.5.0",
            "_view_name": "HTMLView",
            "description": "",
            "description_tooltip": null,
            "layout": "IPY_MODEL_3e405c591e0c4d0ab7a6c4c703abf8c4",
            "placeholder": "​",
            "style": "IPY_MODEL_ffc5b0de9c634102a5c27ba1b057f769",
            "value": "100%"
          }
        },
        "8217fa888c29422ca5955c9870e47c39": {
          "model_module": "@jupyter-widgets/controls",
          "model_name": "FloatProgressModel",
          "model_module_version": "1.5.0",
          "state": {
            "_dom_classes": [],
            "_model_module": "@jupyter-widgets/controls",
            "_model_module_version": "1.5.0",
            "_model_name": "FloatProgressModel",
            "_view_count": null,
            "_view_module": "@jupyter-widgets/controls",
            "_view_module_version": "1.5.0",
            "_view_name": "ProgressView",
            "bar_style": "success",
            "description": "",
            "description_tooltip": null,
            "layout": "IPY_MODEL_d2dbc91fc94e4085a34bb496f9c9784d",
            "max": 1,
            "min": 0,
            "orientation": "horizontal",
            "style": "IPY_MODEL_a0f73fd53a83444ba0bf2c6384a5f8b0",
            "value": 1
          }
        },
        "1a40eb947539457597ee2a87810280d3": {
          "model_module": "@jupyter-widgets/controls",
          "model_name": "HTMLModel",
          "model_module_version": "1.5.0",
          "state": {
            "_dom_classes": [],
            "_model_module": "@jupyter-widgets/controls",
            "_model_module_version": "1.5.0",
            "_model_name": "HTMLModel",
            "_view_count": null,
            "_view_module": "@jupyter-widgets/controls",
            "_view_module_version": "1.5.0",
            "_view_name": "HTMLView",
            "description": "",
            "description_tooltip": null,
            "layout": "IPY_MODEL_7a6f543b543b422399d30410911b5016",
            "placeholder": "​",
            "style": "IPY_MODEL_58a6bc32c9b244b697fb01e27e005315",
            "value": " 1/1 [00:00&lt;00:00, 31.09it/s]"
          }
        },
        "44fd79adb0e64d1da626998202580996": {
          "model_module": "@jupyter-widgets/base",
          "model_name": "LayoutModel",
          "model_module_version": "1.2.0",
          "state": {
            "_model_module": "@jupyter-widgets/base",
            "_model_module_version": "1.2.0",
            "_model_name": "LayoutModel",
            "_view_count": null,
            "_view_module": "@jupyter-widgets/base",
            "_view_module_version": "1.2.0",
            "_view_name": "LayoutView",
            "align_content": null,
            "align_items": null,
            "align_self": null,
            "border": null,
            "bottom": null,
            "display": null,
            "flex": null,
            "flex_flow": null,
            "grid_area": null,
            "grid_auto_columns": null,
            "grid_auto_flow": null,
            "grid_auto_rows": null,
            "grid_column": null,
            "grid_gap": null,
            "grid_row": null,
            "grid_template_areas": null,
            "grid_template_columns": null,
            "grid_template_rows": null,
            "height": null,
            "justify_content": null,
            "justify_items": null,
            "left": null,
            "margin": null,
            "max_height": null,
            "max_width": null,
            "min_height": null,
            "min_width": null,
            "object_fit": null,
            "object_position": null,
            "order": null,
            "overflow": null,
            "overflow_x": null,
            "overflow_y": null,
            "padding": null,
            "right": null,
            "top": null,
            "visibility": null,
            "width": null
          }
        },
        "3e405c591e0c4d0ab7a6c4c703abf8c4": {
          "model_module": "@jupyter-widgets/base",
          "model_name": "LayoutModel",
          "model_module_version": "1.2.0",
          "state": {
            "_model_module": "@jupyter-widgets/base",
            "_model_module_version": "1.2.0",
            "_model_name": "LayoutModel",
            "_view_count": null,
            "_view_module": "@jupyter-widgets/base",
            "_view_module_version": "1.2.0",
            "_view_name": "LayoutView",
            "align_content": null,
            "align_items": null,
            "align_self": null,
            "border": null,
            "bottom": null,
            "display": null,
            "flex": null,
            "flex_flow": null,
            "grid_area": null,
            "grid_auto_columns": null,
            "grid_auto_flow": null,
            "grid_auto_rows": null,
            "grid_column": null,
            "grid_gap": null,
            "grid_row": null,
            "grid_template_areas": null,
            "grid_template_columns": null,
            "grid_template_rows": null,
            "height": null,
            "justify_content": null,
            "justify_items": null,
            "left": null,
            "margin": null,
            "max_height": null,
            "max_width": null,
            "min_height": null,
            "min_width": null,
            "object_fit": null,
            "object_position": null,
            "order": null,
            "overflow": null,
            "overflow_x": null,
            "overflow_y": null,
            "padding": null,
            "right": null,
            "top": null,
            "visibility": null,
            "width": null
          }
        },
        "ffc5b0de9c634102a5c27ba1b057f769": {
          "model_module": "@jupyter-widgets/controls",
          "model_name": "DescriptionStyleModel",
          "model_module_version": "1.5.0",
          "state": {
            "_model_module": "@jupyter-widgets/controls",
            "_model_module_version": "1.5.0",
            "_model_name": "DescriptionStyleModel",
            "_view_count": null,
            "_view_module": "@jupyter-widgets/base",
            "_view_module_version": "1.2.0",
            "_view_name": "StyleView",
            "description_width": ""
          }
        },
        "d2dbc91fc94e4085a34bb496f9c9784d": {
          "model_module": "@jupyter-widgets/base",
          "model_name": "LayoutModel",
          "model_module_version": "1.2.0",
          "state": {
            "_model_module": "@jupyter-widgets/base",
            "_model_module_version": "1.2.0",
            "_model_name": "LayoutModel",
            "_view_count": null,
            "_view_module": "@jupyter-widgets/base",
            "_view_module_version": "1.2.0",
            "_view_name": "LayoutView",
            "align_content": null,
            "align_items": null,
            "align_self": null,
            "border": null,
            "bottom": null,
            "display": null,
            "flex": null,
            "flex_flow": null,
            "grid_area": null,
            "grid_auto_columns": null,
            "grid_auto_flow": null,
            "grid_auto_rows": null,
            "grid_column": null,
            "grid_gap": null,
            "grid_row": null,
            "grid_template_areas": null,
            "grid_template_columns": null,
            "grid_template_rows": null,
            "height": null,
            "justify_content": null,
            "justify_items": null,
            "left": null,
            "margin": null,
            "max_height": null,
            "max_width": null,
            "min_height": null,
            "min_width": null,
            "object_fit": null,
            "object_position": null,
            "order": null,
            "overflow": null,
            "overflow_x": null,
            "overflow_y": null,
            "padding": null,
            "right": null,
            "top": null,
            "visibility": null,
            "width": null
          }
        },
        "a0f73fd53a83444ba0bf2c6384a5f8b0": {
          "model_module": "@jupyter-widgets/controls",
          "model_name": "ProgressStyleModel",
          "model_module_version": "1.5.0",
          "state": {
            "_model_module": "@jupyter-widgets/controls",
            "_model_module_version": "1.5.0",
            "_model_name": "ProgressStyleModel",
            "_view_count": null,
            "_view_module": "@jupyter-widgets/base",
            "_view_module_version": "1.2.0",
            "_view_name": "StyleView",
            "bar_color": null,
            "description_width": ""
          }
        },
        "7a6f543b543b422399d30410911b5016": {
          "model_module": "@jupyter-widgets/base",
          "model_name": "LayoutModel",
          "model_module_version": "1.2.0",
          "state": {
            "_model_module": "@jupyter-widgets/base",
            "_model_module_version": "1.2.0",
            "_model_name": "LayoutModel",
            "_view_count": null,
            "_view_module": "@jupyter-widgets/base",
            "_view_module_version": "1.2.0",
            "_view_name": "LayoutView",
            "align_content": null,
            "align_items": null,
            "align_self": null,
            "border": null,
            "bottom": null,
            "display": null,
            "flex": null,
            "flex_flow": null,
            "grid_area": null,
            "grid_auto_columns": null,
            "grid_auto_flow": null,
            "grid_auto_rows": null,
            "grid_column": null,
            "grid_gap": null,
            "grid_row": null,
            "grid_template_areas": null,
            "grid_template_columns": null,
            "grid_template_rows": null,
            "height": null,
            "justify_content": null,
            "justify_items": null,
            "left": null,
            "margin": null,
            "max_height": null,
            "max_width": null,
            "min_height": null,
            "min_width": null,
            "object_fit": null,
            "object_position": null,
            "order": null,
            "overflow": null,
            "overflow_x": null,
            "overflow_y": null,
            "padding": null,
            "right": null,
            "top": null,
            "visibility": null,
            "width": null
          }
        },
        "58a6bc32c9b244b697fb01e27e005315": {
          "model_module": "@jupyter-widgets/controls",
          "model_name": "DescriptionStyleModel",
          "model_module_version": "1.5.0",
          "state": {
            "_model_module": "@jupyter-widgets/controls",
            "_model_module_version": "1.5.0",
            "_model_name": "DescriptionStyleModel",
            "_view_count": null,
            "_view_module": "@jupyter-widgets/base",
            "_view_module_version": "1.2.0",
            "_view_name": "StyleView",
            "description_width": ""
          }
        },
        "93a57542e36241e48c8874ddb8054f9b": {
          "model_module": "@jupyter-widgets/controls",
          "model_name": "HBoxModel",
          "model_module_version": "1.5.0",
          "state": {
            "_dom_classes": [],
            "_model_module": "@jupyter-widgets/controls",
            "_model_module_version": "1.5.0",
            "_model_name": "HBoxModel",
            "_view_count": null,
            "_view_module": "@jupyter-widgets/controls",
            "_view_module_version": "1.5.0",
            "_view_name": "HBoxView",
            "box_style": "",
            "children": [
              "IPY_MODEL_b015efcefb414350b0c580766fe50c07",
              "IPY_MODEL_9a3051ac94e3451db284809febcc8896",
              "IPY_MODEL_a40bc0bd20ef43569bb7de75c0f0bb48"
            ],
            "layout": "IPY_MODEL_a7ae2ac4feb6461c9450ac91aacdafe3"
          }
        },
        "b015efcefb414350b0c580766fe50c07": {
          "model_module": "@jupyter-widgets/controls",
          "model_name": "HTMLModel",
          "model_module_version": "1.5.0",
          "state": {
            "_dom_classes": [],
            "_model_module": "@jupyter-widgets/controls",
            "_model_module_version": "1.5.0",
            "_model_name": "HTMLModel",
            "_view_count": null,
            "_view_module": "@jupyter-widgets/controls",
            "_view_module_version": "1.5.0",
            "_view_name": "HTMLView",
            "description": "",
            "description_tooltip": null,
            "layout": "IPY_MODEL_a47c987ba5d44ca089b3cfed3388ec8c",
            "placeholder": "​",
            "style": "IPY_MODEL_e2f2c494885c422f96e51c22bf539069",
            "value": "100%"
          }
        },
        "9a3051ac94e3451db284809febcc8896": {
          "model_module": "@jupyter-widgets/controls",
          "model_name": "FloatProgressModel",
          "model_module_version": "1.5.0",
          "state": {
            "_dom_classes": [],
            "_model_module": "@jupyter-widgets/controls",
            "_model_module_version": "1.5.0",
            "_model_name": "FloatProgressModel",
            "_view_count": null,
            "_view_module": "@jupyter-widgets/controls",
            "_view_module_version": "1.5.0",
            "_view_name": "ProgressView",
            "bar_style": "success",
            "description": "",
            "description_tooltip": null,
            "layout": "IPY_MODEL_1b375e3e2080401fb7d03490d9f49ffd",
            "max": 4,
            "min": 0,
            "orientation": "horizontal",
            "style": "IPY_MODEL_68363954b3734ed3972cee40784b5b30",
            "value": 4
          }
        },
        "a40bc0bd20ef43569bb7de75c0f0bb48": {
          "model_module": "@jupyter-widgets/controls",
          "model_name": "HTMLModel",
          "model_module_version": "1.5.0",
          "state": {
            "_dom_classes": [],
            "_model_module": "@jupyter-widgets/controls",
            "_model_module_version": "1.5.0",
            "_model_name": "HTMLModel",
            "_view_count": null,
            "_view_module": "@jupyter-widgets/controls",
            "_view_module_version": "1.5.0",
            "_view_name": "HTMLView",
            "description": "",
            "description_tooltip": null,
            "layout": "IPY_MODEL_0f953f88844d49ae90019880851974c6",
            "placeholder": "​",
            "style": "IPY_MODEL_cf5447d2256b4438a1afc0c21ad77235",
            "value": " 4/4 [00:00&lt;00:00,  4.68ba/s]"
          }
        },
        "a7ae2ac4feb6461c9450ac91aacdafe3": {
          "model_module": "@jupyter-widgets/base",
          "model_name": "LayoutModel",
          "model_module_version": "1.2.0",
          "state": {
            "_model_module": "@jupyter-widgets/base",
            "_model_module_version": "1.2.0",
            "_model_name": "LayoutModel",
            "_view_count": null,
            "_view_module": "@jupyter-widgets/base",
            "_view_module_version": "1.2.0",
            "_view_name": "LayoutView",
            "align_content": null,
            "align_items": null,
            "align_self": null,
            "border": null,
            "bottom": null,
            "display": null,
            "flex": null,
            "flex_flow": null,
            "grid_area": null,
            "grid_auto_columns": null,
            "grid_auto_flow": null,
            "grid_auto_rows": null,
            "grid_column": null,
            "grid_gap": null,
            "grid_row": null,
            "grid_template_areas": null,
            "grid_template_columns": null,
            "grid_template_rows": null,
            "height": null,
            "justify_content": null,
            "justify_items": null,
            "left": null,
            "margin": null,
            "max_height": null,
            "max_width": null,
            "min_height": null,
            "min_width": null,
            "object_fit": null,
            "object_position": null,
            "order": null,
            "overflow": null,
            "overflow_x": null,
            "overflow_y": null,
            "padding": null,
            "right": null,
            "top": null,
            "visibility": null,
            "width": null
          }
        },
        "a47c987ba5d44ca089b3cfed3388ec8c": {
          "model_module": "@jupyter-widgets/base",
          "model_name": "LayoutModel",
          "model_module_version": "1.2.0",
          "state": {
            "_model_module": "@jupyter-widgets/base",
            "_model_module_version": "1.2.0",
            "_model_name": "LayoutModel",
            "_view_count": null,
            "_view_module": "@jupyter-widgets/base",
            "_view_module_version": "1.2.0",
            "_view_name": "LayoutView",
            "align_content": null,
            "align_items": null,
            "align_self": null,
            "border": null,
            "bottom": null,
            "display": null,
            "flex": null,
            "flex_flow": null,
            "grid_area": null,
            "grid_auto_columns": null,
            "grid_auto_flow": null,
            "grid_auto_rows": null,
            "grid_column": null,
            "grid_gap": null,
            "grid_row": null,
            "grid_template_areas": null,
            "grid_template_columns": null,
            "grid_template_rows": null,
            "height": null,
            "justify_content": null,
            "justify_items": null,
            "left": null,
            "margin": null,
            "max_height": null,
            "max_width": null,
            "min_height": null,
            "min_width": null,
            "object_fit": null,
            "object_position": null,
            "order": null,
            "overflow": null,
            "overflow_x": null,
            "overflow_y": null,
            "padding": null,
            "right": null,
            "top": null,
            "visibility": null,
            "width": null
          }
        },
        "e2f2c494885c422f96e51c22bf539069": {
          "model_module": "@jupyter-widgets/controls",
          "model_name": "DescriptionStyleModel",
          "model_module_version": "1.5.0",
          "state": {
            "_model_module": "@jupyter-widgets/controls",
            "_model_module_version": "1.5.0",
            "_model_name": "DescriptionStyleModel",
            "_view_count": null,
            "_view_module": "@jupyter-widgets/base",
            "_view_module_version": "1.2.0",
            "_view_name": "StyleView",
            "description_width": ""
          }
        },
        "1b375e3e2080401fb7d03490d9f49ffd": {
          "model_module": "@jupyter-widgets/base",
          "model_name": "LayoutModel",
          "model_module_version": "1.2.0",
          "state": {
            "_model_module": "@jupyter-widgets/base",
            "_model_module_version": "1.2.0",
            "_model_name": "LayoutModel",
            "_view_count": null,
            "_view_module": "@jupyter-widgets/base",
            "_view_module_version": "1.2.0",
            "_view_name": "LayoutView",
            "align_content": null,
            "align_items": null,
            "align_self": null,
            "border": null,
            "bottom": null,
            "display": null,
            "flex": null,
            "flex_flow": null,
            "grid_area": null,
            "grid_auto_columns": null,
            "grid_auto_flow": null,
            "grid_auto_rows": null,
            "grid_column": null,
            "grid_gap": null,
            "grid_row": null,
            "grid_template_areas": null,
            "grid_template_columns": null,
            "grid_template_rows": null,
            "height": null,
            "justify_content": null,
            "justify_items": null,
            "left": null,
            "margin": null,
            "max_height": null,
            "max_width": null,
            "min_height": null,
            "min_width": null,
            "object_fit": null,
            "object_position": null,
            "order": null,
            "overflow": null,
            "overflow_x": null,
            "overflow_y": null,
            "padding": null,
            "right": null,
            "top": null,
            "visibility": null,
            "width": null
          }
        },
        "68363954b3734ed3972cee40784b5b30": {
          "model_module": "@jupyter-widgets/controls",
          "model_name": "ProgressStyleModel",
          "model_module_version": "1.5.0",
          "state": {
            "_model_module": "@jupyter-widgets/controls",
            "_model_module_version": "1.5.0",
            "_model_name": "ProgressStyleModel",
            "_view_count": null,
            "_view_module": "@jupyter-widgets/base",
            "_view_module_version": "1.2.0",
            "_view_name": "StyleView",
            "bar_color": null,
            "description_width": ""
          }
        },
        "0f953f88844d49ae90019880851974c6": {
          "model_module": "@jupyter-widgets/base",
          "model_name": "LayoutModel",
          "model_module_version": "1.2.0",
          "state": {
            "_model_module": "@jupyter-widgets/base",
            "_model_module_version": "1.2.0",
            "_model_name": "LayoutModel",
            "_view_count": null,
            "_view_module": "@jupyter-widgets/base",
            "_view_module_version": "1.2.0",
            "_view_name": "LayoutView",
            "align_content": null,
            "align_items": null,
            "align_self": null,
            "border": null,
            "bottom": null,
            "display": null,
            "flex": null,
            "flex_flow": null,
            "grid_area": null,
            "grid_auto_columns": null,
            "grid_auto_flow": null,
            "grid_auto_rows": null,
            "grid_column": null,
            "grid_gap": null,
            "grid_row": null,
            "grid_template_areas": null,
            "grid_template_columns": null,
            "grid_template_rows": null,
            "height": null,
            "justify_content": null,
            "justify_items": null,
            "left": null,
            "margin": null,
            "max_height": null,
            "max_width": null,
            "min_height": null,
            "min_width": null,
            "object_fit": null,
            "object_position": null,
            "order": null,
            "overflow": null,
            "overflow_x": null,
            "overflow_y": null,
            "padding": null,
            "right": null,
            "top": null,
            "visibility": null,
            "width": null
          }
        },
        "cf5447d2256b4438a1afc0c21ad77235": {
          "model_module": "@jupyter-widgets/controls",
          "model_name": "DescriptionStyleModel",
          "model_module_version": "1.5.0",
          "state": {
            "_model_module": "@jupyter-widgets/controls",
            "_model_module_version": "1.5.0",
            "_model_name": "DescriptionStyleModel",
            "_view_count": null,
            "_view_module": "@jupyter-widgets/base",
            "_view_module_version": "1.2.0",
            "_view_name": "StyleView",
            "description_width": ""
          }
        }
      }
    }
  },
  "cells": [
    {
      "cell_type": "markdown",
      "source": [
        "<h1 align=\"center\">Automate detection and recognition of grammatical errors</h1>"
      ],
      "metadata": {
        "id": "xBMeb0e0zJgZ"
      }
    },
    {
      "cell_type": "markdown",
      "source": [
        "<table align=\"center\" style=\"width:200%\">\n",
        "  <tr>\n",
        "    <td >Name of the student:</td>\n",
        "    <td>Adithya Subramani R</td>\n",
        "  </tr>\n",
        "  <tr>\n",
        "    <td>Internship project title:</td>\n",
        "    <td>Automate detection and recognition of grammatical errors</td>\n",
        "  </tr>\n",
        "  <tr>\n",
        "    <td>Name of the organization: </td>\n",
        "    <td>TCS iON</td>\n",
        "  </tr>\n",
        "  <tr>\n",
        "    <td>Name of the industry men:</td>\n",
        "    <td>Debashis Roy</td>\n",
        "  </tr>\n",
        "  <tr>\n",
        "    <td>Name of the institute:</td>\n",
        "    <td>Anna University,MIT Campus</td>\n",
        "  </tr>\n",
        "</table> "
      ],
      "metadata": {
        "id": "u6p_6LoG0KF3"
      }
    },
    {
      "cell_type": "markdown",
      "source": [
        "# Introduction\n"
      ],
      "metadata": {
        "id": "mLNPZ8VbAzyv"
      }
    },
    {
      "cell_type": "markdown",
      "source": [
        "---\n",
        "* <b>Aim</b>:\n",
        "To develop machine learning and deep learning algorithms in order to perform preprocessing of input text with or without grammatical errors, with an intent to first detect grammatical errors and then correct them according to the grammatical rules of the language.\n",
        "---\n",
        "* <b>Expected project outcomes:</b>\n",
        "  1. Algorithm to identify grammatical errors.\n",
        "  2. Reasonable proof of accuracy\n",
        "---\n",
        "* Table of contents:\n",
        "  1. [Introduction](https://colab.research.google.com/drive/1qIE6CnX85KUF-YroIMR8MAlAhTL3vnSi#scrollTo=Introduction)\n",
        "  2. [Requirements](https://colab.research.google.com/drive/1qIE6CnX85KUF-YroIMR8MAlAhTL3vnSi#scrollTo=Requirements)\n",
        "  3. [Utility functions](https://colab.research.google.com/drive/1qIE6CnX85KUF-YroIMR8MAlAhTL3vnSi#scrollTo=Utility_functions)\n",
        "  4. [Dataset](https://colab.research.google.com/drive/1qIE6CnX85KUF-YroIMR8MAlAhTL3vnSi#scrollTo=Dataset)\n",
        "  5. [Examine the dataset](https://colab.research.google.com/drive/1qIE6CnX85KUF-YroIMR8MAlAhTL3vnSi#scrollTo=Examine_the_dataset)\n",
        "  6. [Data preprocessing](https://colab.research.google.com/drive/1qIE6CnX85KUF-YroIMR8MAlAhTL3vnSi#scrollTo=Data_preprocessing)\n",
        "  7. [Model](https://colab.research.google.com/drive/1qIE6CnX85KUF-YroIMR8MAlAhTL3vnSi#scrollTo=Model)\n",
        "  8. [Training](https://colab.research.google.com/drive/1qIE6CnX85KUF-YroIMR8MAlAhTL3vnSi#scrollTo=Training)\n",
        "  9. [Testing with validation dataset](https://colab.research.google.com/drive/1qIE6CnX85KUF-YroIMR8MAlAhTL3vnSi#scrollTo=Testing_with_validation_dataset)\n",
        "  10. [Ease-of-use and demo](https://colab.research.google.com/drive/1qIE6CnX85KUF-YroIMR8MAlAhTL3vnSi#scrollTo=Ease_of_use_and_demo)\n",
        "  11. [Accuracy and loss](https://colab.research.google.com/drive/1qIE6CnX85KUF-YroIMR8MAlAhTL3vnSi#scrollTo=Accuracy_and_loss)\n",
        "  12. [Graphical User Interface](https://colab.research.google.com/drive/1qIE6CnX85KUF-YroIMR8MAlAhTL3vnSi#scrollTo=Graphical_User_Interface)\n",
        "  13. [Save the model](https://colab.research.google.com/drive/1qIE6CnX85KUF-YroIMR8MAlAhTL3vnSi#scrollTo=Save_the_model)\n",
        "  14. [References](https://colab.research.google.com/drive/1qIE6CnX85KUF-YroIMR8MAlAhTL3vnSi#scrollTo=References)"
      ],
      "metadata": {
        "id": "ID6XAW2OKMqr"
      }
    },
    {
      "cell_type": "markdown",
      "source": [
        "# Requirements"
      ],
      "metadata": {
        "id": "7kdV03J8A0YG"
      }
    },
    {
      "cell_type": "markdown",
      "source": [
        "1. Hardware requirements (optional)\n",
        "\n",
        "---\n",
        "Availability of GPU will yield better performance. "
      ],
      "metadata": {
        "id": "DwtOFR6LBD2g"
      }
    },
    {
      "cell_type": "code",
      "source": [
        "!nvidia-smi"
      ],
      "metadata": {
        "id": "9POtQvTvBDcs",
        "colab": {
          "base_uri": "https://localhost:8080/"
        },
        "outputId": "7ab610db-b1de-4335-f8c7-21db1b773173"
      },
      "execution_count": 1,
      "outputs": [
        {
          "output_type": "stream",
          "name": "stdout",
          "text": [
            "Thu Jul 21 14:59:24 2022       \n",
            "+-----------------------------------------------------------------------------+\n",
            "| NVIDIA-SMI 460.32.03    Driver Version: 460.32.03    CUDA Version: 11.2     |\n",
            "|-------------------------------+----------------------+----------------------+\n",
            "| GPU  Name        Persistence-M| Bus-Id        Disp.A | Volatile Uncorr. ECC |\n",
            "| Fan  Temp  Perf  Pwr:Usage/Cap|         Memory-Usage | GPU-Util  Compute M. |\n",
            "|                               |                      |               MIG M. |\n",
            "|===============================+======================+======================|\n",
            "|   0  Tesla T4            Off  | 00000000:00:04.0 Off |                    0 |\n",
            "| N/A   70C    P8    10W /  70W |      0MiB / 15109MiB |      0%      Default |\n",
            "|                               |                      |                  N/A |\n",
            "+-------------------------------+----------------------+----------------------+\n",
            "                                                                               \n",
            "+-----------------------------------------------------------------------------+\n",
            "| Processes:                                                                  |\n",
            "|  GPU   GI   CI        PID   Type   Process name                  GPU Memory |\n",
            "|        ID   ID                                                   Usage      |\n",
            "|=============================================================================|\n",
            "|  No running processes found                                                 |\n",
            "+-----------------------------------------------------------------------------+\n"
          ]
        }
      ]
    },
    {
      "cell_type": "markdown",
      "source": [
        "2. Necessary packages\n",
        "\n",
        "---\n",
        "Install and import these packages:\n",
        "1. SpaCy\n",
        "2. HappyTransformer\n",
        "3. Datasets\n",
        "\n"
      ],
      "metadata": {
        "id": "nPS0UPUXBWt7"
      }
    },
    {
      "cell_type": "code",
      "source": [
        "!pip install spacy"
      ],
      "metadata": {
        "id": "KdRo2FpfBx85",
        "colab": {
          "base_uri": "https://localhost:8080/"
        },
        "outputId": "b99a6abe-b701-4b64-ddad-91f27666a1c2"
      },
      "execution_count": 2,
      "outputs": [
        {
          "output_type": "stream",
          "name": "stdout",
          "text": [
            "Looking in indexes: https://pypi.org/simple, https://us-python.pkg.dev/colab-wheels/public/simple/\n",
            "Requirement already satisfied: spacy in /usr/local/lib/python3.7/dist-packages (3.3.1)\n",
            "Requirement already satisfied: spacy-legacy<3.1.0,>=3.0.9 in /usr/local/lib/python3.7/dist-packages (from spacy) (3.0.9)\n",
            "Requirement already satisfied: spacy-loggers<2.0.0,>=1.0.0 in /usr/local/lib/python3.7/dist-packages (from spacy) (1.0.3)\n",
            "Requirement already satisfied: jinja2 in /usr/local/lib/python3.7/dist-packages (from spacy) (2.11.3)\n",
            "Requirement already satisfied: tqdm<5.0.0,>=4.38.0 in /usr/local/lib/python3.7/dist-packages (from spacy) (4.64.0)\n",
            "Requirement already satisfied: preshed<3.1.0,>=3.0.2 in /usr/local/lib/python3.7/dist-packages (from spacy) (3.0.6)\n",
            "Requirement already satisfied: catalogue<2.1.0,>=2.0.6 in /usr/local/lib/python3.7/dist-packages (from spacy) (2.0.7)\n",
            "Requirement already satisfied: requests<3.0.0,>=2.13.0 in /usr/local/lib/python3.7/dist-packages (from spacy) (2.23.0)\n",
            "Requirement already satisfied: typing-extensions<4.2.0,>=3.7.4 in /usr/local/lib/python3.7/dist-packages (from spacy) (4.1.1)\n",
            "Requirement already satisfied: thinc<8.1.0,>=8.0.14 in /usr/local/lib/python3.7/dist-packages (from spacy) (8.0.17)\n",
            "Requirement already satisfied: setuptools in /usr/local/lib/python3.7/dist-packages (from spacy) (57.4.0)\n",
            "Requirement already satisfied: pathy>=0.3.5 in /usr/local/lib/python3.7/dist-packages (from spacy) (0.6.2)\n",
            "Requirement already satisfied: pydantic!=1.8,!=1.8.1,<1.9.0,>=1.7.4 in /usr/local/lib/python3.7/dist-packages (from spacy) (1.8.2)\n",
            "Requirement already satisfied: cymem<2.1.0,>=2.0.2 in /usr/local/lib/python3.7/dist-packages (from spacy) (2.0.6)\n",
            "Requirement already satisfied: numpy>=1.15.0 in /usr/local/lib/python3.7/dist-packages (from spacy) (1.21.6)\n",
            "Requirement already satisfied: langcodes<4.0.0,>=3.2.0 in /usr/local/lib/python3.7/dist-packages (from spacy) (3.3.0)\n",
            "Requirement already satisfied: srsly<3.0.0,>=2.4.3 in /usr/local/lib/python3.7/dist-packages (from spacy) (2.4.3)\n",
            "Requirement already satisfied: typer<0.5.0,>=0.3.0 in /usr/local/lib/python3.7/dist-packages (from spacy) (0.4.2)\n",
            "Requirement already satisfied: blis<0.8.0,>=0.4.0 in /usr/local/lib/python3.7/dist-packages (from spacy) (0.7.8)\n",
            "Requirement already satisfied: murmurhash<1.1.0,>=0.28.0 in /usr/local/lib/python3.7/dist-packages (from spacy) (1.0.7)\n",
            "Requirement already satisfied: packaging>=20.0 in /usr/local/lib/python3.7/dist-packages (from spacy) (21.3)\n",
            "Requirement already satisfied: wasabi<1.1.0,>=0.9.1 in /usr/local/lib/python3.7/dist-packages (from spacy) (0.9.1)\n",
            "Requirement already satisfied: zipp>=0.5 in /usr/local/lib/python3.7/dist-packages (from catalogue<2.1.0,>=2.0.6->spacy) (3.8.1)\n",
            "Requirement already satisfied: pyparsing!=3.0.5,>=2.0.2 in /usr/local/lib/python3.7/dist-packages (from packaging>=20.0->spacy) (3.0.9)\n",
            "Requirement already satisfied: smart-open<6.0.0,>=5.2.1 in /usr/local/lib/python3.7/dist-packages (from pathy>=0.3.5->spacy) (5.2.1)\n",
            "Requirement already satisfied: certifi>=2017.4.17 in /usr/local/lib/python3.7/dist-packages (from requests<3.0.0,>=2.13.0->spacy) (2022.6.15)\n",
            "Requirement already satisfied: chardet<4,>=3.0.2 in /usr/local/lib/python3.7/dist-packages (from requests<3.0.0,>=2.13.0->spacy) (3.0.4)\n",
            "Requirement already satisfied: urllib3!=1.25.0,!=1.25.1,<1.26,>=1.21.1 in /usr/local/lib/python3.7/dist-packages (from requests<3.0.0,>=2.13.0->spacy) (1.25.11)\n",
            "Requirement already satisfied: idna<3,>=2.5 in /usr/local/lib/python3.7/dist-packages (from requests<3.0.0,>=2.13.0->spacy) (2.10)\n",
            "Requirement already satisfied: click<9.0.0,>=7.1.1 in /usr/local/lib/python3.7/dist-packages (from typer<0.5.0,>=0.3.0->spacy) (7.1.2)\n",
            "Requirement already satisfied: MarkupSafe>=0.23 in /usr/local/lib/python3.7/dist-packages (from jinja2->spacy) (2.0.1)\n"
          ]
        }
      ]
    },
    {
      "cell_type": "code",
      "source": [
        "!pip install happytransformer"
      ],
      "metadata": {
        "id": "zKFXiKEZByl3",
        "colab": {
          "base_uri": "https://localhost:8080/"
        },
        "outputId": "a494c000-7121-44e6-90e0-97f6983afb36"
      },
      "execution_count": 3,
      "outputs": [
        {
          "output_type": "stream",
          "name": "stdout",
          "text": [
            "Looking in indexes: https://pypi.org/simple, https://us-python.pkg.dev/colab-wheels/public/simple/\n",
            "Requirement already satisfied: happytransformer in /usr/local/lib/python3.7/dist-packages (2.4.1)\n",
            "Requirement already satisfied: datasets>=1.6.0 in /usr/local/lib/python3.7/dist-packages (from happytransformer) (2.3.2)\n",
            "Requirement already satisfied: tqdm>=4.43 in /usr/local/lib/python3.7/dist-packages (from happytransformer) (4.64.0)\n",
            "Requirement already satisfied: transformers>=4.4.0 in /usr/local/lib/python3.7/dist-packages (from happytransformer) (4.20.1)\n",
            "Requirement already satisfied: torch>=1.0 in /usr/local/lib/python3.7/dist-packages (from happytransformer) (1.12.0+cu113)\n",
            "Requirement already satisfied: sentencepiece in /usr/local/lib/python3.7/dist-packages (from happytransformer) (0.1.96)\n",
            "Requirement already satisfied: protobuf in /usr/local/lib/python3.7/dist-packages (from happytransformer) (3.17.3)\n",
            "Requirement already satisfied: multiprocess in /usr/local/lib/python3.7/dist-packages (from datasets>=1.6.0->happytransformer) (0.70.13)\n",
            "Requirement already satisfied: numpy>=1.17 in /usr/local/lib/python3.7/dist-packages (from datasets>=1.6.0->happytransformer) (1.21.6)\n",
            "Requirement already satisfied: dill<0.3.6 in /usr/local/lib/python3.7/dist-packages (from datasets>=1.6.0->happytransformer) (0.3.5.1)\n",
            "Requirement already satisfied: aiohttp in /usr/local/lib/python3.7/dist-packages (from datasets>=1.6.0->happytransformer) (3.8.1)\n",
            "Requirement already satisfied: responses<0.19 in /usr/local/lib/python3.7/dist-packages (from datasets>=1.6.0->happytransformer) (0.18.0)\n",
            "Requirement already satisfied: huggingface-hub<1.0.0,>=0.1.0 in /usr/local/lib/python3.7/dist-packages (from datasets>=1.6.0->happytransformer) (0.8.1)\n",
            "Requirement already satisfied: xxhash in /usr/local/lib/python3.7/dist-packages (from datasets>=1.6.0->happytransformer) (3.0.0)\n",
            "Requirement already satisfied: pandas in /usr/local/lib/python3.7/dist-packages (from datasets>=1.6.0->happytransformer) (1.3.5)\n",
            "Requirement already satisfied: fsspec[http]>=2021.05.0 in /usr/local/lib/python3.7/dist-packages (from datasets>=1.6.0->happytransformer) (2022.5.0)\n",
            "Requirement already satisfied: pyarrow>=6.0.0 in /usr/local/lib/python3.7/dist-packages (from datasets>=1.6.0->happytransformer) (6.0.1)\n",
            "Requirement already satisfied: importlib-metadata in /usr/local/lib/python3.7/dist-packages (from datasets>=1.6.0->happytransformer) (4.12.0)\n",
            "Requirement already satisfied: requests>=2.19.0 in /usr/local/lib/python3.7/dist-packages (from datasets>=1.6.0->happytransformer) (2.23.0)\n",
            "Requirement already satisfied: packaging in /usr/local/lib/python3.7/dist-packages (from datasets>=1.6.0->happytransformer) (21.3)\n",
            "Requirement already satisfied: typing-extensions>=3.7.4.3 in /usr/local/lib/python3.7/dist-packages (from huggingface-hub<1.0.0,>=0.1.0->datasets>=1.6.0->happytransformer) (4.1.1)\n",
            "Requirement already satisfied: filelock in /usr/local/lib/python3.7/dist-packages (from huggingface-hub<1.0.0,>=0.1.0->datasets>=1.6.0->happytransformer) (3.7.1)\n",
            "Requirement already satisfied: pyyaml>=5.1 in /usr/local/lib/python3.7/dist-packages (from huggingface-hub<1.0.0,>=0.1.0->datasets>=1.6.0->happytransformer) (6.0)\n",
            "Requirement already satisfied: pyparsing!=3.0.5,>=2.0.2 in /usr/local/lib/python3.7/dist-packages (from packaging->datasets>=1.6.0->happytransformer) (3.0.9)\n",
            "Requirement already satisfied: urllib3!=1.25.0,!=1.25.1,<1.26,>=1.21.1 in /usr/local/lib/python3.7/dist-packages (from requests>=2.19.0->datasets>=1.6.0->happytransformer) (1.25.11)\n",
            "Requirement already satisfied: certifi>=2017.4.17 in /usr/local/lib/python3.7/dist-packages (from requests>=2.19.0->datasets>=1.6.0->happytransformer) (2022.6.15)\n",
            "Requirement already satisfied: idna<3,>=2.5 in /usr/local/lib/python3.7/dist-packages (from requests>=2.19.0->datasets>=1.6.0->happytransformer) (2.10)\n",
            "Requirement already satisfied: chardet<4,>=3.0.2 in /usr/local/lib/python3.7/dist-packages (from requests>=2.19.0->datasets>=1.6.0->happytransformer) (3.0.4)\n",
            "Requirement already satisfied: tokenizers!=0.11.3,<0.13,>=0.11.1 in /usr/local/lib/python3.7/dist-packages (from transformers>=4.4.0->happytransformer) (0.12.1)\n",
            "Requirement already satisfied: regex!=2019.12.17 in /usr/local/lib/python3.7/dist-packages (from transformers>=4.4.0->happytransformer) (2022.6.2)\n",
            "Requirement already satisfied: frozenlist>=1.1.1 in /usr/local/lib/python3.7/dist-packages (from aiohttp->datasets>=1.6.0->happytransformer) (1.3.0)\n",
            "Requirement already satisfied: multidict<7.0,>=4.5 in /usr/local/lib/python3.7/dist-packages (from aiohttp->datasets>=1.6.0->happytransformer) (6.0.2)\n",
            "Requirement already satisfied: charset-normalizer<3.0,>=2.0 in /usr/local/lib/python3.7/dist-packages (from aiohttp->datasets>=1.6.0->happytransformer) (2.1.0)\n",
            "Requirement already satisfied: asynctest==0.13.0 in /usr/local/lib/python3.7/dist-packages (from aiohttp->datasets>=1.6.0->happytransformer) (0.13.0)\n",
            "Requirement already satisfied: attrs>=17.3.0 in /usr/local/lib/python3.7/dist-packages (from aiohttp->datasets>=1.6.0->happytransformer) (21.4.0)\n",
            "Requirement already satisfied: aiosignal>=1.1.2 in /usr/local/lib/python3.7/dist-packages (from aiohttp->datasets>=1.6.0->happytransformer) (1.2.0)\n",
            "Requirement already satisfied: yarl<2.0,>=1.0 in /usr/local/lib/python3.7/dist-packages (from aiohttp->datasets>=1.6.0->happytransformer) (1.7.2)\n",
            "Requirement already satisfied: async-timeout<5.0,>=4.0.0a3 in /usr/local/lib/python3.7/dist-packages (from aiohttp->datasets>=1.6.0->happytransformer) (4.0.2)\n",
            "Requirement already satisfied: zipp>=0.5 in /usr/local/lib/python3.7/dist-packages (from importlib-metadata->datasets>=1.6.0->happytransformer) (3.8.1)\n",
            "Requirement already satisfied: python-dateutil>=2.7.3 in /usr/local/lib/python3.7/dist-packages (from pandas->datasets>=1.6.0->happytransformer) (2.8.2)\n",
            "Requirement already satisfied: pytz>=2017.3 in /usr/local/lib/python3.7/dist-packages (from pandas->datasets>=1.6.0->happytransformer) (2022.1)\n",
            "Requirement already satisfied: six>=1.5 in /usr/local/lib/python3.7/dist-packages (from python-dateutil>=2.7.3->pandas->datasets>=1.6.0->happytransformer) (1.15.0)\n"
          ]
        }
      ]
    },
    {
      "cell_type": "code",
      "source": [
        "!pip install datasets"
      ],
      "metadata": {
        "id": "zim2MyDpByWQ",
        "colab": {
          "base_uri": "https://localhost:8080/"
        },
        "outputId": "23f88142-095d-4f9a-e837-2a7c3935cfec"
      },
      "execution_count": 4,
      "outputs": [
        {
          "output_type": "stream",
          "name": "stdout",
          "text": [
            "Looking in indexes: https://pypi.org/simple, https://us-python.pkg.dev/colab-wheels/public/simple/\n",
            "Requirement already satisfied: datasets in /usr/local/lib/python3.7/dist-packages (2.3.2)\n",
            "Requirement already satisfied: pandas in /usr/local/lib/python3.7/dist-packages (from datasets) (1.3.5)\n",
            "Requirement already satisfied: pyarrow>=6.0.0 in /usr/local/lib/python3.7/dist-packages (from datasets) (6.0.1)\n",
            "Requirement already satisfied: tqdm>=4.62.1 in /usr/local/lib/python3.7/dist-packages (from datasets) (4.64.0)\n",
            "Requirement already satisfied: xxhash in /usr/local/lib/python3.7/dist-packages (from datasets) (3.0.0)\n",
            "Requirement already satisfied: aiohttp in /usr/local/lib/python3.7/dist-packages (from datasets) (3.8.1)\n",
            "Requirement already satisfied: responses<0.19 in /usr/local/lib/python3.7/dist-packages (from datasets) (0.18.0)\n",
            "Requirement already satisfied: multiprocess in /usr/local/lib/python3.7/dist-packages (from datasets) (0.70.13)\n",
            "Requirement already satisfied: fsspec[http]>=2021.05.0 in /usr/local/lib/python3.7/dist-packages (from datasets) (2022.5.0)\n",
            "Requirement already satisfied: importlib-metadata in /usr/local/lib/python3.7/dist-packages (from datasets) (4.12.0)\n",
            "Requirement already satisfied: packaging in /usr/local/lib/python3.7/dist-packages (from datasets) (21.3)\n",
            "Requirement already satisfied: huggingface-hub<1.0.0,>=0.1.0 in /usr/local/lib/python3.7/dist-packages (from datasets) (0.8.1)\n",
            "Requirement already satisfied: numpy>=1.17 in /usr/local/lib/python3.7/dist-packages (from datasets) (1.21.6)\n",
            "Requirement already satisfied: dill<0.3.6 in /usr/local/lib/python3.7/dist-packages (from datasets) (0.3.5.1)\n",
            "Requirement already satisfied: requests>=2.19.0 in /usr/local/lib/python3.7/dist-packages (from datasets) (2.23.0)\n",
            "Requirement already satisfied: pyyaml>=5.1 in /usr/local/lib/python3.7/dist-packages (from huggingface-hub<1.0.0,>=0.1.0->datasets) (6.0)\n",
            "Requirement already satisfied: filelock in /usr/local/lib/python3.7/dist-packages (from huggingface-hub<1.0.0,>=0.1.0->datasets) (3.7.1)\n",
            "Requirement already satisfied: typing-extensions>=3.7.4.3 in /usr/local/lib/python3.7/dist-packages (from huggingface-hub<1.0.0,>=0.1.0->datasets) (4.1.1)\n",
            "Requirement already satisfied: pyparsing!=3.0.5,>=2.0.2 in /usr/local/lib/python3.7/dist-packages (from packaging->datasets) (3.0.9)\n",
            "Requirement already satisfied: idna<3,>=2.5 in /usr/local/lib/python3.7/dist-packages (from requests>=2.19.0->datasets) (2.10)\n",
            "Requirement already satisfied: urllib3!=1.25.0,!=1.25.1,<1.26,>=1.21.1 in /usr/local/lib/python3.7/dist-packages (from requests>=2.19.0->datasets) (1.25.11)\n",
            "Requirement already satisfied: certifi>=2017.4.17 in /usr/local/lib/python3.7/dist-packages (from requests>=2.19.0->datasets) (2022.6.15)\n",
            "Requirement already satisfied: chardet<4,>=3.0.2 in /usr/local/lib/python3.7/dist-packages (from requests>=2.19.0->datasets) (3.0.4)\n",
            "Requirement already satisfied: attrs>=17.3.0 in /usr/local/lib/python3.7/dist-packages (from aiohttp->datasets) (21.4.0)\n",
            "Requirement already satisfied: multidict<7.0,>=4.5 in /usr/local/lib/python3.7/dist-packages (from aiohttp->datasets) (6.0.2)\n",
            "Requirement already satisfied: aiosignal>=1.1.2 in /usr/local/lib/python3.7/dist-packages (from aiohttp->datasets) (1.2.0)\n",
            "Requirement already satisfied: yarl<2.0,>=1.0 in /usr/local/lib/python3.7/dist-packages (from aiohttp->datasets) (1.7.2)\n",
            "Requirement already satisfied: asynctest==0.13.0 in /usr/local/lib/python3.7/dist-packages (from aiohttp->datasets) (0.13.0)\n",
            "Requirement already satisfied: charset-normalizer<3.0,>=2.0 in /usr/local/lib/python3.7/dist-packages (from aiohttp->datasets) (2.1.0)\n",
            "Requirement already satisfied: async-timeout<5.0,>=4.0.0a3 in /usr/local/lib/python3.7/dist-packages (from aiohttp->datasets) (4.0.2)\n",
            "Requirement already satisfied: frozenlist>=1.1.1 in /usr/local/lib/python3.7/dist-packages (from aiohttp->datasets) (1.3.0)\n",
            "Requirement already satisfied: zipp>=0.5 in /usr/local/lib/python3.7/dist-packages (from importlib-metadata->datasets) (3.8.1)\n",
            "Requirement already satisfied: pytz>=2017.3 in /usr/local/lib/python3.7/dist-packages (from pandas->datasets) (2022.1)\n",
            "Requirement already satisfied: python-dateutil>=2.7.3 in /usr/local/lib/python3.7/dist-packages (from pandas->datasets) (2.8.2)\n",
            "Requirement already satisfied: six>=1.5 in /usr/local/lib/python3.7/dist-packages (from python-dateutil>=2.7.3->pandas->datasets) (1.15.0)\n"
          ]
        }
      ]
    },
    {
      "cell_type": "code",
      "source": [
        "import spacy"
      ],
      "metadata": {
        "id": "YACILBhvCI5e"
      },
      "execution_count": 5,
      "outputs": []
    },
    {
      "cell_type": "code",
      "source": [
        "from happytransformer import HappyTextToText,TTTrainArgs,TTSettings"
      ],
      "metadata": {
        "id": "dI1GQFV6CJYP"
      },
      "execution_count": 6,
      "outputs": []
    },
    {
      "cell_type": "code",
      "source": [
        "from datasets import load_dataset"
      ],
      "metadata": {
        "id": "GZ68SwWZHG_H"
      },
      "execution_count": 7,
      "outputs": []
    },
    {
      "cell_type": "code",
      "source": [
        "import csv"
      ],
      "metadata": {
        "id": "1A4J8W0HCJ27"
      },
      "execution_count": 8,
      "outputs": []
    },
    {
      "cell_type": "markdown",
      "source": [
        "3. Load `English` language module from SpaCy\n",
        "\n",
        "---\n",
        "Since we will be correcting grammatical mistakes ,we will need the 'en' module"
      ],
      "metadata": {
        "id": "wZo5X-oECSSV"
      }
    },
    {
      "cell_type": "code",
      "source": [
        "nlp = spacy.load(\"en_core_web_sm\")"
      ],
      "metadata": {
        "id": "XYJVC8KrCTNi"
      },
      "execution_count": 9,
      "outputs": []
    },
    {
      "cell_type": "markdown",
      "source": [
        "# Utility functions"
      ],
      "metadata": {
        "id": "ja7oYyAuA019"
      }
    },
    {
      "cell_type": "markdown",
      "source": [
        "1. Coloured strings\n",
        "\n",
        "---\n",
        "Since we need to `highlight` the difference between original and corrected sentences, we'll define two functions for the same purpose"
      ],
      "metadata": {
        "id": "GoR38e3wDFXl"
      }
    },
    {
      "cell_type": "code",
      "source": [
        "def redWord(wrd): #for red coloured string\n",
        "  return \"\\033[91m {}\\033[00m\" .format(wrd)\n",
        "\n",
        "def grnWord(wrd): #for green coloured string\n",
        "  return \"\\033[92m {}\\033[00m\" .format(wrd)"
      ],
      "metadata": {
        "id": "4rXVO382DZtj"
      },
      "execution_count": 10,
      "outputs": []
    },
    {
      "cell_type": "markdown",
      "source": [
        "2. Convert pargraphs into a list of sentences\n",
        "\n",
        "---\n",
        "We need to tokenize paragraphs into sentences. For this purpose, we'll use our NLP"
      ],
      "metadata": {
        "id": "HcOpAoVTDpaz"
      }
    },
    {
      "cell_type": "code",
      "source": [
        "def parToSent(parString):\n",
        "  doc=nlp(parString)\n",
        "  return list(str(i) for i in list(doc.sents))"
      ],
      "metadata": {
        "id": "oeXV6hEsDbAJ"
      },
      "execution_count": 11,
      "outputs": []
    },
    {
      "cell_type": "markdown",
      "source": [
        "3. The dataset might contain unwanted spaces. Hence we need an utility function to preprocess the data \n",
        "\n",
        "---\n",
        "This utility function will remove all unwanted spaces"
      ],
      "metadata": {
        "id": "Qd3ApFMD9Pge"
      }
    },
    {
      "cell_type": "code",
      "source": [
        "replacements = [\n",
        "  (\" .\", \".\"), \n",
        "  (\" ,\", \",\"),\n",
        "  (\" '\", \"'\"),\n",
        "  (\" ?\", \"?\"),\n",
        "  (\" !\", \"!\"),\n",
        "  (\" :\", \":\"),\n",
        "  (\" ;\", \";\"),\n",
        "  (\" n't\", \"n't\"),\n",
        "  (\" v\", \"n't\"),\n",
        "  (\"2 0 0 6\", \"2006\"),\n",
        "  (\"5 5\", \"55\"),\n",
        "  (\"4 0 0\", \"400\"),\n",
        "  (\"3 7 5 0\", \"3750\"),\n",
        "  (\"2 0 %\", \"20%\"),\n",
        "  (\"5 0\", \"50\"),\n",
        "  (\"1 2\", \"12\"),\n",
        "  (\"2 0\", \"20\"),\n",
        "  ('\" hello world', '\"hello world')\n",
        "]\n",
        "\n",
        "def removeExtraSpace(text):\n",
        "  for r in replacements:\n",
        "    text = text.replace(r[0], r[1])\n",
        "  return text"
      ],
      "metadata": {
        "id": "BW73x-x09QFd"
      },
      "execution_count": 12,
      "outputs": []
    },
    {
      "cell_type": "markdown",
      "source": [
        "# Dataset"
      ],
      "metadata": {
        "id": "YWk3MAMsA1Qt"
      }
    },
    {
      "cell_type": "markdown",
      "source": [
        "We'll be using the well-known JFLEG dataset for training our model\n",
        "\n",
        "---\n",
        "It is described as `a gold standard benchmark for developing and evaluating Grammar Error Correction systems with respect to fluency` as it has a diverse variety of correct-incorrect pairs."
      ],
      "metadata": {
        "id": "gZCkrcU9EWPs"
      }
    },
    {
      "cell_type": "markdown",
      "source": [
        "1. Loading the dataset\n",
        "\n",
        "---\n",
        "\n",
        "We'll be loading the dataset using `load_dataset()`"
      ],
      "metadata": {
        "id": "EQtDI-8KFSZG"
      }
    },
    {
      "cell_type": "code",
      "source": [
        "train_dataset = load_dataset(\"jfleg\", split='validation[:]') #dataset for training our model"
      ],
      "metadata": {
        "id": "OgN2OwW0FH2F",
        "colab": {
          "base_uri": "https://localhost:8080/"
        },
        "outputId": "f53ee6dc-3ae9-421a-b0ee-30b7bb7169f0"
      },
      "execution_count": 13,
      "outputs": [
        {
          "output_type": "stream",
          "name": "stderr",
          "text": [
            "Using custom data configuration default\n",
            "Reusing dataset jfleg (/root/.cache/huggingface/datasets/jfleg/default/1.0.0/ed4ab2367351fe31949f48849ae6732b164f0d5ea6bb5d4357ff4293ac89511b)\n"
          ]
        }
      ]
    },
    {
      "cell_type": "code",
      "source": [
        "val_dataset = load_dataset(\"jfleg\", split='test[:]') #dataset for validating our model"
      ],
      "metadata": {
        "id": "H3ieqpipF7H4",
        "colab": {
          "base_uri": "https://localhost:8080/"
        },
        "outputId": "dbee77a5-fb10-4e33-ab09-852cef731155"
      },
      "execution_count": 14,
      "outputs": [
        {
          "output_type": "stream",
          "name": "stderr",
          "text": [
            "Using custom data configuration default\n",
            "Reusing dataset jfleg (/root/.cache/huggingface/datasets/jfleg/default/1.0.0/ed4ab2367351fe31949f48849ae6732b164f0d5ea6bb5d4357ff4293ac89511b)\n"
          ]
        }
      ]
    },
    {
      "cell_type": "markdown",
      "source": [
        "# Examine the dataset"
      ],
      "metadata": {
        "id": "5r0eTEN8A1nm"
      }
    },
    {
      "cell_type": "markdown",
      "source": [
        "---\n",
        "We'll examine the dataset for its accuracy and fluency"
      ],
      "metadata": {
        "id": "QI8edGVqGFwk"
      }
    },
    {
      "cell_type": "code",
      "source": [
        "for val in train_dataset[\"corrections\"][:2]:\n",
        "  print(val)\n",
        "  print(val[0])\n",
        "  print(\"======================================================\")"
      ],
      "metadata": {
        "id": "jS5yD4ITGOXu",
        "colab": {
          "base_uri": "https://localhost:8080/"
        },
        "outputId": "36576f71-5d54-4eb2-f040-77bdd0ecb918"
      },
      "execution_count": 15,
      "outputs": [
        {
          "output_type": "stream",
          "name": "stdout",
          "text": [
            "['So I think we would not be alive if our ancestors did not develop sciences and technologies . ', 'So I think we could not live if older people did not develop science and technologies . ', 'So I think we can not live if old people could not find science and technologies and they did not develop . ', 'So I think we can not live if old people can not find the science and technology that has not been developed . ']\n",
            "So I think we would not be alive if our ancestors did not develop sciences and technologies . \n",
            "======================================================\n",
            "['Not for use with a car . ', 'Do not use in the car . ', 'Car not for use . ', 'Can not use the car . ']\n",
            "Not for use with a car . \n",
            "======================================================\n"
          ]
        }
      ]
    },
    {
      "cell_type": "markdown",
      "source": [
        "# Data preprocessing"
      ],
      "metadata": {
        "id": "XVd7BI_3A2Cw"
      }
    },
    {
      "cell_type": "markdown",
      "source": [
        "1. CSV pre-processing function\n",
        "---\n",
        "Both the training and validation datasets have to be in the proper format, which is the `.csv` format. We'll be having two columns namely `input,target`. This pre-processing helps us to remove blank data."
      ],
      "metadata": {
        "id": "uTNPPZ4DGpfq"
      }
    },
    {
      "cell_type": "code",
      "source": [
        "def generate_csv(csv_path, dataset):\n",
        "    with open(csv_path, 'w', newline='') as csvfile:\n",
        "        writter = csv.writer(csvfile)\n",
        "        writter.writerow([\"input\", \"target\"])\n",
        "        for case in dataset:\n",
        "            input_text = \"grammar: \" + case[\"sentence\"]\n",
        "            for correction in case[\"corrections\"]:\n",
        "                if input_text and correction:\n",
        "                    input_text = removeExtraSpace(input_text)\n",
        "                    correction = removeExtraSpace(correction)\n",
        "                    writter.writerow([input_text, correction])"
      ],
      "metadata": {
        "id": "ioFAYhh8I-2A"
      },
      "execution_count": 16,
      "outputs": []
    },
    {
      "cell_type": "markdown",
      "source": [
        "2. Generate a CSV file for training\n",
        "\n",
        "---\n",
        "Also check the number of data "
      ],
      "metadata": {
        "id": "4NAm-cvtIb3t"
      }
    },
    {
      "cell_type": "code",
      "source": [
        "generate_csv(\"train.csv\", train_dataset)\n",
        "train_dataset.shape"
      ],
      "metadata": {
        "id": "eWXn81wfGp8P",
        "colab": {
          "base_uri": "https://localhost:8080/"
        },
        "outputId": "016871b1-5387-49d5-c237-b5c2794f8267"
      },
      "execution_count": 17,
      "outputs": [
        {
          "output_type": "execute_result",
          "data": {
            "text/plain": [
              "(755, 2)"
            ]
          },
          "metadata": {},
          "execution_count": 17
        }
      ]
    },
    {
      "cell_type": "markdown",
      "source": [
        "3. Generate a CSV for validation\n",
        "\n",
        "---\n",
        "Also check the number of data"
      ],
      "metadata": {
        "id": "vQeEwSYMIcdO"
      }
    },
    {
      "cell_type": "code",
      "source": [
        "generate_csv(\"val.csv\", val_dataset)\n",
        "val_dataset.shape"
      ],
      "metadata": {
        "id": "2PStO47pIc0g",
        "colab": {
          "base_uri": "https://localhost:8080/"
        },
        "outputId": "c34b757e-f79e-4588-d01b-f0559ac3bdab"
      },
      "execution_count": 18,
      "outputs": [
        {
          "output_type": "execute_result",
          "data": {
            "text/plain": [
              "(748, 2)"
            ]
          },
          "metadata": {},
          "execution_count": 18
        }
      ]
    },
    {
      "cell_type": "markdown",
      "source": [
        "# Model"
      ],
      "metadata": {
        "id": "9OrDQVJNA2cU"
      }
    },
    {
      "cell_type": "markdown",
      "source": [
        "We'll be using the T5 (t5-base) model\n",
        "\n",
        "---"
      ],
      "metadata": {
        "id": "ilKT6HS8I7Ux"
      }
    },
    {
      "cell_type": "code",
      "source": [
        "g_model = HappyTextToText(\"T5\", \"t5-base\")"
      ],
      "metadata": {
        "id": "BVTTM-DCI8LG",
        "colab": {
          "base_uri": "https://localhost:8080/"
        },
        "outputId": "13487610-7c59-4bc2-8eb6-af34df4c907e"
      },
      "execution_count": 19,
      "outputs": [
        {
          "output_type": "stream",
          "name": "stderr",
          "text": [
            "/usr/local/lib/python3.7/dist-packages/transformers/models/t5/tokenization_t5_fast.py:166: FutureWarning: This tokenizer was incorrectly instantiated with a model max length of 512 which will be corrected in Transformers v5.\n",
            "For now, this behavior is kept to avoid breaking backwards compatibility when padding/encoding with `truncation is True`.\n",
            "- Be aware that you SHOULD NOT rely on t5-base automatically truncating your input to 512 when padding/encoding.\n",
            "- If you want to encode/pad to sequences longer than 512 you can either instantiate this tokenizer with `model_max_length` or pass `max_length` when encoding/padding.\n",
            "- To avoid this warning, please instantiate this tokenizer with `model_max_length` set to your preferred value.\n",
            "  FutureWarning,\n",
            "07/21/2022 14:59:50 - INFO - happytransformer.happy_transformer -   Using model: cuda\n"
          ]
        }
      ]
    },
    {
      "cell_type": "markdown",
      "source": [
        "# Training"
      ],
      "metadata": {
        "id": "8ljSYsNoA25Z"
      }
    },
    {
      "cell_type": "markdown",
      "source": [
        "---\n",
        "We'll train the model for 10 epochs"
      ],
      "metadata": {
        "id": "605Wy_K9EZ7n"
      }
    },
    {
      "cell_type": "code",
      "source": [
        "arg = TTTrainArgs(batch_size=8,num_train_epochs=10)\n",
        "g_model.train(\"train.csv\", args=arg)"
      ],
      "metadata": {
        "id": "V4hDMl5_Jq7F",
        "colab": {
          "base_uri": "https://localhost:8080/",
          "height": 756,
          "referenced_widgets": [
            "9ba6633f39b54faea3eedf260672892e",
            "b4181be0a1b6494c81076ce1dea1ba99",
            "04e1a2d6783449afa3721cca23afd796",
            "e220e43096fb4101b6ed7427ede1d472",
            "657f9c437e1f462fb3e8d5fb7edf2bed",
            "170e0736898a429e99834bea2ecf9fee",
            "c2d696ccb8114eeca25d1cee71ef4dc3",
            "a873e483d62b4e2e827b12f34961d217",
            "ddf0fa8578254d5c97d1623251d964dd",
            "122190c3388645fca9f8a19b9044d47f",
            "e5d60b7677b446bd9f2f363601f179fe",
            "1a0c6ef2f11b4a8e8bc661497d72a100",
            "2048c1e6659d467980bcad961246c0d8",
            "c89f52f8735842469738ee1a4189b45c",
            "e60e931b9ac140ac89bdf1a1491de581",
            "caeda059287f448b867ade062c47b4d3",
            "40f1235dedc64864be95672a4d4e6298",
            "49ebbae1da3b4092b97dfd9462f3f36d",
            "00811ec010cc4413bd9a5120002474da",
            "0079171bcf994e55b8e69ba78d5f54f4",
            "597c4bc4ce2748b3a08c1948dd1a8dca",
            "048b457c08b94933b74f5c6b62084d67",
            "380d7c77f8bb4042b60dcaaf037c3a76",
            "a3bfab76f803486ba4cd3211afac0f07",
            "1a358657125e4e6eb0a4102862fc095d",
            "2edf681069e6450b9570034f33981f65",
            "a7748daace8043bc8288e2cb713484c8",
            "3bc8b6c20bb849b188c02d9106ed342e",
            "6e4dadcad3c84694a296eae9c5b4323d",
            "f432e53c3e5b4de689145dbdab09016b",
            "053eb0c3d8d04b0b81e76982489a960d",
            "2e6fe16b40664ab89e96cc3f95a8c673",
            "e0fcbbaf869345adb7f1130b764529d1",
            "960811706e3243bbb134e2b38512b8db",
            "fd92ea1ae6444b8b90b7915a36270054",
            "8217fa888c29422ca5955c9870e47c39",
            "1a40eb947539457597ee2a87810280d3",
            "44fd79adb0e64d1da626998202580996",
            "3e405c591e0c4d0ab7a6c4c703abf8c4",
            "ffc5b0de9c634102a5c27ba1b057f769",
            "d2dbc91fc94e4085a34bb496f9c9784d",
            "a0f73fd53a83444ba0bf2c6384a5f8b0",
            "7a6f543b543b422399d30410911b5016",
            "58a6bc32c9b244b697fb01e27e005315",
            "93a57542e36241e48c8874ddb8054f9b",
            "b015efcefb414350b0c580766fe50c07",
            "9a3051ac94e3451db284809febcc8896",
            "a40bc0bd20ef43569bb7de75c0f0bb48",
            "a7ae2ac4feb6461c9450ac91aacdafe3",
            "a47c987ba5d44ca089b3cfed3388ec8c",
            "e2f2c494885c422f96e51c22bf539069",
            "1b375e3e2080401fb7d03490d9f49ffd",
            "68363954b3734ed3972cee40784b5b30",
            "0f953f88844d49ae90019880851974c6",
            "cf5447d2256b4438a1afc0c21ad77235"
          ]
        },
        "outputId": "c03dc2d1-8d21-4c43-f144-44e85000f052"
      },
      "execution_count": 20,
      "outputs": [
        {
          "output_type": "stream",
          "name": "stderr",
          "text": [
            "07/21/2022 14:59:54 - INFO - happytransformer.happy_transformer -   Preprocessing training data...\n"
          ]
        },
        {
          "output_type": "stream",
          "name": "stdout",
          "text": [
            "Downloading and preparing dataset csv/default to /root/.cache/huggingface/datasets/csv/default-c1d019a7783b590d/0.0.0/51cce309a08df9c4d82ffd9363bbe090bf173197fc01a71b034e8594995a1a58...\n"
          ]
        },
        {
          "output_type": "display_data",
          "data": {
            "text/plain": [
              "Downloading data files:   0%|          | 0/1 [00:00<?, ?it/s]"
            ],
            "application/vnd.jupyter.widget-view+json": {
              "version_major": 2,
              "version_minor": 0,
              "model_id": "9ba6633f39b54faea3eedf260672892e"
            }
          },
          "metadata": {}
        },
        {
          "output_type": "display_data",
          "data": {
            "text/plain": [
              "Extracting data files:   0%|          | 0/1 [00:00<?, ?it/s]"
            ],
            "application/vnd.jupyter.widget-view+json": {
              "version_major": 2,
              "version_minor": 0,
              "model_id": "1a0c6ef2f11b4a8e8bc661497d72a100"
            }
          },
          "metadata": {}
        },
        {
          "output_type": "display_data",
          "data": {
            "text/plain": [
              "0 tables [00:00, ? tables/s]"
            ],
            "application/vnd.jupyter.widget-view+json": {
              "version_major": 2,
              "version_minor": 0,
              "model_id": "380d7c77f8bb4042b60dcaaf037c3a76"
            }
          },
          "metadata": {}
        },
        {
          "output_type": "stream",
          "name": "stdout",
          "text": [
            "Dataset csv downloaded and prepared to /root/.cache/huggingface/datasets/csv/default-c1d019a7783b590d/0.0.0/51cce309a08df9c4d82ffd9363bbe090bf173197fc01a71b034e8594995a1a58. Subsequent calls will reuse this data.\n"
          ]
        },
        {
          "output_type": "display_data",
          "data": {
            "text/plain": [
              "  0%|          | 0/1 [00:00<?, ?it/s]"
            ],
            "application/vnd.jupyter.widget-view+json": {
              "version_major": 2,
              "version_minor": 0,
              "model_id": "960811706e3243bbb134e2b38512b8db"
            }
          },
          "metadata": {}
        },
        {
          "output_type": "display_data",
          "data": {
            "text/plain": [
              "  0%|          | 0/4 [00:00<?, ?ba/s]"
            ],
            "application/vnd.jupyter.widget-view+json": {
              "version_major": 2,
              "version_minor": 0,
              "model_id": "93a57542e36241e48c8874ddb8054f9b"
            }
          },
          "metadata": {}
        },
        {
          "output_type": "stream",
          "name": "stderr",
          "text": [
            "07/21/2022 14:59:58 - INFO - happytransformer.happy_transformer -   Training...\n",
            "/usr/local/lib/python3.7/dist-packages/transformers/optimization.py:310: FutureWarning: This implementation of AdamW is deprecated and will be removed in a future version. Use the PyTorch implementation torch.optim.AdamW instead, or set `no_deprecation_warning=True` to disable this warning\n",
            "  FutureWarning,\n",
            "***** Running training *****\n",
            "  Num examples = 3016\n",
            "  Num Epochs = 10\n",
            "  Instantaneous batch size per device = 8\n",
            "  Total train batch size (w. parallel, distributed & accumulation) = 8\n",
            "  Gradient Accumulation steps = 1\n",
            "  Total optimization steps = 3770\n"
          ]
        },
        {
          "output_type": "display_data",
          "data": {
            "text/plain": [
              "<IPython.core.display.HTML object>"
            ],
            "text/html": [
              "\n",
              "    <div>\n",
              "      \n",
              "      <progress value='3770' max='3770' style='width:300px; height:20px; vertical-align: middle;'></progress>\n",
              "      [3770/3770 15:08, Epoch 10/10]\n",
              "    </div>\n",
              "    <table border=\"1\" class=\"dataframe\">\n",
              "  <thead>\n",
              " <tr style=\"text-align: left;\">\n",
              "      <th>Step</th>\n",
              "      <th>Training Loss</th>\n",
              "    </tr>\n",
              "  </thead>\n",
              "  <tbody>\n",
              "    <tr>\n",
              "      <td>500</td>\n",
              "      <td>0.610800</td>\n",
              "    </tr>\n",
              "    <tr>\n",
              "      <td>1000</td>\n",
              "      <td>0.456500</td>\n",
              "    </tr>\n",
              "    <tr>\n",
              "      <td>1500</td>\n",
              "      <td>0.381200</td>\n",
              "    </tr>\n",
              "    <tr>\n",
              "      <td>2000</td>\n",
              "      <td>0.334100</td>\n",
              "    </tr>\n",
              "    <tr>\n",
              "      <td>2500</td>\n",
              "      <td>0.305200</td>\n",
              "    </tr>\n",
              "    <tr>\n",
              "      <td>3000</td>\n",
              "      <td>0.293800</td>\n",
              "    </tr>\n",
              "    <tr>\n",
              "      <td>3500</td>\n",
              "      <td>0.275400</td>\n",
              "    </tr>\n",
              "  </tbody>\n",
              "</table><p>"
            ]
          },
          "metadata": {}
        },
        {
          "output_type": "stream",
          "name": "stderr",
          "text": [
            "\n",
            "\n",
            "Training completed. Do not forget to share your model on huggingface.co/models =)\n",
            "\n",
            "\n"
          ]
        }
      ]
    },
    {
      "cell_type": "markdown",
      "source": [
        "# Testing with validation dataset"
      ],
      "metadata": {
        "id": "Tiv5S7bCv67r"
      }
    },
    {
      "cell_type": "markdown",
      "source": [
        "---\n",
        "Let us test our model and compare the model's prediction with the expected output."
      ],
      "metadata": {
        "id": "wnf8UbW2EftC"
      }
    },
    {
      "cell_type": "code",
      "source": [
        "beam_settings =  TTSettings(num_beams=5, min_length=1, max_length=64)\n",
        "for i in range(50):\n",
        "  print(\"Input: \",val_dataset['sentence'][i])\n",
        "  result = g_model.generate_text(str(val_dataset['sentence'][i]), args=beam_settings)\n",
        "  print(\"Prediction: \",result.text)\n",
        "  print(\"Correct sentence: \",val_dataset['corrections'][i][0])\n",
        "  print(\"======================================================\")"
      ],
      "metadata": {
        "id": "DiV0DwDnwD6h",
        "colab": {
          "base_uri": "https://localhost:8080/"
        },
        "outputId": "9f69b163-6d13-4e45-e097-e7eb1f0d12f2"
      },
      "execution_count": 21,
      "outputs": [
        {
          "output_type": "stream",
          "name": "stdout",
          "text": [
            "Input:  New and new technology has been introduced to the society .\n",
            "Prediction:  New and new technology has been introduced to the society.\n",
            "Correct sentence:  New technology has been introduced to society .\n",
            "======================================================\n",
            "Input:  One possible outcome is that an environmentally-induced reduction in motorization levels in the richer countries will outweigh any rise in motorization levels in the poorer countries .\n",
            "Prediction:  One possible outcome is that an environmentally-induced reduction in motorization levels in the richer countries will outweigh any rise in motorization levels in the poorer countries.\n",
            "Correct sentence:  One possible outcome is that an environmentally-induced reduction in motorization levels in richer countries will outweigh any rise in motorization levels in poorer countries .\n",
            "======================================================\n",
            "Input:  Every person needs to know a bit about math , sciences , arts , literature and history in order to stand out in society .\n",
            "Prediction:  Every person needs to know a bit about math , sciences , arts , literature and history in order to stand out in society.\n",
            "Correct sentence:  Every person needs to know a bit about math , science , art , literature and history in order to stand out in society .\n",
            "======================================================\n",
            "Input:  While the travel company will most likely show them some interesting sites in order for their customers to advertise for their company to their family and friends , it is highly unlikely , that the company will tell about the sites that were not included in the tour -- for example due to entrance fees that would make the total package price overly expensive .\n",
            "Prediction:  While the travel company will most likely show them some interesting sites in order for their customers to advertise for their company to their family and friends, it is highly unlikely that the company will tell about the sites that were not included in the tour -- for example due to entrance fees that would make the total package price too expensive\n",
            "Correct sentence:  While the travel company will most likely show them some interesting sites in order for their customers to advertise for their company to their family and friends , it is highly unlikely that the company will tell about the sites that were not included in the tour -- for example due to entrance fees that would make the total package price overly expensive .\n",
            "======================================================\n",
            "Input:  Disadvantage is parking their car is very difficult .\n",
            "Prediction:  Disadvantage is parking their car is very difficult.\n",
            "Correct sentence:  A disadvantage is that parking their cars is very difficult .\n",
            "======================================================\n",
            "Input:  Bigger farming are use more chemical product and substance to feed fish .\n",
            "Prediction:  Bigger farming is using more chemical products and substances to feed fish.\n",
            "Correct sentence:  Bigger farming is using more chemical products and substances to feed fish .\n",
            "======================================================\n",
            "Input:  Forexample , My cousin is 12years old .\n",
            "Prediction:  My cousin is 12years old.\n",
            "Correct sentence:  For example , my cousin is 12 years old .\n",
            "======================================================\n",
            "Input:  if it does , you will only get some misundrestood idea about that acticle but not the original one .\n",
            "Prediction:  If it does, you will only get some misunderstood idea about that acticle but not the original one.\n",
            "Correct sentence:  If it does , you will only get some misunderstood idea about that article but not the original one .\n",
            "======================================================\n",
            "Input:  Secondly , chimp can also present the capability for grammer which means it can demonstrate the ability to combine words and be able to use grammatical constructions .\n",
            "Prediction:  Secondly, the chimp can also present the capability for grammer which means it can demonstrate the ability to combine words and be able to use grammatical constructions.\n",
            "Correct sentence:  Secondly , chimps are also capable of learning grammar , meaning they can demonstrate the ability to combine words and utilize grammatical constructions .\n",
            "======================================================\n",
            "Input:  Nevertheless , this city is having a big change .\n",
            "Prediction:  Nevertheless, this city is having a big change.\n",
            "Correct sentence:  Nevertheless , this city is going through a big change .\n",
            "======================================================\n",
            "Input:  I think to learn facts is only an evidence if the students can work hard and if they are able to keep every detailled information as tought , but it 's definitly not an evidence for their intelligence .\n"
          ]
        },
        {
          "output_type": "stream",
          "name": "stderr",
          "text": [
            "/usr/local/lib/python3.7/dist-packages/transformers/pipelines/base.py:1015: UserWarning: You seem to be using the pipelines sequentially on GPU. In order to maximize efficiency please use a dataset\n",
            "  UserWarning,\n"
          ]
        },
        {
          "output_type": "stream",
          "name": "stdout",
          "text": [
            "Prediction:  I think to learn facts is only an evidence if the students can work hard and if they are able to keep every detailled information as tought , but it's definitly not an evidence for their intelligence.\n",
            "Correct sentence:  I think to learn facts is only evidence if the students can work hard and if they are able to keep every detailed information taught , but it 's definitely not evidence of their intelligence .\n",
            "======================================================\n",
            "Input:  Unforturntly , almost older people can not use internet , in spite of benefit of internet .\n",
            "Prediction:  Unfortuntly , almost older people can not use internet , in spite of the benefits of internet .\n",
            "Correct sentence:  Unfortunately , in spite of its benefits , many older people can not use the Internet .\n",
            "======================================================\n",
            "Input:  So , if i have alot of information about this subject , i will taulk too much with knowledge but if i have general information for this subject , i will talk about this subjec with my limited knowlege and this case may be make me shame like when my brother asked me about some thing but i have not alot of information about this thing .\n",
            "Prediction:  So , if I have a lot of information about this subject, I will have too much knowledge but if I have general information about this subject, I will talk about this subject with my limited knowledge and this case may make me shame like when my brother asked me about something but I have not \n",
            "Correct sentence:  So , if I have a lot of information about this subject , I will talk a lot with knowledge but if I have general information for this subject , I will talk about this subject with my limited knowledge and this case may make me shameful like when my brother asked me about some thing but I did not have a lot of information about this thing .\n",
            "======================================================\n",
            "Input:  becuse if i see some one did somthing to may safe me time and engy and it wok 's i will do it .\n",
            "Prediction:  If I see someone who did something to save me time and money, I will do it.\n",
            "Correct sentence:  Because if I see someone did something that may save me time and energy and it works , I will do it .\n",
            "======================================================\n",
            "Input:  The government should think about the whole nature .\n",
            "Prediction:  The government should think about the whole nature.\n",
            "Correct sentence:  The government should think about all nature .\n",
            "======================================================\n",
            "Input:  They will not be able to compete with other similar brands and the product will fizzle out or die .\n",
            "Prediction:  They will not be able to compete with other similar brands and the product will fizzle out or die .\n",
            "Correct sentence:  They will not be able to compete with other similar brands and the product will fizzle out or die .\n",
            "======================================================\n",
            "Input:  People are now opening their eyes to the scenario when we would run out of fuel .\n",
            "Prediction:  People are now opening their eyes to the scenario when we would run out of fuel.\n",
            "Correct sentence:  People are now opening their eyes to the scenario when we would run out of fuel .\n",
            "======================================================\n",
            "Input:  For me it was great because I need to talk on the phone locally and nationally for long periods of time .\n",
            "Prediction:  For me, it was great because I needed to talk on the phone locally and nationally for long periods of time.\n",
            "Correct sentence:  For me , it was great because I need to talk on the phone locally and nationally for long periods of time .\n",
            "======================================================\n",
            "Input:  They only care if the effects are good and popular among the crowds .\n",
            "Prediction:  They only care if the effects are good and popular among the crowds.\n",
            "Correct sentence:  They only care if the effects are good and popular among the crowds .\n",
            "======================================================\n",
            "Input:  That is why calculated risks , as one could call them , are the predecessors of big success , because they get people 's attention by giving people new options .\n",
            "Prediction:  That is why calculated risks, as one could call them, are the predecessors of big success , because they get people's attention by giving people new options.\n",
            "Correct sentence:  That is why calculated risks , as one could call them , are the predecessors of big success , because they get people 's attention by giving people new options .\n",
            "======================================================\n",
            "Input:  He said in other words that the more flouride may create damage in human body , specifically the bone .\n",
            "Prediction:  He said in other words that the more flouride may create damage in the human body, specifically the bone.\n",
            "Correct sentence:  He said in other words that the more fluoride may create damage in the human body , specifically the bone .\n",
            "======================================================\n",
            "Input:  When these people create their new ideas others often look very strange on them .\n",
            "Prediction:  When these people create their new ideas, others often look very strange on them.\n",
            "Correct sentence:  When these people create their new ideas , others often look very strange to them .\n",
            "======================================================\n",
            "Input:  You will learn to socialize with people .\n",
            "Prediction:  You will learn to socialize with people.\n",
            "Correct sentence:  You will learn to socialize with people .\n",
            "======================================================\n",
            "Input:  No ohter transportation concept has been as successful as the car , not only because the goog street and highway system throughout the United States and Europe , but only because off the fact , that people love their cars .\n",
            "Prediction:  No ohter transportation concept has been as successful as the car , not only because the goog street and highway system throughout the United States and Europe , but only because of the fact , that people love their cars.\n",
            "Correct sentence:  No other transportation concept has been as successful as the car , not only because they can go on the street and highway system throughout the United States and Europe , but because of the fact that people love their cars .\n",
            "======================================================\n",
            "Input:  If they prefer to choose cars than motor bike , that means there will be many cars .\n",
            "Prediction:  If they prefer to choose cars than motor bikes, that means there will be many cars.\n",
            "Correct sentence:  If they prefer to choose cars than motor bikes , that means there will be many cars .\n",
            "======================================================\n",
            "Input:  That 's why he is a legend in these days and people repect him .\n",
            "Prediction:  That's why he is a legend in these days and people repect him.\n",
            "Correct sentence:  That 's why he is a legend in these days and people respect him .\n",
            "======================================================\n",
            "Input:  for example , in math club , teachers usually teach us how to solve a math problem using vary ways .\n",
            "Prediction:  For example, in math club , teachers usually teach us how to solve a math problem using various ways.\n",
            "Correct sentence:  In math club for example , teachers usually show how to solve a math problem in different ways .\n",
            "======================================================\n",
            "Input:  In order hand , when I was a fresh man in my college , I could concentrate on my favorit subjects .\n",
            "Prediction:  When I was a freshman at my college, I could concentrate on my favorite subjects.\n",
            "Correct sentence:  On the other hand , when I was a freshman at my college , I could concentrate on my favorite subjects .\n",
            "======================================================\n",
            "Input:  I have an IBM computer and my laptop is DELL .\n",
            "Prediction:  I have an IBM computer and my laptop is Dell.\n",
            "Correct sentence:  I have an IBM desktop computer and my laptop is a Dell .\n",
            "======================================================\n",
            "Input:  Air in China is not so clean because of cars .\n",
            "Prediction:  Air in China is not so clean because of cars.\n",
            "Correct sentence:  Air in China is not so clean because of cars .\n",
            "======================================================\n",
            "Input:  When price of gas goes up , the consumer do not want buy gas for fuels .\n",
            "Prediction:  When price of gas goes up, the consumer does not want to buy gas for fuel.\n",
            "Correct sentence:  When price of gas goes up , the consumers do not want buy gas for fuel .\n",
            "======================================================\n",
            "Input:  although , learning more subjects gives us a huge knowledge which is make me sucssesfu in my study .\n",
            "Prediction:  Although learning more subjects gives us a huge knowledge which makes me sucssful in my studies .\n",
            "Correct sentence:  Although learning more subjects gives us huge knowledge , which will make me successful in my study .\n",
            "======================================================\n",
            "Input:  When you`re making a tour guide trip , you already have a everything settled from the time you`re departing to the time you arrive .\n",
            "Prediction:  When youre making a tour guide trip , you already have everything settled from the time youre departing to the time you arrive.\n",
            "Correct sentence:  When you 're making a tour guide trip , you already have everything settled from the time you 're departing , to the time you arrive .\n",
            "======================================================\n",
            "Input:  On the other hand , although in Turkey the public transportation is getting developed especially in the two big cities , that is , Ankara and istanbul , it is still nothing compared to Sweden .\n",
            "Prediction:  On the other hand , although in Turkey the public transportation is getting developed especially in the two big cities - that is , Ankara and Istanbul , it is still nothing compared to Sweden .\n",
            "Correct sentence:  On the other hand , although in Turkey the public transportation is developing , especially in the two big cities , that is , Ankara and istanbul , it is still nothing compared to Sweden .\n",
            "======================================================\n",
            "Input:  This rebuffs the reading passage 's claim that there is no improvement .\n",
            "Prediction:  This rebuffs the reading passage's claim that there is no improvement.\n",
            "Correct sentence:  This rebuffs the reading passage 's claim that there is no improvement .\n",
            "======================================================\n",
            "Input:  As they are involved with study , they donot get enough time to look after their community .\n",
            "Prediction:  As they are involved with study, they do not get enough time to look after their community .\n",
            "Correct sentence:  As they are involved with study , they do not get enough time to look after their community .\n",
            "======================================================\n",
            "Input:  However , I strongly maintained that traveling by their own gives a lot of advantages .\n",
            "Prediction:  However, I strongly maintained that traveling by their own gives a lot of advantages.\n",
            "Correct sentence:  However , I strongly maintain that traveling by their own has a lot of advantages .\n",
            "======================================================\n",
            "Input:  The even ask themself how this kind of things did n't cross their mind .\n",
            "Prediction:  The even ask themselves themselves how this kind of things did n't cross their mind.\n",
            "Correct sentence:  They even ask themselves how these kinds of things did n't cross their minds .\n",
            "======================================================\n",
            "Input:  People tends to choose other medias , and that is why litterature is in danger .\n",
            "Prediction:  People tends to choose other medias , and that is why litterature is in danger.\n",
            "Correct sentence:  People tend to choose other medias , and that is why literature is in danger .\n",
            "======================================================\n",
            "Input:  I cast doubt that twenty years is too short time to prove the problem .\n",
            "Prediction:  I cast doubt that twenty years is too short time to prove the problem.\n",
            "Correct sentence:  I doubt that twenty years is too short of a time to prove the problem .\n",
            "======================================================\n",
            "Input:  So for these reasons i really believe that it 's important to have a broad knowledge on different subjects , instead of being focused on just one , because sometime the answer that we are searching for , we can easily find it in a field that can seems not related to our purpose .\n",
            "Prediction:  So for these reasons, I really believe that it's important to have a broad knowledge on different subjects, rather than being focused on just one, because sometimes the answer we are searching for can easily be found in a field that is not related to our purpose .\n",
            "Correct sentence:  So , for these reasons , I really believe that it 's important to have broad knowledge on different subjects instead of being focused on just one , because sometimes we can easily find the answer that we are searching for in a field that can seem unrelated to our purpose .\n",
            "======================================================\n",
            "Input:  I am pleased to know intelligent peple and learn about things which I do n't know .\n",
            "Prediction:  I am pleased to know intelligent people and learn about things which I don't know.\n",
            "Correct sentence:  I am pleased to know intelligent people and learn about things which I do n't know .\n",
            "======================================================\n",
            "Input:  To resolve this problem , the governments of the cities are likely to improve the public transportation system by building new subway system and adding more lines for buses .\n",
            "Prediction:  To resolve this problem, the governments of the cities are likely to improve the public transportation system by building new subway systems and adding more lines for buses .\n",
            "Correct sentence:  To solve this problem , city governments are likely to improve public transportation systems by building new subway systems and adding more bus lines .\n",
            "======================================================\n",
            "Input:  I know lots of old people who go to parties , stay always in contact with others people .\n",
            "Prediction:  I know lots of old people who go to parties and stay in contact with other people.\n",
            "Correct sentence:  I know lots of old people who go to parties and stay in contact with other people .\n",
            "======================================================\n",
            "Input:  But these thing seem to hard for old people , they move so hardly , and do n't have health body to play this thing like sports .\n",
            "Prediction:  But these things seem to hard for older people , they move so hardly , and don't have health body to play this thing like sports.\n",
            "Correct sentence:  But these things seem too hard for old people , they move so difficultly , and do n't have a healthy body to play things like sports .\n",
            "======================================================\n",
            "Input:  For example , if you understand the idea that all diseases , caused by microorganisms , are treated with the antibiotics , you will never use antidepressants .\n",
            "Prediction:  For example , if you understand the idea that all diseases caused by microorganisms are treated with antibiotics, you will never use antidepressants.\n",
            "Correct sentence:  For example , if you understand the idea that all diseases , caused by micro organisms , are treated with antibiotics , you will never use antidepressants .\n",
            "======================================================\n",
            "Input:  I like about that , but after that it 's gradually starting boring and finally I did n't have interesting about all the stuff .\n",
            "Prediction:  I like about that, but after that it 's gradually starting boring and finally I did n't have interesting about all the stuff .\n",
            "Correct sentence:  I liked that , but after that it gradually started becoming boring and finally I did n't have any interest about the stuff .\n",
            "======================================================\n",
            "Input:  In her salary we cant buy some car because we are planing to finish our hause in Binangonan , Rizal and we will planing to finish my study in Boston .\n",
            "Prediction:  In her salary we cant buy a car because we are planning to finish our house in Binangonan , Rizal and we will plan to plan to finish my study in Boston .\n",
            "Correct sentence:  With her salary , we ca n't buy some car because we are planning to finish our house in Binangonan , Rizal and we will be planning to finish my study in Boston .\n",
            "======================================================\n",
            "Input:  so the information technology and advanced technology are so much increased .\n",
            "Prediction:  So the information technology and advanced technology are so much increased.\n",
            "Correct sentence:  So the information technology and advanced technology have really increased .\n",
            "======================================================\n",
            "Input:  Even more relevant to the seduction of advertisement is the fact that quite frequently those images of perfection placed in front of our eyes are just mirages and illusions , bodies touched up by computer programs and therefore , they do not resemble reality at all .\n",
            "Prediction:  Even more relevant to the seduction of advertisement is the fact that quite often those images of perfection placed in front of our eyes are just mirages and illusions , bodies touched up by computer programs and therefore they do not resemble reality at all.\n",
            "Correct sentence:  Even more relevant to the seduction of advertisement is the fact that quite frequently those images of perfection placed in front of our eyes are just mirages and illusions , bodies touched up by computer programs and , therefore , they do not resemble reality at all .\n",
            "======================================================\n"
          ]
        }
      ]
    },
    {
      "cell_type": "markdown",
      "source": [
        "# Ease-of-use and demo"
      ],
      "metadata": {
        "id": "IPZwKoxLA3tV"
      }
    },
    {
      "cell_type": "markdown",
      "source": [
        "1. Creating a class for our ease of use\n",
        "\n",
        "---\n",
        "This class will have 2 member functions, namely\n",
        "1. `correctSentence()` which will return the prediction of our grammar correction model\n",
        "2. `highlightDiff()` which will highlight the difference between original sentence and corrected sentence\n",
        "\n"
      ],
      "metadata": {
        "id": "lHkouzJ7LIJj"
      }
    },
    {
      "cell_type": "code",
      "source": [
        "class gramCorr:\n",
        "  \n",
        "  def __init__(self):\n",
        "    pass\n",
        "\n",
        "  def correctSentence(self, input_sentence):\n",
        "    result = g_model.generate_text(input_sentence, args=beam_settings)\n",
        "    resLst = parToSent(result.text)\n",
        "    return str(resLst[0])\n",
        "  \n",
        "  def detectError(self,input_sentence):\n",
        "    if(input_sentence == self.correctSentence(input_sentence)):\n",
        "      return False\n",
        "    return True\n",
        "\n",
        "  def highlightDiff(self, origSent):\n",
        "    corrSent = self.correctSentence(origSent)\n",
        "    origWords = origSent.split()\n",
        "    corrWords = corrSent.split()\n",
        "    origHlt=\"\"\n",
        "    corrHlt=\"\"\n",
        "    i=0\n",
        "    j=0\n",
        "    while(i<len(origWords) and j<len(corrWords)):\n",
        "      if(origWords[i]==corrWords[j]):\n",
        "        origHlt += origWords[i]+\" \"\n",
        "        corrHlt += corrWords[j]+\" \"\n",
        "      elif(origWords[i]!=corrWords[j]):\n",
        "        origHlt += redWord(origWords[i])+\" \"\n",
        "        corrHlt += grnWord(corrWords[j])+\" \"\n",
        "      i+=1\n",
        "      j+=1\n",
        "    while(i<len(origWords)):\n",
        "      origHlt += redWord(origWords[i])+\" \"\n",
        "      i+=1\n",
        "    while(i<len(origWords)):\n",
        "      corrHlt += grnWord(corrWords[j])+\" \"\n",
        "      j+=1\n",
        "    print(\"The difference :\")\n",
        "    print(\"Original senetence: \",origHlt)\n",
        "    print(\"Corrected sentence: \",corrHlt)\n",
        "    return"
      ],
      "metadata": {
        "id": "q6Q_rXUZLIwU"
      },
      "execution_count": 22,
      "outputs": []
    },
    {
      "cell_type": "markdown",
      "source": [
        "2. Initializing an object for our class"
      ],
      "metadata": {
        "id": "tSqxaVNvNBGZ"
      }
    },
    {
      "cell_type": "code",
      "source": [
        "gc = gramCorr()"
      ],
      "metadata": {
        "id": "gjrrKMYUNAtI"
      },
      "execution_count": 23,
      "outputs": []
    },
    {
      "cell_type": "markdown",
      "source": [
        "3. Demo\n",
        "\n",
        "---\n",
        "We'll be using a sample paragraph and will detect the grammatical mistakes(if any)"
      ],
      "metadata": {
        "id": "RmSapACvNKBu"
      }
    },
    {
      "cell_type": "code",
      "source": [
        "para = \"Hello, I is Adithya. I am from Chennai. I studys Engineering.\"\n",
        "sentences = parToSent(para)\n",
        "for sentence in sentences:\n",
        "  if(gc.detectError(sentence)):\n",
        "    print(\"'\",sentence,\"'\",\"is grammatically incorrect...\")\n",
        "\n",
        "for sentence in sentences:\n",
        "  gc.highlightDiff(sentence)"
      ],
      "metadata": {
        "id": "cfluctrWNKiV",
        "colab": {
          "base_uri": "https://localhost:8080/"
        },
        "outputId": "e8827abb-61fe-45e3-c46f-7ab929c41453"
      },
      "execution_count": 24,
      "outputs": [
        {
          "output_type": "stream",
          "name": "stderr",
          "text": [
            "/usr/local/lib/python3.7/dist-packages/transformers/pipelines/base.py:1015: UserWarning: You seem to be using the pipelines sequentially on GPU. In order to maximize efficiency please use a dataset\n",
            "  UserWarning,\n"
          ]
        },
        {
          "output_type": "stream",
          "name": "stdout",
          "text": [
            "' Hello, I is Adithya. ' is grammatically incorrect...\n",
            "' I studys Engineering. ' is grammatically incorrect...\n",
            "The difference :\n",
            "Original senetence:  Hello, \u001b[91m I\u001b[00m \u001b[91m is\u001b[00m \u001b[91m Adithya.\u001b[00m \n",
            "Corrected sentence:  Hello, \u001b[92m I'm\u001b[00m \u001b[92m Adithya.\u001b[00m \n",
            "The difference :\n",
            "Original senetence:  I am from Chennai. \n",
            "Corrected sentence:  I am from Chennai. \n",
            "The difference :\n",
            "Original senetence:  I \u001b[91m studys\u001b[00m Engineering. \n",
            "Corrected sentence:  I \u001b[92m study\u001b[00m Engineering. \n"
          ]
        }
      ]
    },
    {
      "cell_type": "markdown",
      "source": [
        "# Accuracy and loss\n"
      ],
      "metadata": {
        "id": "s3Qak96pXVmK"
      }
    },
    {
      "cell_type": "markdown",
      "source": [
        "1. Loss\n",
        "\n",
        "---\n",
        "\n",
        "The model was trained for 10 epochs. The loss between training set and validation set is as follows.\n",
        "\n",
        "![Screenshot_20220721_163416.png](data:image/png;base64,iVBORw0KGgoAAAANSUhEUgAABGkAAAHSCAIAAADQQwHtAAAACXBIWXMAAA7EAAAOxAGVKw4bAAAgAElEQVR4Xuzdd1hT1xsH8PfeJMyw9wyoyEYUQRwoSl1o3bYO6p51ax2tVlvb2lbbqu2viltbXHUginGLigtlKOJiE1YCYYWdce/vjzBDmG58P08fH3vOXecmPs/55px7LuHt7S0QCExMTKDFaJqu+3eKoqytrevUvz2RkZGKRQghhBBCCCH0BpCKBa1EUVTdKIUQQgghhBBC7dIrZSeKoqD+MBRCCCGEEEIItUutzk41SYmuJk9QCCGEEEIIIdSOtTo7KcBBJ4QQQgghhNDH4FWzE2B8QgghhBBCCH0EXkN2wjl7CCGEEEIIoXav7dkJh5sQQgghhBBCH4+2ZyeEEEIIIYQQ+ngwFQveCh8fH0dHR2traw6HAwBpaWk8Hi8qKioqKkpxU4QQQgghhBB6D7QxO7V5wp6Hh8fkyZONjIzqFnI4HA6H4+Pjk5ube/jwYUxQCCGEEEIIofcNw9LSsrS0lM1mK9a0DEVRFEUZGBgoVigTEBAQEBCgqampWFFNU1PT29tbQ0PjyZMninXKZGVlKRYhhBBCCCGE0BvQ6uedZKpExjBtmqFY3qyAgIDBgwcrliozZMiQgIAAxdJXRej5/xTC5XK53NC9MxzaON7WLFbv1afPc7lc7vnjy7xYirVtxeo8fdc/K7w0CcWK10dzwPrgfbMdX+W+vJ07/B5g2c/c88+y7m/y40AIIYQQQu+f1mUnSoV48aVhsa0KkK3rN3p4eLQwOMkNHjzYw8NDsfSV0AXctSP9h03cHiVRrAIAYPVcdfLYMs9X7fFL7vw6Zpj/yI3XyxRrmkToDv4heM8Me6WRlDAaNONTcejxyNK6EyWb3KX1JNmPr9+JL3qV5eabucNvC+nlP25nP8PXcl+0Xfsfm+RkrvBll8QHn+T5zBjJad2/HoQQQggh9GFrRe+PUiGez9UnJbR9oJCQtO55J6XjSDweT7GojsmTJysWfZwYtv6jXBIuXst8lVzTLPHzkL/238x6o+doN+j88AsPTYaP7KKqWIMQQgghhNqvlo6zyIMTQYF9oJCUQquSk4+Pj6GhoWIpwKZNmwICAvr06aNYAQAARkZGHh4erV83QtNvQ9AUaehdDa9etjrMomfndm4/HlvUxAWr919/dKW3CgAAfH92IABIEw8tWHo8vYkcwfRcFrTGMCyk0m2AvYFKedLVvdsO3c+VKW5WD8G2/3TunNHeHfXJYl40d//O4zH5FBCmozbvnuPMBADw2HpuHABIorZPXX+psOqSGR18+1kmnHuYX9OEpndheiz99xu1fzYlu0/9tDtHS5p7d/fXW64JNZxHzZ38SZcO5rqqlcLEB+f27w15LqIBAFh9vj7xjY8KAJUdvHLunufSqtMwuyw48J3RxT15XUb37KAP2XcPbP7zSnpbh5SYpr2mzPviEzcLDUnOi/DjgXuvpFYAAIAqZ+Ds+Z/3cTBWkxQJkiKO/bkjTJ7gCP2uE+bP8O9qrU2U5WU8v7hny39x5fWO+TqwzTrP9HX0MlYnK4oePY7ZHcEvaOK7UqPs0b1Y9pe+LjtjosSKdQghhBBCqH1qNDvFz9A3fFCqH1cJABSLeD5Hn5DSDnvyiequdcs5OTkpFgEAQGlp6a5du549exYQEKChoaFYDdC9e/fWZycAIAw93SXfrpz+pMJ86Jpf1ywULNgU1niPuDxs46gwYPVcdXSJ5NeArQ9b2kA1N0/9TatnbSzS7b1481cr8xevOdPEsA2h22fh+mlW9/5a+9tzCWfIguVrV5Ut/iYki+KfWTniDKE7eOOBcSlr5u1/qRDACD0nF7P8xMTa6AR0M7sAwXL//LPig9sW/p5Jmzg5sSUAoKajXnj/8Ja9qTllajYD5yzfsLBw7s83imgAye2fR/n/rDlgfVDDgT6Wu0+HX7/98n9FRkO+/n3O1D4RP4XJA1crMTt+vnblgIIjW5bcEmh7fLF8wfpZwoX/iykD0nzY4i+7CQI3zIvMI/U4Lq7q1XPtVLtP+WqM3uVfl3+fUqlpatfVEkgCWhTaK0pLcssV74lShIb1vJHulkkPvrsglBh0mjvEZ4X44vro4pqPkaosF5SIlX0jyhNfpGsNdLViRCW16FQIIYQQQuiD1+icPZM7pYlT9Aud1CgmvJilR9DgsCefVNaLbJa1tbViUR3h4eGbNm1SOn/PyspKsahlJE9CT8eJKBBnXAkOF3v4eeu27vGsFpElXT4VkScFqfDeqSvZnQf4WDZ6MwEIHa+BXuTdf/eFxWfzU+4H7btS6ODX16qJPaowTMxNiPwcYas66ETZvX/33EguEleK0mPuPy+kgc67e2T/2btxyVk5/OQHx89GM5xcOjT/SJAs6fKp+7kSWpx1K/wFs4OdVfO7KMO0GzDAKu3s7lMx6YKspxd2/Rer229gV3UAIPWNDIjcF9Hx/DxhVmLU5eDbVcN9hLqBoWZZamwcT5gnSHt6+8yluHqPezWOir15cf2DgpbcMO0OHbqT6UdvpCYUlqQmxR56WtHZiWNZ57tSEn9/ydnEHCUnpoS5QjAxM2n+E0QIIYQQQu1Eo+NOOi8rO+/LT5imp8GXkmLaflde24ITNJedACAtLU3p/D35m3NbjxZlZ5fI+7syQXYO2d3clAEFbb38xkgFWQJ5P5/KyRaAqaUpA3iNDTyRxhamZHYsr1L+v1JecgYMsjRjQFpje1RjsZggkbQkCdSSJb9MUphKxjT2mjBr4oAutkZsFoMggC6/odZ8oKTy86oG7MSVYlpNrY3P96iamRmIealVt4suTk3NY7maG5CQIU24eTnZb8b2v71inrxMeBpx4258oRQAgC6Kunr386XrdtrGPHqW8CIm/FZMVrmSDNNCpKPv8B+6aZIAIOVt+fvOPRkAEMZ6bLJQkF71zaDSc0TgomVKAq8Ft1smkdBMFRZmJ4QQQgihj0aj2QkAdF9Wdj5YkNVf035vG0ecWqXN79ttgCDJmvERkmQA0XxIaAOCZFR3nEmSBAKaPIvSyhY0mBYViWi2NpsAZaMfytEyscI8M9J8+Ferh5Qf3bx47bOcMinTa8Xh1Qyll6ToNX0oRGMHqnxxZOXMcGf3Li5uXv6Lx4/22LRo230RDUDn3tg8N65z166uzl37fPHdZ4P+XbHqRGoLQo1SVNKD60tiSQIAaElek0dRfp2KCE1tLaI4W9TkoRBCCCGEUHvSzM/mOi8rHQNfNTgpnY9XF4fD+frrr318fBTKm92xMdocjqE8GahY25jR/ExBdReXlkqkwFKVrwxRD0XRDIbSPEGq6xobG2krjrkwrGws5RGNaWljBdmZ/Jp+NC2VypiqrDoHowRZAtrMxrrqIExrW0sQ1NmDomhQenpZVlKK2NTaouEVN7qLEgwb+46SyHMhsYIyKQ2kkbWFmuImr4uyO1zJz8pX5dhUTXAjtDg2BhJ+Vl7VkJusOD02PPTI3xtW7nms4+nVqXZeoFgYH3Hl1P7NKzedK+jo2aXqM5VT0TIwNNRpwdiZnLisJDNflJEvyigor15xgs4pLKV1dS2rfkAgrYy0oai4anSsGQwrjiWdmpCG2QkhhBBC6KPRTHZ6LZqOQD4+Pl9//bXS6XlN79gE0n7kzOHO5iY2PadM6kNGX4uoXSmiIiUxU8fDr4+NkZ6utnrtsBuVky1gOXh6mGioqLCYdV9fRej0X7nnQOC8bgqvumWYD57+WTcrE6uu46cO0k8IC69dmE+WlpAMLgMGdTbW19PVZAEAXRRx9QHdK2CmbydTE5seATMG6SVcq92DLhPwi/VdvBz11VVUWMy6gaAyNuIx7dSls+IIYRO7NETxM/hqdl06swkg1KwGTh1eJ6C8bkrusDQ+LCzTZsTsMV2tjM0dh875vEvx7WuPKgCAaT989vh+LtZGevrmLgO8bWQZadkyAADCsNfEqf6encwM9Iw69Ojrpi/ipVcvPQgAwPJafOj44XUD9ZpueNNEScmRtNWkfpyOOpqcjq5TXdSTnvEyWjLwRFq4uekmPIhufAkShBBCCCHU3ij2yN+EZ8+eKV2IXFNTc/LkyQ2Hm2pERkYqFrUILbx1idd92fZZhrLs6JM//xVWZ5E6WeqZvw93Wvblnwc1yZyQ1bN3P5UPqslSuQfOOM1ftus/NotK+qeZNcoBACoiL0TbzN68y5yZF3fpty1n67x/ic69snuf88ovNh+Yz6q4+eOEzfckdOGt//2gN3fO9J936TFK0h+d+2XH2YzaPaRPT++9vGL6+oPjNZjS6LprlNOiexfuzFno67In9lHV01LN7dKQLCV42z6LRWv2HpaVFAmehIbe7TJRXsPoPG3n759VDaDB72dHA0git32x4bKodu/WUXaHpYnHfvpNdf4Xq/6aoiEWvrwTuHF3VCkNAFSFmN11/FdjzfU1aFH6k2u//3E+W94KcTlpPW7OwOlG2iyxMOHewZ8OxtRpPqGmocGA4lzhKzwDBUCXpe0MUZ/l6/7DdHWyQvT40e3dMaJmPnYAACBt+vUzexwcxn+VsyOEEEIIoQ8L4e3tLRAITExMFGsaIX8qia4mk8mkUqmdnZ3idvVt3bq14Sue0tLSlA43yQmFwmXLlimW1qcsXGn6bQgKyF5XE4reCKbnsqDVrO0TN99r6/uOWoPBmbBti2PI3O+u4jBHFRWvr45u7BQ8f0FQyjuYNafRfdmeBeU/zwuMq5dmEUIIIYRQu/Y25uwBQFBQkGJRc8voKd3l4yRLC94a+IwwVn+V+WntCqOju4vsVlBIm9eOeCVMI43MoC2Hn2JwQgghhBD6qDQ2Z4/UMLQw1iRokBbxswsrX3W4Iyoq6tKlS4MHD1asaMSlS5fa9Fbc9qoy+frxZMXCj5js+e5pnykWvjXStFv/pSkWIoQQQgih9q6ROXtMXStzks/Ll6obc3TL0qrflgRtnbMnFxAQ0JL4dOnSpRYOOimbs4feJEaHgdMGdlCSuGWZt4+ef9rC19cihBBCCCH04VHSCwYAQkWVIS6RAtDiSilLhUmoapqZaDNoAiqFWYKStj5IFBQU9Pz584CAgIbPPskJhcKgoCAccXp/yZKv7NulWIgQQgghhNBHQHl2AoCqd5nSNE0QBIutwyjOSi+gNXTVmQRI2z66EBUVFRUV5eHh0b17d2tra2trawDg8Xg8Hi8yMhJTE0IIIYQQQuj91Hh2Igj5nwRN0+KinBJDY0tLkJbm5bQ9ONWQJyjFUoQQQgghhBB6XylfZ48WV8pUVJkAhKoaU1wpVWVryAoyMzJyJdpG2o3HLYQQQgghhBBqp5RnJ5CKhGWaFhxrayNGYX4ZLamktUytraxMNSqLStv6tNM7Ruj5/xTC5XK53NC9MxzeVABk9V59+jyXy+WeP77Mi6VY21asztN3/bPCS/O9WKOc6TrvUCiXy+VyQ777hP1eXNIbQeh/8v2RP8ZaNvJPBCGEEEIIfWwa6xhS5cL01DReWlpWoZgGqiI/k8dLT+el84vEipt+IOgC7tqR/sMmbo9S+jpbVs9VJ48t83zVTCW58+uYYf4jN14vU6xpEqE7+IfgPTPsGYoVAACE0aAZn4pDj0fWW8WuyV1aibT6/M/g38eYtSgISZ8ETh3uP+KrYD6lWPUWkfpOWxb7DlBTLG8L0mjGrLFLOij8W6DzbxwN0/3si15aLbotCCGEEEKovWssO6H3BsPWf5RLwsVrme8yqnyUpPGXrub3Hu1njOEJIYQQQgg1tVbEh0rTb0PQFGnoXQ2vXrY6zKJn53ZuPx5b1MQCF+r91x9d6a0CAADfnx0IANLEQwuWHk9vIqswPZcFrTEMC6l0G2BvoFKedHXvtkP3c2WKm9VDsO0/nTtntHdHfbKYF83dv/N4TD4FhOmozbvnODMBADy2nhsHAJKo7VPXXyqsumRGB99+lgnnHubXNKHJXRgG3cbPnjLUw1aXLEp9eHZv4Kkn8iMR+l0nzJ/h39VamyjLy3h+cc+W/+LKgWE3bccfn1kxAAA67Ts/C4Auv/HjhM33lA7ONUt5GwEAmKa9p3wZ8ImLhQZVIkyLPfP3ltBkGQCAKmfg7Pmf93EwVpMUCZIijv25IyyriTvfNgy2d+/uk5yNzVWo3Oy0E9djrgtbMvWUyoy4zw/w7W0cclrQxDcIIYQQQgh9FNpfdgIAwtDTXfLtyulPKsyHrvl1zULBgk1hBY32fcvDNo4KA1bPVUeXSH4N2PqwJZ1qAAA1N0/9TatnbSzS7b1481cr8xevOdNEp5/Q7bNw/TSre3+t/e25hDNkwfK1q8oWfxOSRfHPrBxxhtAdvPHAuJQ18/a/VAhghJ6Ti1l+YmJtdAK68V3UHKf8sMYr+Z9tX0VmgVmfaUvXLite9N2lXBpUu0/5aoze5V+Xf59SqWlq19USSAKAliUcnPvpQdLq821/et348qvT2Y3ephZotI1A6Pabs/QTOP7zwrAsStvCycOwasCTNB+2+MtugsAN8yLzSD2Oi6t6C+cg0jJxXlF5eYsul+zg5bPMqfw49+JtkWq3Xj3njYL8fx4+qp19KhOJSmXK0qIsPT5BPN7VUf20oHWTMBFCCCGEUPvTPufsSZ6Eno4TUSDOuBIcLvbw89Z9A7OuZEmXT0XkSUEqvHfqSnbnAT5NrSpA6HgN9CLv/rsvLD6bn3I/aN+VQge/vlZN7FGFYWJuQuTnCJse05Ij2D3GDNW4EfhnaEwaX5AWE3zwQo5r/x4GBAChbmCoWZYaG8cT5gnSnt4+cymu3tNTr0MTbSS0jQxZhQkxz7Py8vgpsddPXk+UN4jUNzIgcl9Ex/PzhFmJUZeDbzc13FcHXZT4y6GIe5WK5UqQ+v2ctHnR0WfSRDkFuZfCnsZpcPw4dX41oPJP/nfxkNITy4S5+QxTs+qohxBCCCGEPmLtctyJFmVnl8iTgUyQnUN2NzdlQEFLx5NaSirIEsi721ROtgBMLU0ZwFPW/wYAII0tTMnsWF5VX1/KS86AQZZmDEhrbI9qLBYTJJKWRCcgLTpw1I17/3xmeG2ZjBepS4JQVhR19e7nS9fttI159CzhRUz4rZislg3atFwTbaSy7lx+MmL2zztdYh4/T3geeTM8LlcMACBNuHk52W/G9r+9Yp68THgaceNufOErfFCE9thJQyebkAAg5UXOO5mQDwAsLTO2LF1YIr/TdEVhWgnDRU+DBFFz9x6AlkokwFJhvoHsjRBCCCGEPjDtMjsRJFkz84skGVWv+X3dCJJRPRpBkiQQ0ORZlFa2ILzQoiIRzdZmE9CSlxIThOzp7tmrzvAbbEvn3tg8N65z166uzl37fPHdZ4P+XbHqRGqLIlmLNdFGaXro+pmRjt26urh08509ZpzP/xZ/fzmHBqh8cWTlzHBn9y4ubl7+i8eP9ti0aNt9UYPLbyG65NK5CxFMAABaUlFUXaz0wlqEZGuzQVRU3HzKQgghhBBC7V37nIukzeEYyvvLKtY2ZjQ/U1AdEmipRAosVfnKEPVQFM1gMJT1skl1XWNjI21VhWKGlY2lPKIxLW2sIDuTX5NEaKlUxlRl1TkYJcgS0GY21lUHYVrbWoKgzh4URYPS08uyklLEptYWDa+44S5UZnKqxNrZQbvhYQAAQCyMj7hyav/mlZvOFXT07FJ1iwAAKEoGDGZrRldoqVQKKip1L6uZNtLl/Gd3Lvy366eV225Blx5ONcuLy4rTY8NDj/y9YeWexzqeXp3qPvHE0NA1NNRntzjiUyUiUUa+KCNflFksrjqzpCSrlGFlyJZ/1wk1XQ6b4heUtSQOEWwrK/3CpKTGn5ZDCCGEEEIfjfaZnUj7kTOHO5ub2PScMqkPGX0torbvW5GSmKnj4dfHxkhPV1u9tk9O5WQLWA6eHiYaKiosJlknRRA6/VfuORA4r5vCq24Z5oOnf9bNysSq6/ipg/QTwsJrH5iRpSUkg8uAQZ2N9fV0NVkAQBdFXH1A9wqY6dvJ1MSmR8CMQXoJ12r3oMsE/GJ9Fy9HfXUVFVa9DFMZG/GYdurSWTE+KNmFLrkfcrHAc9aqyb3tzI3NO7j2Hjl3ySg7BgAQhr0mTvX37GRmoGfUoUdfN30RL716JT8AqpCfI7Vw9+qgo6Z4+sZQmYnJlXZ9BzmbGejpslUIaLKNpLXf1MkD3W1N9PVM7fv0cVATpGWIAQCY9sNnj+/nYm2kp2/uMsDbRpaRll1nMIy0HP3LkWM7pssXFWwjKu/W82JOt24jOdpGuoaD+ju7lvPCeC2aGaju0tW+OPJBfIs2RgghhBBC7dur9EnfW7Tw1iVe92XbZxnKsqNP/vxXWJ1F6mSpZ/4+3GnZl38e1CRzQlbP3v1U3i+WpXIPnHGav2zXf2wWlfRPM2uUAwBURF6Itpm9eZc5My/u0m9bztZ5/xKde2X3PueVX2w+MJ9VcfPHCZvvSejCW//7QW/unOk/79JjlKQ/OvfLjrMZtXtIn57ee3nF9PUHx2swpdF11yinRfcu3Jmz0NdlT+yjeisjKNulIu7guo0lMybP/HGcoUplQVbio5un5IuEi8tJ63FzBk430maJhQn3Dv50MKbO0Uojju6PWD7p16AZamTVBddWKkWX3j24o8vq2T/s+UJVVnX2xttIV1aq2n+2aNg8Iy1Gadaz8L9+/k++WARVIWZ3Hf/VWHN9DVqU/uTa73+cr7vUH6GuqUHIhDlVC523EZV0P3wbs/ukYUMDVGTC7PQ9IdF1G98oQsuzv4fo+rr69x0hhBBCCH2kCG9vb4FAYGJioljTCJqm5X/KyWQyqVRqZ2enuN1bERkZqVgEmn4bggKy19WEojeC6bksaDVr+8TmM8brwOBM2LbFMWTud1c/srljhNn47Qcn8H+c9nN48dtvOWE+9o/tHlcWrOW25FEzhBBCCCHU3rXPOXvtjCwteGvgM8JYvSWT6doRQsvVnZN8+ujddxCcAAgdw8q7W/++jMEJIYQQQggBQDuds9f+VCZfP56sWNju0aLLa0deVix9W+jC2NATioUIIYQQQujj1f7m7KHXgDTvM3GYc9XKdHVReZGnT0Xl4VAMQgghhBD66OC4E1KCyrp9eM9txVKEEEIIIYQ+Yg1HFhBCCCGEEEIIKcLshBBCCCGEEELNw+yEEEIIIYQQQs37eLIToef/UwiXy+VyQ/fOcHhTz3mxeq8+fZ7L5XLPH1/mxVKsVUrd99vgQ/PdWnFFTNd5h0K5XC6XG/LdJ2ylC5eTFqN/P7JxoIHSyreP0fvTzw58YtqKNgIAaHgu/2fXDHsVxXKEEEIIIYTegY8nO9EF3LUj/YdN3B6l9HW2rJ6rTh5b5tnK3n0Dkju/jhnmP3Lj9TLFmtdI+iRw6nD/EV8F8ynFKjlCq+eUCfphR28oLohHevmP29nPkFG/9J0j9Z22LPYdoKZQXBb1X2jl8OkDjd+TBIgQQgghhD5qH092+ogQxgPG9M6/cvml0pT4AaEyr16Mdx41tMP7FvYQQgghhNBH6FXHWd4/mn4bgqZIQ+9qePWy1WEWPTu3c/vx2KImXkik3n/90ZXe8olh358dCADSxEMLlh5Pb2RQBwCY1qN/2vJp1u9L/3wgooEw8lu3bQZxYOkPV3MbPw+rw+B504Z1tbMwUKcKU6Mv/bvneJRQVlVJajmN+/bLUR6mIHh0fvefh6Py5SdXMe89efYkPzdLNpWfeOdE4O4LiWWNn6IKYdzL11HwIDCj8QbUQxjYOE3v3ambkTpRVhgVE70nMqeIBmCYL5rbx+D5S7GVjR2bUZ6TcvDyowciGgCAwfbu3X2Ss7G5CpWbnXbiesx1obT6YKqOXd0nu1vaaTMqRPlRUdG7H+dXyKsYWn39XCc66WuJC65dv70voaz566MLHt5PWDiiX4egpITqe4UQQgghhNA70S7HnQhDT3fJsZXTJ01ZfRY+XbPQV6+pSV/lYRtH+fuP/OFGmejKhhH+/v7+IxY3FZwAQMoL2XogvceCeb31CNJ08KJZnR7v/OtaE8EJABjaWuLHJ7d9u3j2nBVbb7KGfPPVMNPqyyL0+gzpFPu/FXOXbLuvNWL10oFGBAAQ2l7zf1zklhP8y9I581bvijX7Yv28HlpNNUVO3cHNTpoUz1MWNipKS3LL61WomXdZP8xG+jRizYFzqy+lqXb1WeyiWX0ShmsHtWunz00PvPhvidXSofbmBACQHbx8ljnBDe7FL/+5GVJqNm9UV/eqZ5JIGy/f9T11Uu7dXL7//LrLyUWamtUT8Qgtu87u+bE/Hr66M0Vl4ACXug940TJxXlF5uZL7RxfEx+eZuTjrN99shBBCCCGE3qh2mZ1A8iT0dJyIAnHGleBwsYeft+7r7npT/Et/7nrhMm9RwLSl08zv/hV4p0BJz7+uikcnd526FZuYmZPDe3Tu9J1iO1f7mgd8qPiQvWfjMgVp9w//E1bu5tfLiADCyHds37Jzf+6+Gpcu4CffP/LvDVnP/u6KDwU1QBqYmzALcmtGguqiYm9eXP+goE54UvHs3knjReSOR3xeUSkv7cW/saXOjhbVUYVOfvL8YQkFVFlEZDLf1KaXPgGkfj8nbV509Jk0UU5B7qWwp3EaHD8OEwCAaTq8m27K/bv7nwszRaXpGcmH7qYXVp+JFsQfjBGk5eeFRyanqep30q79TOiixF8ORdyrrCmoJRMKhGBiboKz9hBCCCGE0DvW/ubsAQAtys4ukUcZmSA7h+xubsqAAmVZ4hXQebd27PT8a+3oytC1G6Pkc9maQui6jpk1ZWi3DsY6akyCAJBEqakSIB9sKeGlCeVHkGSkZYK3hSkD8q07ctQ6uP59bnLtQaRx+lrV+zSKxWKBVKps1KkhUsvWgGVk5/efe22ZLC9bl4A8AAAqp7BUPgJHFRXnANtCh4ASLTO2LF1YIi+nKwrTShguehokiEBbl6NS+jijVNn10aWFxSL538SScmCotpET8rEAACAASURBVGwVQpBJpcBitXBjhBBCCCGE3ph2mZ0IkqwZpiBJBhCve9RJTs3CwUZTKlO3czBlxiY3vS4Doeu7cN3nOhe2rNr4KLNYwnCcGbjJttFBP5oGACAAJPe3TNoY1ro1+2hRkYjW1FK+dnlDBEE9v3H+m6iqsFmLAQBAktWHIUkSAAio/qPV5I2q0cKDEGwtNogKm8+mCCGEEEIIvVmNdt8/aNocjqG8b65ibWNG8zMF1aMwtFQiBZaqklcGURTNYDCU9ehJdV1jYyNt1XqFhJbHjGX+lf+t/e6C+vhlkxzqTaWjpVIZU5VV52AMK3s7lbgLJx5mFEtoIDQtrfTr3nq2lXXVBbMsORbAz8yWgYyXzKM7Ojuo19muLloqlYKKSoOm0IXJyQU6VpZ15sQ1jipOFlJWFoZaihVypKWhtjyGMvR1LKEkq5AGSUlWKcPKkC2/fkJNl8Om+AVlFAAlKkwTazpa1Dwu9RqwLDnm4pSkzJYNoyGEEEIIIfTGtM/sRNqPnDnc2dzEpueUSX3I6GsRtQ8jVaQkZup4+PWxMdLT1VavHXajcrIFLAdPDxMNFRUWs2a0BQAInf4r9xwInNetzrwxQq/XvMX98o5sO/X00eFtZ+lPl01zr5MYZGkJyeAyYFBnY309XU0WAMgEGVmUTRc3fQYAy7jX1LHVqyvIkfYjZg53NjfmeE2a0l/t0bW7QhronLDTt+CThcvHdO9gamLZyd33s0XzBprXfGJUZmJypV3fQc5mBnq6bJXas0vjIyKLO7k7Nxa66hE/jE4ssO26vJdVJ11NM2Pjnt08FnroVw/bEeau7mNttI31Tcf26agvSL2TTwOVd+t5Madbt5EcbSNdw0H9nV3LeWE8KQCAlH8+urCDd69pjobmWpoWZtbjulvo1DlZ6zE7u7vA4wdPlD0KhRBCCCGE0NvEsLS0LC0tZbPZijUtQ9M0RVEGBgaKFW9FVlaWYhGodPAdY5cY8sh28tLZY7y0koO3/hWaWrVKNgDQRckpMpdPp82cMmFsX9WY81G5Vc/tFGUI1LoM/2LG9CmTPvOS3r70tHqaGKFuN2CUl2H6rZN3qlb9Jo0Hrlw/rOSf73dFiWiQ5T1/SfSbO9mOdyMio6qPX5aWVGI7OGDGtInjhxknBt/JkJWmxgvNB86cP3X00E88NB5fjTfpwn4eEpZYASybfmMdU84+sJq4dM64nnq8c9u2n0kuBwCozIh+kK7tMfzzgIDx/j5ulozsR3cj4oVi+TlAkpmYY9Rvwsxpkz4b2VFw4UZSdStluUV6Aye75HLD06q3bZxUJHggIB1dnCb2dhnmaMpRKX+WlPGsUAqkVo/ulnmxyVrdvGd7c0xFyTsvPn1RCQB0QRY/U8NiZG/3iR4cjjgr6GL0HVHVXSzMyngm0/P1dJvU096Xo1mayYvgl0uBtLZ36iZNO5dcQgEQKgb9uxrkPU2ILa1/KQ2puk1Y6Ms/8r9r6U1PiUQIIYQQQuiNI7y9vQUCgYmJiWJNI2ialv8pJ5PJpFKpnZ2d4nZvRWRkpGIRaPptCArIXjd799PXvDjEh4QwHPLjzsHRS5afymrzg0IM80Vze7Mun/ojscn12t8gQveT73aPerFyydE0nLKHEEIIIYTetfY5Z++jRwuv7Nh6R2yo8xqfPHr71IyJ54FbT2NwQgghhBBC74N2uc4eApBl3j2ZqVj4gSmPv3IsXrEQIYQQQgihd6P9zdlDCCGEEEIIodcP5+whhBBCCCGEUPMwOyGEEEIIIYRQ8zA7IYQQQgghhFDzMDshhBBCCCGEUPM+nuxE6Pn/FMLlcrnc0L0zHN7U+oKs3qtPn+dyudzzx5d5sRRrlVL3/Tb40Hy3VlwR03XeoVAul8vlhnz3CVvpMuSkxejfj2wcaKC0si6y57DPgldMOrNiUtAQ85Zd8LtHWo7demSDX/OtQwghhBBC6LX5eLITXcBdO9J/2MTtURLFKgAAVs9VJ48t82xFglFKcufXMcP8R268XqZY8xpJnwROHe4/4qtgfiNvrSW0ek6ZoB929EaewptxSS//cTv7GTJqS6h75/8b/fuxTc+V3pV3ruEFAwBQGReORTtO+dxFtX45QgghhBBCb87Hk50+IoTxgDG9869cfvl+5qHXoSzq4k3yk9E9tXDoCSGEEEIIvSWvOs7y/tH02xA0RRp6V8Orl60Os+jZuZ3bj8cWKYy/1KXef/3Rld4qAADw/dmBACBNPLRg6fH0RgZ1AAjtfl/vmSveNuu3e/LhJabjzMBN9qHzV5/hN3oiVofB86YN62pnYaBOFaZGX/p3z/EooayqktRyGvftl6M8TEHw6PzuPw9H5ctPrmLee/LsSX5ulmwqP/HOicDdFxLLGj1DNcK4l6+j4EFgRqMNaCFC03T8APfBNrradHly0ov9YS9fVgAAAMnu2af7RGdjcxW6pLgoLvrh1kcF8qawzexn9XfwNFZnSiqy+alBFx9HlsovWNWhW9epXS07apFlBYIr4ZHHkktlAABMa+euc3pYd9ZmSspLU5Lj/r6amt1sEwGkL+5HSr7v78m+eb24BZsjhBBCCCH0qtpfdgIAwtDTXfLtyulPKsyHrvl1zULBgk1hBY12sMvDNo4KA1bPVUeXSH4N2PpQqrhBA7TowbUHc5f7dte6f6uYBmA59O2t9/REuKDRcwAAQ1tL/Pjktn+S+CKGee9py7/5qmTB12flWYvQ6zOk077fVuwutvJfvGL10pwFGy7l0oS21/wfF9k83PvL0idClu2guUvWz8tfsPV+c1lB3cHNTpp0klcdzOqqKC3JLVdW0RDBHurvM4KR8Nex26mk4ejBXt8MrFh6Lq0AQMeh2yJnOHHuwq1CWkvPsGvN4A9pMGZIF9v0++tCc0uYGrZWBlTVuCZp3b3vOvfK02HXtufK9GxcFvn3qTh2+ZSQJvXsvvQzyw27sSilnKGp42TJUpie1+gFy5JeJrFmunViXI9p/hNDCCGEEELolbXPOXuSJ6Gn40QUiDOuBIeLPfy8dV/z1K7ymOt3K7r5eukQAKDi4tuL/ej6nfwmM03Fo5O7Tt2KTczMyeE9Onf6TrGdq71adSUVH7L3bFymIO3+4X/Cyt38ehkRQBj5ju1bdu7P3Vfj0gX85PtH/r0h69nfvWafxpAG5ibMglyhskRBxd68uP5B1RhR00g96/7mldfCYyNySwSC1IN30qFDR09NACC0tTSYZfmPs4rzSkpS01ODn+VXHZDUMGLTWRn8VFF5bn7eg8fx0fKcxzD299B+HH4/OKmALxI9j40+w9fx6azLACA0NQyIshdp+YKSsixB9tUoXka9u9j4BdNlubmlbFMzzdf80SKEEEIIIaRcuxx3okXZ2SXyLrhMkJ1Ddjc3ZUCBsizRZuIn18KLfvD11r9+sbRLP29W5M4IUZPRCQhd1zGzpgzt1sFYR41JEACSKDVVAsppAIASXppQvrskIy0TvC1MGZBv3ZGj1sH173OTaw8ijdPXqt6nUSwWC6RSJXGjVUgdLRMQXcirmvhXmVfIByMLHRJKqayE5Kfdum2cZvyYJ0zMyrodn5Mrv7nSnOtxZasH+f/myH/Gz4tLSHsgFNMAhJaejbqqw/BxvYfXHJ4uLFIlAKSCtKu5tlMnD/VMy4kX5D58np5Q1tKphlKpFFisD2VtQIQQQggh9KFrl9mJIMmamV8kyQDiDQxNSOOv38jZ4tvLOFzYz4uO+COqVHGLeghd34XrPte5sGXVxkeZxRKG48zATbaNDvrR8pl8AJL7WyZtDGvdmn20qEhEa2opX7v8tZDlx2/cl+XAMXW2NOvnO2C0/cMVZ5JyaQCojAm7MC/OpIuVkWsnp+Ve9hdOXTyYIQUAghadDDof1HBWo0R4/NjZOxamrpYmnm5eY7uZbQ66H1GuuJUyJFtLkxIVVYVkhBBCCCGE3rBGu+8fNG0Ox1AeHVSsbcxofqagehSGlkqkwFKVrwxRD0XRDAZDWeAg1XWNjY20FdbDlqXeuM6z6z/00wHdK+5cj5UvolCFlkplTFVWnYMxrOztVOIunHiYUSyhgdC0tNKve+vZVtZVF8yy5FgAPzNbBjJeMo/u6OygXme7umipVAoqKg2aQhcmJxfoWFlqK2tLY6QyisGs13qqqFgA2pzqy1Q10DWFkmxR1aAQLS55npB4Mix8zeU0sLJwrB39oQpzs29Gx/7vRNh/Qk0PG20GAF1SkFah4WjRyPQ6SpyRzrtw7+EPx6Ifa5h7mLTsO0macqyY6UkpYsUKhBBCCCGE3oiW9VM/NKT9yJnDnc1NbHpOmdSHjL4WUbtSREVKYqaOh18fGyM9XW312mE3KidbwHLw9DDRUFFhMck6vXxCp//KPQcC53VTmB1GZd66ntBhzCTP4ts3ntfvwcvSEpLBZcCgzsb6erqaLACQCTKyKJsubvoMAJZxr6lj3etlHtJ+xMzhzubGHK9JU/qrPbp2V0gDnRN2+hZ8snD5mO4dTE0sO7n7frZo3kDzmk+MykxMrrTrO8jZzEBPl61Se8XS+IjI4k7uzo2FLiVoHr+AsLT1M9XU01TTYAAAUAXpN7JV/fq6eRlpmphwpvW2IlJTHpQCAGHl1GWCs6mNtrqejkFvO0M1UVGmfM6eiumofg7eZloGmhqWHJtuurKMvFIKAKQ556MLbXv2muFoaKHN5lhYDunb63NrEgAYZnbTvThOBhp6mlpOTpY2tCi9sEUDSYSem7s1P/LhKy8miBBCCCGEUMu0yzl7tPDWJV73ZdtnGcqyo0/+/FdYnVUcZKln/j7cadmXfx7UJHNCVs/e/VTe7Zelcg+ccZq/bNd/bBaV9E+Ta5RXoXNvh8VOdzIKv5Wg8CwVnXtl9z7nlV9sPjCfVXHzxwmb70lyLu/422bJ3B3/zistznt55cK17GkmtdsX3L6c3HXJ1pnGtOBRyC/brwhpAKBF9//+esukmZ8v+nWqLlmWlxkffeVY7VNVdOndgzu6rJ79w54vVGXR26euv1SdOiofX7xa+KOvp9btm82tyVeFFj6NPmDRa9LnI+YwpeEhp/5IpIAuvsC9rTXAfd5EB226IiX5yS/XU+Q3slLK6OzlNXSABpuUZGel7Qx9miS/V7SE0rKc9KmLiSZTVloYE3l774tKGgCASou8uVHqHtCz3x/aTGl5SWpGZqiIBgBaTLE5Tsu6a+mpQHG+IOzC/Qstyk6EUW9f+9RL/0t41ce6EEIIIYQQaiHC29tbIBCYmNR25JtG07T8TzmZTCaVSu3s7BS3eysiIyMVi0DTb0NQQPa6mlD0BpGcCdu29bq7dOmxtOZy1ltGGA75cefg6CXLT2W1JIl8cJidZwR+b7R/zua7LQyHCCGEEEIIvar2OWfvzWOqaxt2GhIwzOL55TDeexacAIAWXtmx9Y7YUEf5E0YfOtJAtyj0t333MDghhBBCCKG3p13O2XvzWF6LDqztLU65FfjrpYZrx70PZJl3T2YqFrYXlODBqTOKhQghhBBCCL1R7W/OHkIIIYQQQgi9fjhnDyGEEEIIIYSah9kJIYQQQgghhJqH2QkhhBBCCCGEmofZCSGEEEIIIYSa9/FkJ0LP/6cQLpfL5YbuneHwausLkpwJf53lcrlc7tk/xpq/43tIWn22LVjxMkiL0b8f2TjQoN4a5YTBp79dun79+vXLgZM57+KqmTY9Di3o6clQLH/vkMazZ088s2LSmRUT1jmrKFnonWCPnPDZFi/txu6itmv/4zO62jdWXYPp8uXhq9evX79+8fsBavVqSMuxW49s8Kv/CSKEEEIIoXeo2c5du0EXcNeO9B82cXuURLEKAIDVc9XJY8s8W5apqLRji0b4D597MF6mWPVeILR6TpmgH3b0Rl6D9dOp5H9mDxw077DC23xJfacti31ru+8Mk3lz5eGh3n+npnfp9ApfGbpEePtFrrDBRTWO9PIft7OfYWvSlsIuhLnnoBPzvLrWfrJExz7DTs7q5tjEQamcPXuOjtp65WxRI+/uoiW8lNTIXHHLm6J4h+WkcTsmfzJoeUjDe0JlXDgW7TjlcxdVxRqEEEIIIfRutCwroA8KYTxgTO/8KwteKk2JLSLLO3Hy4iUGAKj0GNB/rPTx2lt8CQAtrchqJE20hEyYtOeaYuEbRvNTsjJ62boZEjF8GgCA0HS2ZBelZSW9Uu6tjIl4EKNY+HqVRV28SW4c3fPfuBv4EmCEEEIIofdA+8tOmn4bgqZIQ+9qePWy1WEWPTu3c/vx2KIm+p7q/dcfXemtAgAA358dCADSxEMLlh5Pb2NIYBh0Gz97ylAPW12yKPXh2b2Bp54U0gBAGnpNWTrH38VAmnHv+B2VL0aVbg7Y+kACAIS244iZM0Z42xmxyjIfXzyw48iDXCkAo0PAX793idof32FY385GKvkxx37/PTi+HACA0LAbvmDRZz2t1QtfXOLy6g8FEca9fB0FDwIz2tgAAACQ5uUV5AEAqHYUAy0pTc0pENfWEnY+w340SdqSqDPe08pWA4oynvxw+gWP1PtkQJehHAMLNlNWWvgoLnZ/RHYeBQDAtPLcNd7OgAC6MmXTznsPq3ILYeA+YId78ZF4tf4uxqYq4hcxD/64wxfVnug1oPKzo0XOrlZskl9MARBqxq7GkscPhGIAYDR6wY0iNIaOGzHXmgSgEsK5qx+IajZX0bedMcitr4lqeW5aSMYrDM9Vk764Hyn5vr8n++Z1DE8IIYQQQu/ea+jhvX8IQ093ybGV0ydNWX0WPl2z0FevqYdGysM2jvL3H/nDjTLRlQ0j/P39/UcsbnNwAjXHKT+s6Se9uu2ruXOWb72l+unaZYOMCADCbNiKlUNVw39bMn/1npRu/p41k7eYnDHffjdS68Hub+bPWvzT2VKfld+M4VTPJ2PY+7jwApdOmTDnz5cdp8wabEoAAGh0m7l2Zue0f77+ctEvVzT9BtrWm36m7uBmJ02K57VmXIWWifOKystb00NnGDt8bi7cfzQ4IPDC1scFFQBAqmpJBcGXwpbvD11zKY3l2mdZF7b81kvTH87848i4U0miBqcg9ay6SuLW7jk160y6XnePESb1PqyK0pLc8ta0pOEuVEFUarm1tbE2AAComBt3lgmiMqUATV1wo+iyCyeOjfrj7IHM+l8RhsFnn3p5lr/46R/uDw8lvd2MFX6WaMMdBlnSyySWk1unJmYXIoQQQgiht6ZdZieQPAk9HSeiQJxxJThc7OHnrdtMh/h1Idg9xgzVuBH4Z2hMGl+QFhN88EKOa/8eBgRp6ePnWHR5/+EHafz0x6cPXarpebNcPx1l9ejA7ycjkrJzMp5e3Hc6ntOvT3V4ogW3Tl9Nr6BleQ9uxVba2tkwAUCti5+P9qP/9l19mZUdf33ff9F1RoQASANzE2ZBrlBat7A5dFHiL4ci7lUqljeBAMHpa4kvS6TiypJniYIcGkDCDw57fjs9P0tUms6LP5Mg7mRl0OzjOnRl5rmY/FKaLsniRYk0Oxqr1vmwqNibF9c/KGhNeGq4C5WYzC81MXVUAQCyg5UxKyMrVt7SNl2wUgwzm766haG34p8WlKQmPD76skJhgzbcYaDLcnNL2aZmmm/p64sQQgghhJrS/ubsAQAtys4ukf/ALxNk55DdzU0ZUNCqLNFGpEUHjrpx75/PDK8tk/EidUmGvqU58M7y5Bchy0hLr7ocwtDWVkfb8esTPl/X7EEX8nUIABoAqHxhvjxl0eKKSqaBGhNApm9hqpIXx5PP46LL0lIElF7NzgAsFguk0tbEjTaR5eUl1gttAISas0fXADczWx1VVZIgACSpTFUAxRhRH11WVlDVRFmlFFRZr3+URZyVGUt3dzUh72VouViqvozll8gr2nTBSqnraOlKinhVw2pUhlAks1LYpC2kUimwWCzFYoQQQggh9A60y+xEkGRN/5skGUC8xZ/tCUL2dPfsVWfk6xLUYHnV+9/6qPT/lnx5MEEx7TAAAOh6x6ltiExWvTktk1F1N6JFRSJaU6u5uWevjJbKJPUbqePg+XUPtYvcqz/xiktkhH2/YRsNW3DvaWjVRLa2kOREpjPHW+kwCwxd9AoepFbIz9jGC24MTdV+JlT9D66NSLaWJiUqqvohACGEEEIIvVPtc86eNodjKO8Cq1jbmNH8TEFNp1YqkQJLVb4yRD0URTMYDGUdZ1Jd19jYSLvBXC5aIpGBikrdQQEqMzlVYu3soK14HFlWRhZY2VjJsyrD0tqyKrXSeSmpxcZOTkaKezSOysvIqtA3MalqBMvEzLDux0gXJicX6FhZNriGN420NNNnZSaeThGVyGgAloW++hv8eqloGRga6qi1sJGSJylCQysTS0uTDnlZMVUrLzR7wZRUBirMFo2DlReKClhsk6qn2EhjXc0W7dY00pRjxUxPSlEY3kMIIYQQQu/EG+zcvkOk/ciZw53NTWx6TpnUh4y+FlFQ88N9RUpipo6HXx8bIz1dbfXaYTcqJ1vAcvD0MNFQUWExyTpdckKn/8o9BwLndVOcOUXnJSWKLHoN8rA00NPVViMBgC65H3KxwHPWqsm97cyNzTu49h45d8koOwZQmeHXnusNmj7Bw8rQ1GVkwECL6jsvfnIuJLnDpJWzBzhaGpvaOHn7z1g1yb3J8cDKx9dul3gM97dVA1Cz8R/prVUvQUjjIyKLO7k7q9ctfAvonPwSytDEVZMAII3suoy2fg3xoTEsr8WHjh9eN7DJZUDqKE7LTDQwG2lnmJuSVT0m2NwFU8VJubKO9h2ddNX1NFSU5O06ZPzUm4UGg7oZsQlg6XBGOLBf/Z8Woefmbs2PfPhKCyYihBBCCKHXpck++oeKFt66xOu+bPssQ1l29Mmf/wrLr53zJEs98/fhTsu+/POgJpkTsnr27qdVjyClcg+ccZq/bNd/bBaV9E+L1iiXPDn2Z8iqhWt2jlKjq3epiDu4bmPJjMkzfxxnqFJZkJX46OapfAqAzj7/x2ajpXPX/DVOmnn32MWHbiMpGQ0AIE099f234ulTJ67/y0RdWsRPibsfktP0ucsf7dv074JF3+0fDWWC2LsPec5mdasrH1+8Wvijr6fW7Ztvc21rOjfu4S6jHrOmjp5dKc7jJ19+VhIgX9uOYI/8fPj06ri4dqlt9QLfxXV2bxVCTUODAcW5wpYuXEeX8qPyPKZ1LD3zsOZ9t41fcBXx/fBI12Hd1s9wU6Wy/94ddqUMmDY99o/pWDWmZzH8tE/Nquv5J0Mfag/q+fc8srxYeDs5T/qqzzsRRr197VMv/a/BZE6EEEIIIfROEN7e3gKBwMTERLGmETRNy/+Uk8lkUqnUzs5Ocbu3IjIyUrEINP02BAVkr6sJRe8jQnfoj/tHvPhq4b/Jb6ZfTBgO+XHn4Ogly09l1ckWhMGnW4JGxi2ce/DV3gv7HlDx+uroxk7B8xcEpXzoTQFgui858rN+4OgN1+suUsHsPCPwe6P9czbffZsBGCGEEEIINerVJxahliF0XQYM6MIx0FRlW3hPGNY56/bdVr2BqVVo4ZUdW++IDXUUZ7TRwJm0g3v+fxOsP+hPntHR3UV2Kygk9Y3dwbeE6TT34IXzm4fp0fXW+wAA0kC3KPS3ffcwOCGEEEIIvS9w3OltIfR6zV03o6+NEZtRnh13LWjHwfAsieJGCCGEEEIIofdU+8tOCCGEEEIIIfT6fdAztxBCCCGEEELoLcHshBBCCCGEEELNw+yEEEIIIYQQQs3D7IQQQgghhBBCzft4shOh5/9TCJfL5XJD985weNPvBNYcsD5432zHFpyG6TrvUCiXy+VyQ777hK24pngzCP0BG45sHWf5QX2MpL7TlsWDRuk21VbS0OWPZZPOrJh0ZlkzW75RTJsehxb09GQoln9A9NwGnFgx6cyKSadndLVX8j0h7HyGHx/Tsd47gesijWbM+myds8o7+wzeGNJy7NYjG/wM2l/LEEIIIfSmtKBz307QBdy1I7mEzuCNB8cr1gEAq+eqo0skvwZsfdjipc2b2kWS/fj6ncIiqn4p03nOnh/NggK+v1ZaUyZ9Ejh1eCDTafbunyzqbNoiKs6fT3WM2bklo/55SH2nXwOML+y+UfWuVYbJvFkDhjTIZbL8p6sPPU7r2OfwCGuVmsKc2OVBcWnv+qVClDBu+dY4Ut/p1wBLxTqlmmxjosLn0GJ0ifD2C0L4ru9GFZbF4lk+Zg9Cv4kqkV8RoWazeraX6s1zG2PLG7vGgtjr42NB27X/Hk/FKjmRIONmWbFYsbh1mDY99o/SPnHg6rmixi7kHSK9/MdML72x8Kaw7vvAqIwLx6LHf/m5y+0dTyrrlCOEEEIINebjyU5vl/h5yF/PFQtfM0Kr15iBjFsbIssUaxTI8k6cvHiJAQAqPQb0Hyt9vPYWXwJASyuyKAAAqpy349TTBBoAgJaUZ7+Hvd9mNdfGtpEJk/ZcUyx8ZyQ5kenSxVZG7KiSYgAAYJmaOJD5J1IrXuETowXxj3YoFn4kyqIu3iQ3ju75b9wNfAUxQgghhFqg/WUnTb8NQVOkoXc1vHrZ6jCLnp3buf14bFM/hqv3X390pbd84OX7swMBQJp4aMHS4+mN97mb2oXV5+sT3/ioAFDZwSvn7nkuH5Nieiz5d+NgHQIAYMUJ7goASnBmdbMv8FUx7z159iQ/N0s2lZ9450Tg7guJZdVNIdievt1lUd+/aPoQAADSvLyCPAAA1Y5ioCWlqTkFNeMMLACQVfKFBSl1f5NvHNPKM9BfJylfw8VIeud+soqbi7da4amQGyeypQDANus809fRy1idrCh69DhmdwS/gAYAIFT0/T/xGttJR61MePWxqM7cMcLAxml6707djNSJssKomOg9kTlNfVqNaqqNAISdz7AfTZK2JOqM97Sy1YCijCc/nH7BI/U+GdBlxM6hGgAAIABJREFUKMfAgs2UlRY+iovdH5GdRwEAMK08d423MyCArkzZtPPew+qbwzBy+2OiSUx4nk0Xjp02oyA1bvuFFwlNvOSYYTRjmq/1w9Dvq4aGCMseg//onLEyKC6NBkLTdLxf18EcHW1Ckp+fe+XGvZMZTRxL8iQ5h/I1cWClPJQAAGFjbayRmxRTTAMQ+rYu072snYzY2qREkJV+5uaja7mSJm8kYdNzyO+99BgAkpSImaeTRLU1aq5eXrM9TE2JstiYlGLFwbzWaewrASS7Z5/uE52NzVXokuKiuOiHWx8VyG8z28x+Vn8HT2N1pqQim58adPFxZKl8H1WHbl2ndrXsqEWWFQiuhEceSy6VAQAwrZ27zulh3VmbKSkvTUmO+/tqakt+ApC+uB8p+b6/J/vmdQxPCCGEEGpe+8tOAEAYerpLvl05/UmF+dA1v65ZKFiwKayqv6ZEedjGUWFNTsBroKldJLd/HuX/s+aA9UGT65RKo7ZPHLZd2Zy9xhHaXvN/XGTzcO8vS58IWbaD5i5ZPy9/wdb7Vb08RidXJ1byoaSG10vLxHlF5Y3O4mqA0OAsn2OrzpTkZKeH3Hp8LafpPjcQasz0ezevO/Zd1cfi3+NXYjz6T3M1OpOdLdWwnjfS3TLpwXcXhBKDTnOH+KwQX1wfXUwBy72fz1TTnMD/7jwDw3GDPW3IwnAAAFAz77J+mEXKnYg1KcWga/3FYJ/FFRd/fFLVU369GMYOn5c92Xs0MkWi1slKswIASFUtqSD4UmxyUSVD1+qLIX2WVVz4NqaEBpCmP5z5x0OmTY99wxo8JMQw6G2R/P3h4GxVqwUTe053y1hbPYlOCVne3aSKgXYWerGJ+QBAaHnb6WQk3E+nAYDZrU+vURpJvx25mSphmZiaWQJBADR6KICStKx4ppOrMfkwkwKC7WypkZmSxacBADTUGdnPY0KvifKlqvbdPBeMchcefPioiSAGdOq9C2PvEXY+w340qleh5+D5lZfGrYtXfhKyuvt4T9ciHtWrbwWi0a8E6Dh0W+QMJ85duFVIa+kZdtWqjmikwZghXWzT768LzS1hathaGVBVnwBp3b3vOvfK02HXtufK9GxcFvn3qTh2+ZSQJvXsvvQzyw27sSilnKGp42TJUnhCraK0JLdc2W8DsqSXSayZbp0Y12Ma/jtCCCGEEFLQoF/YLkiehJ6OE1EgzrgSHC728PN+d6sNtB1h5Du2b9m5P3dfjUsX8JPvH/n3hqxnf3e16mpNUzPtCmGukl47XZT4y6GIey17hoMSZZ64ev+34Kvfnot9xOTMH+vdt8FTQwro8rzY7KLYjCKJKDc2VxSXVaympaEBoN2hQ3cy/eiN1ITCktSk2ENPKzo7cSwJAJZJ/86qsQ9iwvjFfH7KwQf86hEhFc/unTReRO54xOcVlfLSXvwbW+rsaKHfzPnbiADB6WuJL0uk4sqSZ4mCHBpAwg8Oe347PT9LVJrOiz+TIO5kZaCquF8DdOntyOQMCchKMm/zZDYmuk3+AkElxGcUmFt11wQAIPUse+gX3UuQPwnHNGCzyvIEz/LK8kVFz+NfXMkQN/w066LLsiMFas6WWiQAoW7salganSI/FJ3x7NGR2KyXwpLcwrw79xNfqhs76bXtPqp5OplBwpPDCQWCghzujZfxVNuOA9DEVwIIbS0NZln+46zivJKS1PTU4Gf5VeGG1DBi01kZ/FRReW5+3oPH8dHyXwsYxv4e2o/D7wcnFfBFouex0Wf4Oj6ddRkAhKaGAVH2Ii1fUFKWJci+GsXLqHcfqdibF9c/qBrUqocuy80tZZuaaba9iQghhBD6iDTZ6/tQ0aLs7KpIIRNk55DdzU0ZUPCh/a7MsO7IUevg+ve5OuNX0jh9LQLkI0pMFhOkUiX9wdaRCVJOCuR/zU/IoYxn9BjcWeNWdFMjP7RMJqFBKqMoqUxM0xIZBUwGiyD09NhkoSC96kZT6TkicNEyJSGDrWXCLH+WVyk/ZnleYQ5tCgBAatkasIzs/P5zrzk2yPKydQnIa+L0AKyOPQ+OsFEnAOiyCyfP7WliemUdsry8RIUlEQg1Z4+uAW5mtjqqqiRBAEhSmaoA8iU2GkWVC6sfMRNLZAxVBgOgiQEeGZ8XUdqpZ0f1K7EVZp2srPPTt+fLm1cZ/TR93GCfPw35j7Py49N44f9n787DoirbP4DfZ4YBhnXYl2EXBUERFFncFUNFQ0zFLdEsSbMsK3sr08z0p2VmWZaaWy6JpCYuIK64b6iIighu7LLKooAwM+f3xyjCIwruMPP9XO/bNXPf9xlGpK75cp7znJtlDXxpvvzcjZK37c2NTpXclVo4l2f/m3//O6VpbD+qu1sXqaGRlkBARPzdDNGTT2I9hkDPWsLdSitRRm/+bkl6BW/KzDQWZ/6YH4l0OZ+dev1S+/azxpqfTy+4mp19JCUvXzkmy9t/sfx/gUE/tb6VdKvwYmraqYIqnojTN3IQa7kOGNJ5QM3r88UlWhyRLDdtb77jmFH9OqblpeTmn76ckVreqB8JIpLJZCQSidgyAAAAQD1UMjtxAkHNmh2BQEhc8/ylMkdUfWL+yFkH6t0Lgr9bUibX0dMVEr2wVMhXFqfdoS56YgEpLyN5ojofyx/7PX4wpZA/+DTLKxSKB1WOU1yO21mzcVwjydITpv59SUBEpLhT1thPybxMzixGNHTt+JWv9q7ovXPSy+7IOZfu/WeZPvYPUgtf58/e4BGK28dSK/q2lEou5vo4G6anHM++fzhfkHzswyyTdvbmbnZ2I0Pceh/b8/Wp4id+5/lbN7JvdbRorXnttq1ZVdrJa8ppgXFosJ9v/pkfVt+8dkem0Hb6Jrxtg+/rcXie5DV/Qzwv55/qL6dhypeTF6XMWpHtam/pbmPVvUevQS6nP9t6LZ8nonvnDsRMuGjRztasrbPbpz4uMZt3rc6UERHHl25at3Nd7iPvp7pgY8S2o1LLtjYWHT18Bre3+nHdiZMV7FR9BHr6uorSkqf7+QMAAAB1pZpr9gzs7U2VHxw17Rys+FtZuQ8+j/KyahmJtGq25H5IoeCFQmF9HzcFYom5uZnBo2u5Hn/I4ygUCtLQqOcQXiaTkaZm7fclT7+ezrdwdxXXqtVWdfNqhsDGzuoF/hVyWoZ2enT7TkVj40gdfF7xXV4isbmfxwW2ZgZUUparIMWdspxqsYXB/UArMtAzUb5pRdn1AoWt1FT//iuweLlCTkLNRwI+X12RXVSaWVSaWXSn+AlnfBogsLEyFmVd3XKj9I6cJxJJjcUv8JtZi+J6Skahta2vta2/acmx1Dppr6qs8PTFy39H7/kxodLR0aLBuw3JC7PPlZt6WBu1tREkXitQnkjjxMbOBnePnbmWckcmJxIYGTI/FjLlucE6tcdQ3Mku4c0MdZUvwGnpWoobek+P9dgfifvtqjuXU69uOnD4y91pZCtt/fD9KYrzcw6eTfz93wORBbodHAyERPyd22mVOq2lj1lep6jKzEiPOX76+4iz53WsO1g07m9SYGlvq5Fx7cZzbtEOAAAAaqJxnzCaG4HLwHcHuFtbOPiHjewiOLvv5MOdIipvXM0y7BDQxcHMSGIgfvipXJGXkyty7djBQkdTU6QhqPX5jDPsOfWvVUsmtGc/eT7+kMeR59/KI8cOvlI9TU1RnQilyLp6/V7LboHuViZGEj1Njoj4vANbDlHvDz99y9vJ0sLG2bNH6EcT3rCu+RtTZJ46dcumXdtnvKrlPm3/Lj6hbW3aWZu4ODiFvdm+ozwrNqVmL7+nU3rtejxvO7K7fQtDXfsWbce0EV9LSs/kiapz41KqvDxbOoiIRJK+7W0e7AtQdfrs1duOXp92snWW6FqZm/u37/BhB+Oak4b8ndvXKvT92lhJ9bQlYo0X/cPK5xXdUZhatNXliARmLdsNsntZN8GV52ccLzMbENDCPj/9ZHHNSTcdP792fR2NLfW0zcykXWzFZUWlDe8xqLgdn6Zwa92qnW7emaz7pxz5e2U5FWIXO0NtIk7LJLiTI5Md7uUX5YiteraSmOpqG2g++RtZeTopW9TKpYdEQJymS4dWbTUa+ROmYWJs5Gj+4H9menrc438kiLN1azfc3dLBQGxkaNK5pal2acn9P42mZUh3Vz8rfRNdHRt7h/YSeWbhXQURyfJ2ni129O80rrWp1EDPXmrTt1unYXYCIhJatXzHx97NRMdIV9/NzcaBL82o+SY/EWfk4Wl3K/40c4M0AAAAgPo98it9VcAXHIpN957y63um8pyzm+b+duD+5SVERPKbWxevd57ywaLVuoK8qIe7hMtvRq/a6jZxytJIPZHi2pon71GuVN8hwlZj/1wQanP/M/iCbYOIquN/Gf3t7lKeiPjCA2vWe01+5/eIT0RU+6sTf/fY6j/a/W/893+N1pKf/XXMjNhini89sfir+SPfHfbRD2MkgvLCrJSzeyJKa/1Rru3ZdWNg9y5mO6LyGvVJsT6KCtLr4u83RFcklFdmZaUt3pR4+FkXMPHlaX9Gid/r4fn9O2JBZen5hCPLzpUqiIiqzx868k9vn2/ec6V7dy9czc6Q6ikPqcxMmBlVNcbfa2ZHHZGsIic390h8rbNe8rxNe1KmvNF5UQcR5Z7/eP2lunsAPCc+/+LppWa+740ZNP5eVeGt67uT7rxtQEREnN7AYQPekd7PGNM+cSRSpB6O/t+ph/t4Px3F7eOpd97yM0g9mPFw72xeXskZ9uzpFKavpSErv3Yt4YfDOY3Y4EORev2W7qAWxtdPJNZMy3I37Lr8YUCvv7xkZRVlZ86lnpc61T5Gnn9lyXHjjwL6/qXN5Z/ZOzEuX67l8PWETj73/wPgu+YzX+LvREXsWJWtKL58+icD3/BhIaMUVVk3ss+WGTTqPxMCo5C3+obUPJVlLlxy6OBjfyTonkzYysenXy8dPUF1TnbanzsuXVM2+GqFvs3IN9tY6GrI7xafiz+yPFl5pZwiLf7gLJnn2/7dfzbQkFXcuZmZtUP571WVQs/ebYq3vpEmlRXlHog5EdOo7MSZde7hcjP299QnLpMEAAAAeIDz8/PLzc21sLBgO4/B87zyn0pyuVwmk7Vs2ZKdeyXi4+PZEukGfLvu7ZxvGrx1kirg9P2nLn234LsJK6+o/h8W4MXSaDVuyXdmK8N/PIabOwEAAECjNOoXytBE8WUnVvxk3sPQVEC3GjpLBgC1CUwkJTt+2nYcwQkAAAAaC9mpeeMLz0ZtZosA0CBF7qnNW9kiAAAAwBOoXna6u++7QfvYIgAAAAAAwHN58o5bAAAAAAAAQITsBAAAAAAA0BjITgAAAAAAAA1DdgIAAAAAAGgYshMAAAAAAEDDkJ0AAAAAAAAahuwEAAAAAADQMGQnAAAAAACAhiE7AQAAAAAANAzZCQAAAAAAoGHITgAAAAAAAA1DdgIAAAAAAGgYshMAAAAAAEDDkJ0AAAAAAAAahuwEAAAAAADQMGQnAAAAAACAhiE7AQAAAAAANAzZCQAAAAAAoGHITgAAAAAAAA1DdgIAAAAAAGgYshMAAAAAAEDDkJ0AAAAAAAAahuwEAAAAAADQMPXJTpxR0Jyo6Ojo6Ogdy8e5arDtF4QzHTDvvz9HOwnZxnMRtXpn6ZrPfHS5hyXOuPd3//w82EZ9/gIBAAAAAF4r9fnozd+OnjYwqP+IX89Usy0iIpH/F5sipnR8WZnqeXBmgePerNqxMf4u/7DIF8VtOCAJHd1Jv1agAgAAAACAl0V9slOzJXQMCmmTumtflqJuXZYSu7eo86AAc4QnAAAAAICXrymeZ3k+ugHfrguT7Tim49PJ0VCjJGn7n79uTCypdcaGJe45Y8NUP00iIvpu2xtEJLv696RPNmYwWaUuzthr+MRxQV52Blx5YeblXX/Nj7xY8aApbhH02cehne3FxZeiFv2wLqGUJyJOz+XN98MH+bUwFpSln41e+efGc0UCt/HLZlmsGTM77u7Dl9bw+GDF1zp/jvnpxD0iEjr16G6Tuv100SN/BEXWyRO33u7R2TxqS+4jTQAAAAAAeKFU8rwTZ9rRszpi6jsjw/63jd788sMeRk86NVNxYFZIUNDA7+PKS/d8GxwUFBQUPLmB4ESk5R32+VtG8b9++u64D75c8G9iCQlqvobAsleQY+LSaZ9MW33VZuiEQS2ERMRJunw4Y6zTjTXTJr7/+eIzRoOmffGmtUB243KKwqmlfe0Iy5k5t9C/mXy1SvnMyK2NVdHVq49GJyJ5RkpqlXPb1mK2AQAAAAAAL5pKZieqvrBjy8VSBVVl7vnvcFWHAD/Jk8LTM+DEJqa65TcTL6YXFOamXTqyNfZirYuRqhM2L9+TlJ5+adfWIwUWzi30OeIMfd7wERxbu+JASs6tGyfWrdhT7BrQzVZQmXr5pqGzsxHH6XkN/2xcF3OOtJ1a2eQnp9xWvp7QwtqCK8orkNe8ei3ygvwioaWVqWr+LQIAAAAANCUq+ambL83JuaOMHvLcnDyBpbXli933jviSM3uPKXp/8+eCbz5+d1if9tbiWuFMUZR9657yUfndctLS1iQSmEstBTk305V1kqVfzyQrGyshX5iSctuupZOmlnvPfp369PEy1LBt6ahITU57EJZEIg2qrq43OhEvq64mkabGC06GAAAAAADwCJXMTpxAUJOVBAIhcS8+W/D5cT++/95XS3ZdLjPxGz3zt9lDHB7GM56vu+KPu///R/BEspuXUzmnlvat2jlc2n5Qv11bC+eWJmkPVuwR8aUlpbyegV69xwv0DPSotKSsgQWGAAAAAADw3FQyO5GBvb2pMmxo2jlY8beych+ct+Fl1TISaSl3hqhDoeCFQmF9EUUglpibmxlosfWqgpSTezav/HHq/22/3aJju/tfsX6K3Oxc3srB7v6LaNg52lBu1i05UWXK5TRzl+6dXHLjtx9PkXr3c7MrqFmxRyTPvnajytJOWs87Jk7P1ta4+Nq1mmEAAAAAAHhZVDM7CVwGvjvA3drCwT9sZBfB2X0nH6aLyhtXsww7BHRxMDOSGIgf7tGgyMvJFbl27GCho6kp0ni48QMRZ9hz6l+rlkxoL6pVM+00YkxQR2crEyMzJ99uHsal6RnFT0owfMnJvaf4Tm+/28PZ0sLB9+1xgUap+w5nKIj4oitXil379qg8n1iUfC7Ds4+/6OrDFXtE9xJPnufd2rWqZ0dEcRsvl7L4UykytgEAAAAAAC9aPZ/Imz++4FBsuveUX98zleec3TT3twO1NqmT39y6eL3zlA8WrdYV5EX9b/yyS8rkIb8ZvWqr28QpSyP1RIpraxrao7yqQmA3JPyNd8wMRFUFqcdXz1l97v6lTI/BFx/6/Xuj98PfmbvUSHgnI2H7vD+2ZSqIiORpyakUYn0+oYivvHTuurCrdnLqgxV7RMSXHo85Gv5hjzZ/JSbU+RKcfseeHUr3f1O3CgAAAAAALwXn5+eXm5trYWHBdh6D53nlP5XkcrlMJmvZsiU790rEx8ezJdIN+Hbd2znf1IQiFSC0H/7L/NZR78/cW2t1Hmc9+OdfO+yZNC0670knvAAAAAAA4IVQzTV7Kkae9t/CJUmcee3N/DhD03vHFi7ejeAEAAAAAPBKqOSaPdVz7/r+jdfrVPjixB3/1qkAAAAAAMBLpHrZ6e6+7wbtY4sAAAAAAADPBWv2AAAAAAAAGobsBAAAAAAA0DBkJwAAAAAAgIYhOwEAAAAAADQM2QkAAAAAAKBhyE4AAAAAAAANQ3YCAAAAAABoGLITAAAAAABAw5CdAAAAAAAAGobsBAAAAAAA0DBkJwAAAAAAgIZpsIVnkp2dzZZeCWtra7YEAAAAAADwEuC8EwAAAAAAQMOQnQAAAAAAABqG7AQAAAAAANAwZCcAAAAAAICGITsBAAAAAAA0DNkJAAAAAACgYchOAAAAAAAADXsx93dqIo4fP86WAABeIX9/f7YEAAAAqgLnnQAAAAAAABqG7AQAAAAAANAwZCcAAAAAAICGverrnVxdXVu1asVWiYgoJSUlOTmZrQIAAAAAADQBrzo7ubi4BAcHs1UiItq2bRuyEwAAAAAANE2vOjspvfvuu0xlxYoVTAUAAAAAAKDpaCrXO23btu3KlStsFaA+Dg4Oe/fuZasP3Lx5k+M4mUzGNp7e+vXrAwMD2eprEhcXZ2Njo3zs7u4eFxdXp113AAAAAABeuKaSnaKiopKTk3V0dAYOHGhra8u2oSnRe0AgEIjFYuXj9evXr169WigU1nQf/XD/ukyYMEH5ljQ1NUUikfJxv3792LlHjBo1avfu3Wz1BamsrJRIJPv3769dnDJlypAhQ2pX6nXp0qUePXqw1cfgOO7q1atsFQAAAACeUlPJTkrl5eUFBQVffPEF4lNTducBOzu77du3Kx+PGjWKiPz9/Wu6jf9w/7ItWbJE+Za+/vrrYcOGKR/HxMQouy/kDNUz0NbWHjZs2Jo1a2oqcrl8w4YNY8aMqTUFAAAAAE1FU8lOrq6uwcHBwcHBJiYmhYWFiE8qSbmabtWqVba2tkZGRkuWLDl9+rSHh4dEIvnwww+VMwqFYvbs2fb29ubm5mFhYSUlJcr62rVr7e3tTUxM5syZU/OCCoVi3rx5LVq0MDExCQ0NLSoqqmk1yMHB4YcffvDw8NDV1ZXJZMrX0dfXd3Nz+++//5Qzq1ev7tKli/Ixx3FLlixp2bKlRCKZNGkSz/MPX4soOztbLBbXvIFz586ZmppWV1dfvXq1e/fuhoaGpqamw4YNq30IEY0ZM2bz5s3l5eXKp7GxsQqFol+/fqtWrWrdurW+vr6Tk9PSpUvrHkRUa9ViRUXF2LFjjYyM3NzcTp8+zc49RklJSVhYmJmZmb29/ezZsxUKBRE9+lZ5np8yZYq5ubmBgUHbtm0vXrxIRPfu3fv888/t7OwsLCwmTJhQUVFBRAUFBQMGDJBIJMbGxl27dlW+IAAAAICKaSrZiYi4B5hPpdCMKDNDq1atvv/++8edzzl58mRqaurGjRs/+eSTOXPm7N2799KlS5GRkQcPHiSi1atXr169+sCBA9evX79z544yUyUlJU2cOHHt2rXZ2dmFhYWZmZnKl/rtt9+2bt168ODB7OxsIyOjSZMm1f5CDdqwYcPOnTuLi4s1NDRatGhx+PDhkpKSb7/99u23387JyWGniXbs2HH69OnExMTIyMjY2NjaLWtra39//82bNyuf/vPPP0OGDBGJRNOnTw8MDLx9+3ZmZuZHH31U+xAi6tSpk5WV1ZYtW5RP165dO3LkSA0NDXNz8x07dpSWlq5atWrKlClnz56te9xD33333bVr165duxYbG/v333+z7cf46KOPSkpKrl+/fvDgwTVr1qxatYqIHn2ru3fvPnToUEpKSklJSWRkpImJCRF9+eWXKSkpCQkJV69ezcrKmjVrFhEtWLDAxsYmPz8/Nzf3//7v/ziOq/sFAQAAAFRBU8lOycnJUVFRUVFRBQUFpqamP/74Y0ZGBjsETVu3bt0uXryYl5e3efPmDRs2zJ8/n50gIqLp06dra2sHBgbq6uqOGDHC3NxcKpV27dr13LlzRLR+/fpPP/3UyclJT09v7ty5ERERMpls06ZNAwYM6Natm5aW1vfffy8Q3P+5XbJkyZw5c2xsbLS0tGbOnLlp06bHBbZ6TZ482dbWViwWE9HQoUOtra0FAsGwYcNatmx56tQpdproyy+/lEgkdnZ2PXv2TEhIYLojR47csGEDEfE8HxERMXLkSCISiURpaWnZ2dna2to1p7BqCwsLUy7bKy0tjYqKUi7Y69+/f4sWLTiO6969e2Bg4OHDh9nDHoiMjJw2bZqxsbGtre3kyZPZdn3kcnlERMTcuXP19fUdHBw+++yztWvXUn1vVSQSlZWVJScn8zzfunVrKysrnueXLVu2cOFCY2NjfX39r7/+OiIiQjmZk5OTlpYmEom6du2K7AQAAAAqqalkJyUdHR0Ep+bLycnJ0dFRIBC0bdt2xowZmzZtYieIiMjCwkL5QCwW1358584dIsrOzra3t1cW7e3tZTJZbm5udnZ2zRpOXV1d5QkQIkpLSxs0aJBEIpFIJK1btxYKhbm5ucoWER0+fFi5LYS7u3tNsbba60LXrFnj6empfKmLFy8WFBTUGrzP0tJS+UBHR0f5bmsbPHjw8ePHc3JyDh06JBAIunbtSkQ//vgjz/M+Pj7u7u4rV65kDiGi0aNHHzhwIDs7e9OmTS1atPDy8iKimJgYPz8/Y2NjiUQSHR1d75tRqv2dqfm+PVlBQUF1dXXtb3JWVhbV91Z79er14YcfTpo0ydzcPDw8vLS0ND8/v7y8vEOHDspvVN++ffPz84lo6tSpzs7OgYGBTk5O8+bNq/XVAAAAAFRHU8lOAwcOdHV1LS8vj4qKQnBSAc+89tLa2jotLU35OD09XUNDw8LCwsrKquanory8vLCwUPnY1tY2Jiam+IHKykqpVKpsEVHXrl2V20JcunSpplhbzemRtLS08ePH//7774WFhcXFxW3atHmGN29kZBQYGLhx48Z//vln+PDhyhe3tLT866+/srOzly5d+sEHHzy63529vX3Xrl3XrVu3du1a5Umne/fuDR48+PPPP8/NzS0uLg4KCnrCm6n9nUlPT6/brJ+pqanyFJPyaXp6uvKbVu9bnTx58pkzZ5KSklJSUubPn29qaioWiy9duqT8hpeUlCgzpL6+/oIFC65fv75t27aff/553759tb4gAAAAgIpoKtkpODjYxcWFrUKzEhMTozztk5yc/P333w8cOJCdaIQRI0YsXLjwxo0bNdviaWhoDBkyZMeOHUeOHKmqqpoxY0bNVgQTJkyYNm2aMgbk5+dHRUXVea1Gu3v3LsdxZmZmRLRq1SrlpgjPYOTIkWvWrNm0aZNywR5x60M0AAAgAElEQVQR/fvvv8qrs4yMjDiOq1ltWNuYMWN+//33o0ePKvcqrKqqunfvnpmZmYaGRkxMzJM3SQ8NDZ07d67yIqXffvuNbT9QVVVV+QARhYaGTps2raysLC0t7eeff3777bepvrd6+vTpkydPVldX6+rqamtrCwQCgUAwfvz4KVOm5OXlEVFWVpbyuq8dO3ZcvXqV53lDQ0OhUFjvHxMAAACguXs9H3FWPIKdgGZo3759ym3rgoKC3nrrra+//pqdaIRx48aNHj26W7dujo6O2trayjzg7u6+ePHikSNHWllZGRkZ1dwB9uOPPw4ODg4MDNTX1/fz8zt58mSd12o0Nze3zz77zN/f38LC4sKFC507d2YnGic4ODg1NdXS0rJdu3bKyunTp319ffX09IKDg3/99VcnJ6e6RxARDR48uKioKCAgwMrKioj09fUXLVoUGhpqZGT0zz//BAcHswfU8u2339rb2zs6OgYGBo4ePZptP+Du7i5+YNWqVb/99puurq6Tk1OXLl1Gjhw5btw4qu+tlpaWjh8/3sjISLnD4dSpU4nohx9+cHZ29vPzMzAw6N27t/KW1qmpqb1799bT0/P39//ggw969uzJvAEAAAAAFcD5+fnl5ubWXHbSIOXyIf4BuVwuk8l0dXXZucdwdXV93PmlK1euJCcns9Wncfz4cbYEAPAK+fv7syUAAABQFRps4SVLTk5+zoAEAAAAAADw6r2eNXsAAAAAAADNC7ITAAAAAABAw5CdAAAAAAAAGvaqr3dSeaampg4ODmwVAFROWlqa8tbAAAAAoCaQnV4wBweH+Ph4tgoAKsfb25stAQAAgErDmj0AAAAAAICGITsBAAAAAAA0DNkJAAAAAACgYbjeCQBeg+rq6szMzMrKSrbRVGlra9vY2IhEIrYBAAAAagPZCQBeg8zMTH19fQcHB47j2F7Tw/N8YWFhZmamo6Mj2wMAAAC1gez0emw9lzU/9kp2cYW1RDy1j0uIl5SdAFBplZWVzSU4ERHHcSYmJtiRHAAAQM0hO70GW89lfbXlQkW1nIiyiiu+2nKBiBCfQN00l+Ck1LzeLQAAALwM2CviNZgfe0UZnJQqquXzY6/U6gMAAAAAQJOD7PQaZBdXNFgBgOdRWFjo6enp6elpaWkplUqVj6uqqtg5IiKKj4+fPHkyWwUAAACoC2v2XgNriTirbliylohrPwUAer7LAk1MTBISEoho5syZenp6n3/+ubIuk8k0NNj/7nl7e3t7ezNFAAAAAAbOO70GU/u4iEXCmqfaIsHUPi61+gBw/7LArOIK/sFlgVvPZbFDjTZ27NgJEyb4+vp+8cUXp06d8vf39/Ly6tSp05UrV4goLi5uwIABRDRz5sxx48b16NHDyclp0aJF7KsAAACAemN//wqvgPLX58pfqPNEg7ykT/ULdQBV8t32S0nZpWyV6Fx6cZVcUfO0olr+xabEDafSa40QEblZG3z7pjtTrFdmZuaxY8eEQmFpaenhw4c1NDT27t379ddfb968ufZYcnLygQMHysrKXFxcJk6ciBs6AQAAQA1kpzrGjRu3Y8cOc3Pzixcv1q6vX7/+hx9+4HleX1//zz//bNeuXe3uMwjxkoZ4SXme7zb/QOZtXOwEwKodnB5XeSpDhw4VCoVEVFJSMmbMmNTUVI7jqqurmbH+/ftraWlpaWmZm5vn5uba2NgwAwAAAKC2kJ3qGDt27IcffhgWFsbUHR0dDx48aGRkFBMTEx4efvLkSWbg2XAcN7Cd9I+4q3llleb62mwbQA087qxR53n7mcsCpRLxxvf9a1eeiq6urvLB9OnTe/bs+d9//928ebNHjx51hoi0tLSUD4RCoUwmq9sEAAAAtYbrnero1q2bsbExWyXq1KmTkZEREfn5+WVmZrLt5xDiZa3gacf5HLYBoN6YywLFIuGLuiywpKREKpUS0erVq9keAAAAwOMhOz2dFStW9OvXj60+B2dzfXdrg6iEZ78IHkAlhXhJ577VVioRc0RSiXjuW21f1GWBX3zxxVdffeXl5YXTSgAAAPBUsGbvKRw4cGDFihVHjhxhG0TLli1btmwZEeXn57O9hgz0tP6/6OQbBXcdTe+vKQIAenBZIFt9SjNnzmQq/v7+KSkpysezZ88moh49eigX79UeZi56BAAAAMB5p8ZKTEx87733oqKiTExM2B5ReHh4fHx8fHy8mZkZ22tIcDspx9Hz7L8MAAAAAAAvG7JTo6Snp7/11ltr165t1aoV23tulobafo4mUQlZPM+zPQAAAAAAaBqwZq+OESNGxMXFFRQU2NjYfPfdd8r9iydMmDBr1qzCwsIPPviAiDQ0NOLj49kjn0+Il/X/Nl9IzCxpZythewAAAAAA0AQgO9WxYcMGtkRERMuXL1++fDlbfXH6trGavvXS1oQsZCcAAAAAgKYJa/aaBEOxqJer+fbzObLnu/snAAAAAAC8JMhOTcVAT+uCO/eOXStkGwAAAAAA0AQgOzUVPV3N9bU1tuJGTwAvQs+ePWNjY2ue/vLLLxMnTqzVJyLq0aOH8trFoKCg4uLi2q2ZM2f+9NNPtSsAAAAAyE5NhbZI2K+NZezFWxVVcrYHoJ4SI2lhG5opoYVtKDGS7T7RiBEjIiIiap5GRESMGDGiVr+O6OhoiQSXGgIAAEADkJ2akBBP6d0q+b7kXLYBoIYSI2n7ZCrJIOKpJIO2T36q+DRkyJCdO3dWVVUR0c2bN7Ozszds2ODt7e3u7v7tt98yww4ODgUFBUQ0Z86cVq1adenS5cqVK8wMAAAAAPbZa0J8nUwsDLS2nsse4GHN9gBUVcyXdOsCWySizNMkv/fwaXUFRX1IZ/5+WFGybEv95rFFImNjYx8fn5iYmIEDB0ZERISGhn799dfGxsZyuTwgICAxMdHDw4M55MyZMxEREQkJCTKZrH379h06dGAGAAAAQM3hvFMTIhRwwe2sD6bkFZdXsT0AdVM7OD2u8kQ1y/aUC/YiIyPbt2/v5eV16dKlpKQkdpro8OHDgwYN0tHRMTAwCA4OZtsAAACg9nDeqWkZ6Cn96/CNnRdyRvnasz0AlVTfWSMiooVtqCSjTsXQlt7ZWafyRAMHDpwyZcrZs2fLy8uNjY1/+umn06dPGxkZjR07trKykp0GAAAAaAjOOzUt7tYGLcx0o85lsw0AdRMwg0Tih09FYgqY8fBpI+jp6fXs2XPcuHEjRowoLS3V1dU1NDTMzc2NiYlhR4mIqFu3blu3bq2oqCgrK9u+fTvbBgAAALWH805NC8dxIZ7SBXtSsoorpJJaHxwB1I1HKBHRvllUkkmGNhQw437laYwYMWLQoEERERGurq5eXl6urq62tradO3dm54iIqH379sOGDWvXrp25uXnHjh3ZNgAAAKg9ZKcmZ6CndMGelG0J2RN7tGB7AGrFI/QZ8lJtISEhPM8rH69evbpOjyguLk754ObNm8oH06ZNmzZt2oM+AAAAQB1Ys9fk2JnotLeTROEmuQAAAAAATQmyU1MU4iVNvlWWfKuUbQAAAAAAwGuC7NQUBbW1Egq4rdgxAlRazWq6ZqF5vVsAAAB4GZCdmiJTPa2uLU23JWQpFPi4BqpJW1u7sLCwuQQSnucLCwu1tbXZBgAAAKgT7BXRRIV4Sj/ZmBCfdtvH0ZjtATR/NjY2mZmZ+fn5bKOp0tbWtrGxYasAAACgTpCdmqg33CzEIuHWhCxkJ1BJIpHI0dGRrQIAAAA0YViz10TpamkEultEX8ipkinYHgAAAAAAvHLITk1XiKe0uLz6YEqzWdQEAAAAAKDCkJ2ari4tTY11NbfiRk8AAAAAAE0AslPTJRIK+re12puUW1ZZzfYAAAAAAODVQnZq0kK8rO/JFLsv5bINAAAAAAB4tZCdmrT2dka2xmIs2wMAAAAAeO2QnZo0juMGtpMevVqQV1bJ9gAAAAAA4BVCdmrqQrysFTztOJ/DNgAAAAAA4BVCdmrqnM313awMorBsDwAAAADgtUJ2agZCvKzPZ5bcKLjLNgAAAAAA4FVBdmoGgttJOY5w6gkAAAAA4DVCdmoGLA21/RxNohKyeZ5newAAAAAA8EogOzUPIV7WNwruJmaWsA0AAAAAAHglkJ3qGDdunLm5eZs2bZg6z/OTJ092dnb28PA4e/Ys030F+rax0hQKcKMnAAAAAIDXBdmpjrFjx+7atYutEsXExKSmpqampi5btmzixIls++UzFIt6upptP58jkyvYHgAAAAAAvHzITnV069bN2NiYrRJFRUWFhYVxHOfn51dcXJyT8xruthTiKS24c+/YtUK2AQAAAAAALx+yU6NkZWXZ2toqH9vY2GRlsWvnli1b5u3t7e3tnZ+fz7TqlxhJC9vQTAktbEOJkWy3Pj1dzfW1NaISstkGAAAAAAC8fMhOL0Z4eHh8fHx8fLyZmRnbe1RiJG2fTCUZRDyVZND2yY2JT9oiYb82lrGXblVWy9keAAAAAAC8ZMhOjSKVSjMyMpSPMzMzpVJp3f5T2jeLqisePq2uoH2zHj59vBBP6Z17sr2Xc9kGAAAAAAC8ZMhOjRIcHLxmzRqe50+cOGFoaGhlZcVOPJWSzIYr9fF1MrEw0Np6Dsv2AAAAAABeNQ22oN5GjBgRFxdXUFBgY2Pz3XffVVdXE9GECROCgoKio6OdnZ11dHRWrVrFHva0DG2o5P5ZrPsMrOs8fQyhgHvTw/rv4zeLy6skOppsGwAAAAAAXhpkpzo2bNjAloiIiOO4xYsXs9VnFjCDtk+us2yPJyrNIYOGT2eFeEmXH7kRfeHWSF87tgcAAAAAAC8N1uy9Dh6h9OYiMrQl4sjQljpPoXsltCKQClLZyUe4Wxu0MNPFTXIBAAAAAF4xnHd6TTxCySP04VP3gbR+KK0IpFH/ko33w/ojOI4L8ZQu2JOSVVwhlYjZNgAAAAAAvBw479Q0WHvRuFjSNqC/36TUPWy3roGeUiLahhs9AQAAAAC8QshOTYZJC3p3D5k404bhlFD/ZVdKdiY67e0kUVi2BwAAAADwCiE7NSV65jR2J9l3pq0T6OgitlvLQE9p8q2y5FulbAMAAAAAAF4OZKcmRtuARv1L7oNoz3SKnUYKBTtARET9PayEAi4Ky/YAAAAAAF4VZKemR0OLBq8kn/fp+O/03/skq2IHiEz1tLq2NN2WkK1Q8GwPAAAAAABeAmSnJkkgoH4/UMAMuhBJG4bRvTvsAFGIpzSruCI+7TbbAAAAAACAlwDZqaniOOr6GQ1cTNcP0t8D6E4+03/DzUIsEuJGTwAAAAAArwayU9Pm9TYN/4fykmllIN2+Wbujq6UR6G4RfSGnSlb/NVEAAAAAAPACITs1eS59acw2Ki+iFYGUk1i7M9DTuri8+mAKe0oKAAAAAABeOGSn5sDWh8bFkkCDVvenG4dryl1bmhnrauJGTwAAAAAArwCyUzNh7krv7iEDa1r3Fl3aqqyJhIL+ba32Xs69c09WdxoAAAAAAF4wZKfmw1BK78SQdXv6dyyd+ktZC/GyrqxWxF68VXcUAAAAAABeMGSnZkXHmMK2kks/iv6c9s8mnm9vZ2RrLMZuewAAAAAALxuyU3MjElPoWmofRofm0/bJnEI+sJ306NWCvLJKdhIAAAAAAF4cZKdmSKhBby6iblPp7BqKHB3SxkjB047zOewYAAAAAAC8OMhOzRPHUa9vKOgnuhLjHBvmYyGIOp/NzgAAAAAAwIuD7NSc+Yynoaso68wS2bTcjGs3Cu6yAwAAAAAA8IIgOzVz7oPo7c2S6tzNWjMPHTvCdgEAAAAA4AVBdmr+HLsJ3onREfIhZ9/l00+yXQAAAAAAeBGQnVSClcfR7uuLFDr838F0ZRfbBQAAAACA54bspCK6+nQcIZ+Vo+VAESPp3Dq2DQAAAAAAzwfZSUUYikXtXJ1H3PuGd+xGUZPo8M/E8+wQAAAAAAA8K2Qn1RHiKU2/Kzjqs5jaDqV939GuL0mhYIcAAAAAAOCZaLAFaLZ6uprra2v8l1jQZcgy0jWnE4sp6wyV5VBJFhnaUMAM8ghljwEAAAAAgMbBeSfVoS0S9mtjGXvpVqWcpz5zqM1gyjxNJZlEPJVk0PbJlBjJHgMAAAAAAI2D7KRSQjyld+7J9l7OJY6jjFN1etUVtG9WnQoAAAAAADQaspNK8XUysTDQikrIJiIqyWTbj1YAAAAAAKBxkJ1Yu3btcnFxcXZ2njdvXu16enp6z549vby8PDw8oqOja7eaDqGAe9PDOu5KXnF5FRnasG19S7YCAAAAAACNg+xUh1wunzRpUkxMTFJS0oYNG5KSkmpas2fPDg0NPXfuXERExAcffFDroKYlxEtaLeejL9yigBkkEtfpVVdS4bU6FQAAAAAAaBxkpzpOnTrl7Ozs5OSkqak5fPjwqKiomhbHcaWlpURUUlJibW398Jgmxt3aoIWZ7taELPIIpTcXkaEtEUeGttRrOgkEtLIv5T4MhAAAAAAA0EjYo7yOrKwsW1tb5WMbG5uTJ0/WtGbOnBkYGPjbb7/dvXt37969NfWmhuO4EE/pgj0pWcUVUo/QOvuSt36T/g6m1f1p9Bay9npYBwAAAACAhuC8U2Nt2LBh7NixmZmZ0dHRo0ePVtS97eyyZcu8vb29vb3z8/Nr11+LgZ5SItqm3DGiNjMXGhdDmnr0dzCln2C7AAAAAADweGqXnW7fvp2YmMhWH5BKpRkZGcrHmZmZUqm0prVixYrQ0FAi8vf3r6ysLCgoqGkRUXh4eHx8fHx8vJmZWe36a2FnotPeThKVkMU2iMjYicbFkK4ZrR1E1+PYLgAAAAAAPIa6ZKcePXqUlpYWFRW1b99+/Pjxn376KTtBREQdO3ZMTU29ceNGVVVVREREcHBwTcvOzm7fvn1EdPny5crKyqaQkZ5goKc0+VbZlVtlbIOIDG3onRgycqD1oZQSy3YBAAAAAKA+6pKdSkpKDAwMtmzZEhYWdvLkycddsKShofH777/36dOndevWoaGh7u7uM2bM2LZtGxEtWLDgr7/+ateu3YgRI1avXs1xHHtwU9Lfw0oo4LbWe+qJiPQtaOxOsnCjiJF06T+2CwAAAAAAj1CXvSJkMllOTk5kZOScOXPYXl1BQUFBQUE1T2fNmqV84ObmdvTo0Zp6E2eqp9W1pem2hOypgS4CQX0xT8eYwqLon2G0aRxVV5DnSHYAAAAAAABqUZfzTjNmzOjTp0+LFi06dux4/fr1li1bshMqJ8RTmlVcEZ92m23U0DaktzeTYzfaOpFO/cV2AQAAAACgFnU57zR06NChQ4cqHzs5OW3evLluXwW94WYhFgm3JmT5OBqzvRqaujRiI/07lqI/p+oK6jyZHQAAAAAAACJSn/NOKSkpAQEBbdq0IaLExMTZs2ezEypHV0sj0N0i+kJOlazOduoskTYNW0vub9Ge6XRgLvE8OwAAAAAAAOqTncaPHz937lyRSEREHh4eERER7IQqMtfXKi6vbvVNTOd5+7eee8y+EUQkFNHg5eQ5ig7Ooz3TEZ8AAAAAAB6lLmv2ysvLfXx8ap5qaKj+H3zruay1J9KUj7OKK77acoGIQrwe3rGqDoGQgn8nkQ4d+42qyinoJxKoS64GAAAAAGgMdfl8bGpqeu3aNeXG4ps2bbKysmInVM782CuV1Q9X61VUy+fHXqnVf4RAQEHzqfPHFL+Coj4guYwdAAAAAABQY6p/+kVp8eLF4eHhycnJUqnU0dFx3bp17ITKyS6uaLDC4jjq/R1p6tGBOVRdTm8tJw1NdgYAAAAAQC2pS3ZycnLau3fv3bt3FQqFvr4+21ZF1hJxVt2wJNER1X5aP46j7l+QSId2T6PqCgpdQyIxOwMAAAAAoH7UZc3er7/+WlpaqqOjM2XKlPbt2+/evZudUDlT+7iIRcKapwKObpdX11wB1YBOH9KAhZS6h/4JpXt32C4AAAAAgPpRl+y0cuVKAwOD3bt3FxYWrl279ssvv2QnVE6Il3TuW22lEjFHJJWIfxjs0bu1+fStF/86dJ0drZf3OBq0hG4eoXVvUUUx2wUAAAAAUDPqsmaP53kiio6ODgsLc3d3Vz5VeSFe0tob64V4ST/ZmDAn+vLdKtnHAS2VO2c8SbvhJBLTpndpTTC9/R/pmrADAAAAAABqQ13OO3Xo0CEwMDA6OrpPnz5lZWUCtdyAWyQULBruNaSDzS97U+fFJDcqQLoNpOH/UP4VWt2fym6xXQAAAAAAtaEu551WrFiRkJDg5OSko6NTVFS0atUqdkI9CAXcj4M9xCLh0kPXK6rlM990FwgaOvvUKpBG/Uv/DKdV/ShsG0ls2QEAAAAAADWgLqdfjh8/7uLiIpFI1q1bN3v2bENDQ3ZCbQgE3KyB7u93c1pzPO2LzYlyRSPOPjl2o7CtdLeQVvWjwmtsFwAAAABADahLdpo4caKOjs758+cXLFjQokWLsLAwdkKdcBz3ZT/XT3q33HQmc3LEuWr5w1voPpatD43dTtXltKof5V1muwAAAAAAqk5dspOGhgbHcVFRUR9++OGkSZPKysrYCTXDcdwnvVt9HeS6MzFn4rozldVyduJRVu1obDQRR6uCKDuB7QIAAAAAqDR1yU76+vpz585du3Zt//79FQpFdXU1O6GWwru1+D6kzd7LeePXxJdXydj2o8xd6Z1o0tSlv9+k9JNsFwAAAABAdalLdtq4caOWltbKlSstLS0zMzOnTp3KTqir0X72Pw1td/RqwZiVp8oqGxEpTVrQOzGka0prB9H1g2wXAAAAAEBFqUt2srS0HDVqVElJyY4dO7S1tdX8eifGkA42i0Z4nUsvHrX8ZHF5Fdt+lMSW3okhiR2tH0opsWwXAAAAAEAVqUt2ioyM9PHx+ffffyMjI319fTdt2sROqLcBHtZLR3dIvlU2fNmJ/LJ7bPtR+pY0dieZu1LEKIr+gha2oZkSWtiGEiPZSQAAAAAAlaAu93eaM2fO6dOnzc3NiSg/P793795Dhgxhh9RbQGuLlWM6jl8TP2zp8fXjfa0MxewEQ9eExmynZT3p1NL7lZIM2j6ZiMgjtNYcAAAAAIAqUJfzTgqFQhmciMjExEShaMSu3OqnS0vTNe/65JXdG7rkeHphOdt+lLYhySrrVKoraN+sOhUAAAAAAJWgLtmpb9++ffr0Wb169erVq/v37x8UFMROABERdXQw/me87517stClx6/m3WHbjyrNZislmWwFAAAAAKD5U5fsNH/+/PDw8MTExMTExPDw8B9++IGdgAc8bCQR4X4yhWLY0uOXc0rZNsPQhq0QT/8Mo2v7iefZDgAAAABAs6Uu1zsR0eDBgwcPHsxWoT6ulgaR7/uPWn5y+LITf4/z8bSVsBM1AmbQ9slUXXH/qYY2tehNGScoZReZupBvOHkMJy29OocAAAAAADRDqn/eSV9f36AuZYWdg7qczPQi3/c3EGu8vfzkqRtFbLuGRyi9uYgMbYk4MrSl4N9oxHr6NIlClpBITDs/o5/dKHYaFd1gDwQAAAAAaFZU/7xTWVkZW4LGsTXW+ff9TqOWnwhbefKvMO+uLc3YCSWPUHZjPQ0t8hxB7YZTxik6tZROLqHji6lVX/J9n5x6EMfVGQYAAAAAaA5U/7wTPA9LQ+2N7/s7mOi+uzp+T1Iu234yjiM7Xxqykj65QN0+p8zTtDaE/vCj0yuo6i47DAAAAADQtCE7QQNM9bQiwv1aWxtMWHdm2/lHdtVrDANr6vUNTblEIX+Shhbt/JR+bk2x0+j2TXYSAAAAAKCpQnaChkl0NNe969PBzujjiHOR8Rlsu5FE2uQ5ksIP0rjd1CKATvxJv3rShpF0PQ478gEAAABA04fsxNq1a5eLi4uzs/O8efOYVmRkpJubm7u7+8iRI5mWytPXFv09zqeLs+kXmxLXHL/JthtPuZBv6Cr65AJ1/YwyTtCagfSHP8WvxEI+AAAAAGjKkJ3qkMvlkyZNiomJSUpK2rBhQ1JSUk0rNTV17ty5R48evXTp0i+//FLrIHUh1hQuH+P9hpvFjKhLSw5eY9tPy1BKAdNpShIN/IOEItoxhX5uTbu/odtp7CQAAAAAQBOA7FTHqVOnnJ2dnZycNDU1hw8fHhUVVdP666+/Jk2aZGRkRETm5uYPj1EnWhrCP0a1f7Od9byY5J93X+Gff62dSJu8RtH7h+idXeTUk47/QYs8KWIU3TiEhXwAAAAA0KSo/h7lTyUrK8vW1lb52MbG5uTJkzWtlJQUIurcubNcLp85c2bfvn1rWkS0bNmyZcuWEVF+fn7tuuoRCQW/DPMUiwSL9l8tr5JP69+ae/49xzmO7P3J3p9KMil+JcWvouQdZO5Gvu9T21DS1GHnAQAAAABeOWSnxpLJZKmpqXFxcZmZmd26dbtw4YJEIqnphoeHh4eHE5G3t/fDY1SUUMDNe8tDLBIuP3Kjolr+/cA2AsFzxyclQxsKmEHdptLFzXRiCW3/mPZ8S+3DyGc8pZ+gfbOoJPP+DHNHKQAAAACAlwzZqQ6pVJqRcX8fuczMTKlUWtOysbHx9fUViUSOjo6tWrVKTU3t2LFjTVfdCATczGB3sabGkoPXrtwqzS6pzCmutJaIp/ZxCfF6+E17RiIxeb1NnqMo/fj9++oeW0SckHg5EVFJBm2fTESITwAAAADwKuF6pzo6duyYmpp648aNqqqqiIiI4ODgmlZISEhcXBwRFRQUpKSkODk51bTUE8dx/+vrEtTGMj6tOLu4kifKKq74asuFreey2NFnw3Fk34lC19AniaSlfz84KVVX0L5ZD58CAAAAALx8yE51aGho/P7773369GndunVoaKi7u/uMGTO2bdtGRH369DExMXFzc+vZs+f8+fNNTEzYg9UPx3HnM0tqVyqq5fNjk2tXXgBDG7p3hy2WZLIVAF217xMAAB+lSURBVAAAAICXifPz88vNzbWwsGA7j6HcWo1/QC6Xy2QyXV1ddu51OH78OFt65by9vePj49mq6nL8cuej2+GF+dsHtLbwdTTWFgnZ3rNZ2IZKHrknr0sQ9fqGLNzZOsArUe+/7P7+/kwFAAAAVAbOO8FzsZaImYq2hiAyPmPMylPtv98TviZ+4+n0vNJKZuapBcwgUa0vpCEmtxC6eZT+7Eybx1PR9YctAAAAAICXA3tFwHOZ2sflqy0XKqrvX4wkFgnnvtW2bxvL49cL91/O23c5d3dSLhF52Bj2cjUPcLVwtzZ4lk35lNtCMPvslRfR0V/p5FK6tIXah1G3qWRgzR4IAAAAAPCCYM3eC1bvMh7VtvVc1vzYK9nFFY/us8fz/JXcsn2X8/Zdzj2XUczzZK6v1cvVvJereZeWpjqaLyK6l92iQ/PpzGoSaJDPeOryKekYszMAL0G9/7JjzR4AAIAKQ3Z6wer9OAVEVHjnXtyV/P3JeYdS8svuyTQ1BP5OJr1bm/d0Nbcxeu673xbdoIM/0PkI0tKnTh+R30TS0mdnAF6oev9lR3YCAABQYS/iF/8AjWCipzW4g83gDjZVMkX8zaJ9yXn7LudOj7pEUZdcLfV7uZoHtDb3tDUSPsOKPiIydqRBS6jzx7R/Nh2YQyeXUNfPyPtdEmmzkwAAAAAAzwTZCV41TQ1BJ2fTTs6m0we4Xc+/sz85b9/lvGWHrv8Rd81IR9TTxbxXa/NurcwMtEXskQ0yb03D11PmGdo/i2K/puOLqfv/yHMUCfFzDgAAAADPC58p4XVyMtNzMtN7r6tTSUX14dT8/ZfzDlzJ23IuS0PA+Tga93I1D2ht4WiqS0+8qopl04HCouj6Qdo3i7ZPpqO/Uq9p5DaIBNhVEgAAAACeHbITNAmGYtEAD+sBHtZyBX8u/fa+5Lz9l/Nm77w8e+dlJ1NdO2PxsetFVTIFEWUVV3y15QIRPSk+EZFTd3LcS1diaP/3tGkcWS6kXjOo5RvEPdOaQAAAAABQe8hO0LQIBZy3g7G3g/H/+rpmFJUfuJK373JeXEp+7ZmKavn82CsNZCci4jhyDaJWfejiZjowh/4ZSnb+FDCD7DuxkwAAAAAADcEqJmi6bI11wvwd/h7n8+ipouziCrb0OAIheYTSh/HU/2cqukGr+tG6wZSdwI4BAAAAADwRshM0A9YSMVMRCrijVwuY4pMIRdTxXZp8jt6YRVlnaFl3ihxD+SnsGAAAAADAYyA7QTMwtY+LWCSseaop5AzEGqOWnwxfE59WeLfWYEM0dajzx/Txeer2BaXuoT98KWoSFWewYwAAAAAAj0B2gmYgxEs69622UomYI5JKxD8OaXfsy4Av+rocuVrwxs+H5sUk37knY495Am1D6jWNPj5PvhMp8V/6rT3FfEl38omIEiNpYRuaKaGFbSgxkj0QAAAAANQY9oqA5iHES8psDvFBD+fB7W1+3HVlycFrm85kftHXZUh7G0Hjb62rZ0Z9/4/8P6CDP9CpZXR2DTl1p2sHSFZBRFSSQdsnExF5hNY9DAAAAADUFM47QTNmYaC9ILTd1kmdbY3FX2xKHLj4aPzNInboyQxtKPg3mnSKWvWhK9H3g5NSdQXtm/XwKQAAAACoN2QnaPY8bSVbJnb6ZZhnftm9IUuOT95w7il24VMydaahq4geOWdVkslWAAAAAEBdITuBKuA4LsRLuv/z7pN7OcdeutVrQdwve1MqquTs3JMZ2rAVA2u2AgAAAADqCtkJVIeOpsangS77Puse0Nril72pAQvitp/P5nmenXucgBkkqrsZelU5pe6tUwEAAAAAdYXsBKrGxkhn8cj2G8P9JDqaH204F7r0+IXMEnaoXh6h9OYiMrQl4sjQlrp/SXrmtH4w/TeRyp/yMioAAAAAUDnYZw9Uk6+TyfaPukTGZ/wUeyV48ZHQDraf93Ex09di5xgeoXU21usyhQ7NpyML6epe6v8TuQ182AIAAAAANYPzTqCyhAJuhI/dgak93uviuOVcZs+f4pYevHZP9jQXQYm0KWA6hceRviVFhtHG0VSWy84AAAAAgHpAdgIVZ6AtmtbfLfaTbr6OxnNjkgMXHtqTlPsUF0ERkZUHjd9PATMoJZYW+1DCBnqqwwEAAABAJSA7gVpwMtNbMbbj6nc6agi48Wviw1aeSsktY4eeQCiirp/RhCNk5kJbJ9D6IVScwc4AAAAAgEpDdgI10sPFfNcn3b590+18RnG/Xw9/G3WxuLyKHXoCs1b0Tgz1+5HSjtMffnR6OSkU7AwAAAAAqChkJ1AvIqHgnc6OcVN7jvCxXXsircdPcWuO35TJGx2BBELyfZ8+OE423rTzM/p7ABVeY2cAAAAAQBUhO4E6MtbVnB3SNvrjrm5WBjOiLgUtOnwktYCItp7L6jxvv+OXOzvP27/1XBZ7WA0jexq9lYJ/p1sX6c9OdHQRyWXsDAAAAACoFuxRDurL1dJg/Xu+u5NyZ+9MenvFSXdrg6t5d+7JFESUVVzx1ZYLRBTiJWUPU+I4aj+anHvTzs9oz3S69B8N/J0s3NkxAAAAAFAVOO8Eao3juD7ulnumdP+ir0tSdqkyOClVVMvnx16pNVsfAysavp6GrKTidFranQ7MJdnTXEAFAAAAAM0HshMAaYuEH/RwZqtE2cUVbOlRHEdtBtOkU+QeQgfn0bLulHWGnQEAAACA5g/ZibVr1y4XFxdnZ+d58+axPaLNmzdzHBcfH882oPmzloiZilDArTxyo1F78ema0ODlNGIjVRTT8t60+xuqKmdnAAAAAKA5Q3aqQy6XT5o0KSYmJikpacOGDUlJSbW7ZWVlv/76q6+vb+0iqIypfVzEImHNU5GQs5Zoz9qR5Pt/+z7dmBB/s6jhO+q69KVJJ8hrNB37jZZ0pptH2AEAAAAAaLaQneo4deqUs7Ozk5OTpqbm8OHDo6KianenT5/+/+3dfVTUZd7H8e/ADMMwDAMkjzMDaCgCIaAguOtmRZstGfmUa9rmVq7W7X1X253VPuTZWsu22lKzrdttt3Y1V8ttFe1hN/XUtigYiprhUwU4gI5PPDPAzDD3H4PA/NToQdHB9+twOL/f9/r+4Pz+4Bw+57rmuh555JHAwMDeRQwYEzNNiyanmUJ1KhFTqO7Zqen/fvi6d+/7wa1Z5n+V26a+su3GxR+/XlTRYHcon+wt0CgFS+WOQnF3yus3ycYHpa1R2QMAAAAfRHbyUlNTY7FYPNdms7mmpmeX6p07d1qt1ptuuqm7goFnYqap6NHrKp6+qejR6zw77KXEhiycmFbyy7ynJ6cFavx+s6E856lND721e+fhuq+ahhoyTu7dKrnzpPTP8ocxcugDZQMAAAB8DXuUfy2dnZ0PPvjg66+/rhw4bfny5cuXLxeR48ePK8fg+/Ra9fTRcdNHx+2taVi1/fD6spq1O6qHRxtm5sTdkmkKCdQoHxCRAL3c+JSkTpL18+SNqTJiuty4SILClW0AAADwEcw7eTGZTFar1XNdXV1tMnWd7dPU1LR3795rrrkmISGhuLi4oKBAsV3EnDlzSktLS0tLIyIietcxwFxlMj41Ka3kV9c/NSlN7a96bP1nOU9ufmTtnl3W+rNPQ1my5Z6P5er5snetvDRaPlunbAAAAICPYN7JS3Z29qFDhyoqKkwm0+rVq1etWuWpG43GEydOeK6vueaa5557Lisrq+cxXGaCteoZOXEzcuL2VNevKjlcuLt2Tak1JSZkRk7cxExTsNb7z0qtlet+LSm3yPp58tYs2XuzDB4nRUukoVqMZslbICOmefUDAADgkkR28qJWq5ctWzZ+/HiXy3XXXXelpqYuWLAgKyuroKBA2QqIjDCHjjCH/uqm5PW7aleVHP71ur1PvbvvlozYGaPj08xGr9boNJm9RbYulS0LZd+GrmKDVTbcJyLEJwAAgEufKjc312azRUVFKUfOwbMwyX2ay+VyOp16vV7ZdzFs27ZNWep3WVlZnP50eXK73burG1aVVG3YfcTucKWZjDNy4grSY/WKaajfJ0nTUa9KYKhMf0OiR0hgiFcdl7az/rGPGTNGUQEAAAMG807A+aFSqTIsoRmW0F9PSFlXVrOq5PAv3v70yXf23ZIROyMnLjX29DRUk83rMRFpq5fXbxIRCb9SYjMkJkNi0iUmXXShyk4AAABcPGQn4DwLCdTcMSbhJ7nxOw/Xryo5vHZH9Rslh9MtoTNGW25Ojw0ymqWhaz+S0w/Eys1L5cguqd0l1u2y9+9d9bDBEpPek6bYow8AAOCiIjsBF4RKpRoVHzYqPmzBhJS3y6pXlRx+5O+fLty4756wGXe5X9CpOjxtdnfA3sQHsof+UIb+sOvJlpNyZFdXlKotk/LTW/OFxklMhsR6ZqUyRX9FVx0AAAD9guwEXFjGIM2d3x/80+8l7KiqW1Vy+Nmy9AN+sx9WvxmrOlnrvuIZ57Qd5UOLeu9For9CEvMkMa/rtvWUHNktR3bJkd1Su0v2FXbVjRaJSe9JU8GRp58XEZE9b8rmJ9jKDwAA4DwiOwH9QaVSZSWEZyWE/6OsprBzbGHH2J6xevtj6/ZmJYRlJYSbQnU9dY+gcLnyWrny2q5be70c3SO1pyem9m/sqhtie1b3NVjlg8fEYRdhKz8AAIDzhuwE9KvYUF1Nvb13Rav2e3tn9YriKhGJMQaOig/Lig/LSggfHm1Q+59xerUuVAZfLYOv7rpta+yJUkd2y4H3RM44otdhl81PkJ0AAAC+I7IT0K/mj0/6xduf2h0uz61O479octqEETH7jzbtqKorrarbUXlq454jIqIP8M+IC82KD89KCMuMC1MeuesRGCIJYyXh9CxWe5Mc/VRe+5FXj4g0WGXjg2LJkbgcCY0XlUrZAAAAgL6c7b8xABfMxEyTiDz7zwO19fbYUN388UmeylUm41Um46zvJYhITb29tPLUjqq60sq6F7cc6nSLn0qGR4dkJYSNij/H0j4PrUHivydGi3IrP7VW9rwppX8SEQmOFstoicsVS45EjxB1gFcnAAAAzoHsBPS3iZkmT146F1OozpRhuiXDJCJNbY5d1vrSyrrSqlNrd1T/dVuViMQaA0clhGfFh42KD0uOCfH3855HylsgG+7r+ryTiGh0cvNSuWqKHCuXw8Vi3S7W4q49J9SBYholltFiyRXLaLZBBwAA+ApkJ+CSZgjU/GBoxA+GRoiI09W5/2hTaeWp0qq6TypObdhdKyL6AP/MuLBR8WHZCeEZcaHBWrWMmPZJZZ1l57OR7hPHVIOsafOzPR92ik6T6DQZ/TMRkcYjYi3p+tr6onS+ICIyaJhYcsSSI3G5ckUiS/sAAAB6IzsBPkPt7+dZ2vfT7w92u9019XbPur7SqrqlWw653eKnkuSYkPAgTXGFxeFa4nlK94n/IkuNcqYrJEZSJ0rqRBGRjlap3SnWEjlcIvs2SNkKERFdeNfnoyw5EpspmnOsEgQAALhskJ0An6RSqcxhQeawIM/SvsY2R9nh+h2Vp0qr6v7z+cnee+3ZHa7HN3x2ZURwYmSwLsC/18hpAUE9G050dsrJQz1L+w6+JyLip5HYjK4pKUuOGKK6HuQUKQAAcDkhOwEDQUigZtywiHHDIkRk8KPvKEbrWh03L/uPSiXx4UFDowxJUYZh0YakKMPgQfoAtfc26H5+EpEkEUkyapaISMtJsZaItVis22X7H2XbMhGRsASx5Iqfv+xdK852EU6RAgAAlwWyEzDQnHmEVKRB+5uC1IO2poO2pgNHm7bsP+bqdIuI2k81eJDek6OGRQUPizLEX6H32nlCf4UMz5fh+SIiznY5skesxWItkS+2SMuxnjbhFCkAADDwkZ2AgebMI6R+mZ+cnxaTnxbjqbQ7XV8eb/HkqIO2pk+rG97Zc8QzpFX7XRkRnBRtGBZlSIoOHhppMIXq/DxpSq0VS7ZYskX+R9xueTxMeQ5vg1Ucdj4ZBQAABiqyEzDQnOsIqW5atX9yTEhyTEh3paXd+fmx5gO2pkO2pgO25m1fnPxHWY1nSB/g71nmNzQqOCnakBRliDBoVSqVGM3KU6RE5PkUGfVTyZ4txq/ahB0AAMAXkZ2AAajPI6QU9Fp1uiU03RLaXWmwOw7Zmg7Ymg4ebTpoa/5gn21NaVdSMuo0SVGGcarb7nQvDlJ1eIp2d0DVsDuH+9dI0WIpWiIpt0juvWLOZqNzAAAwYJCdAJyFUafJSgjPSug5LfdEc/vBo00HbU0HbM0HbU3PHc044Df7YfWbsaqTte4rnnFO27h3bMIgfWLYlEmOd8btey/os7eP6FPK42aciM8PDgoy6jQhOrVRpwkJ1IToNMrzfM9tXVnNV8yhAQAA9BuyE4CvZVCwdlCi9nuJgzy3gx99p7BzbGHH2N49yTEhjXbdK/Y7l7qmXG3fPK353bx9v7aVP7fSef0qV95JMXZ3BmvVRp3GEKg26jQhOo0nU/XOV8YgTUigZtuXJ55+b3+bo1NEaurtv3j7Uzm9KBEAAKCfkZ0AfBtn7uZnCtW9NGNkr0K+u/OZtv2bjCUv/2/V2p9rC4/ETSiPm2ENSGywOxrbHI12p+fCeqr1M7ujwe5o6eja3+Jc7A7XL//x6ZcnWiIN2kiDNiokMDJEOyhYq/H33mkdAADgAiA7Afg2ztzNb/74JO8WUfn5B6aMl5TxcvygX8krpt1/M1W+LfHfl5x7ZPhN4qc8qNfp6mxsczbaHZ5M1WB3/PeqMkVPa4frxS2H3L12+FOpJDwoIDIk0BOoIkO0kYbAqBBthCHQc6tVK3/RmVgZCAAA+kR2AvBt9Lmbn5eIYTLhecl7THaukO1/lDd/IsY4Gf0zGXmH6Ho2qFD7+4XrA8L1Ad2VRe/uP3N268P515xs7jjW1Hassd3W1Hassf1YU/vxpjZbY/v+o40nmjs8p1d1Cw3SRBq0kYbASIM2IkQbZQj05CtPsgoKUK8rq+nOgawMBAAA50J2AvAtfdPd/EQXJt+/T3L/Sw68KyWvyAePyYdPS8ZtknOPDBqqbBaRc8xuafz9oo2B0cZA794urk73qZauZHX6e/uxpjZbY3vFiZZjTW0Ol1eyMmjVdofL2Stu2R2uZ/954Ju9GgAAuAyQnQD0L3+1pBRISoEc2S0l/yc7/yqfvCqJ10vOvXLldeLn9cmlbza7JSIi/n6qCIM2wqBNjVUOiYjb7a5vdRxrarc1tnky1bHG9te3Viraar0nuwAAAITsBOCiiUmXiX+Q6x+XHa/JJ6/KG1PkiqGSM1fSbxNtcHfXN57d+koqlSpMHxCmD0iKNnQXPyi3KVYGxobqet8CAACICJtTAbiogiNk3MPywF6ZtFy0wfLuQ/J8ivzzV1JXpey8YOaPT9JpevaTOOu+FwAAAMw7AbgEqAMk/ccyYppYt0vJy1L8shT/QZLyJfdeaayVzU9IQ7UYzZK3QEZMUz77nX2LlYEAAOAyRHYCcMlQqSQuR+JypKFaPnlVdrwu+zeKqETcIiINVtlwn4hcoPhEXgIAAF+N7ATg0mM0y/W/kasflhdSxF7XU3fY5R/3yNYXRRcqgaGiCzt9ccat1qjYdqIPe9680LNbAADA15GdAFyqAoLEXq8sul0SEiv2ejlxUOz1Yq8TV7uyR0REJYEhogvrlaxCz3l78J+y4T5x2EUu7OwWAADwaWQnpffff//+++93uVyzZ89+9NFHu+vPP//8q6++qlarIyIi/vznP8fHx/d6CMCFYTRLg9W7YpEZa7wqDrvY66WtXux1py/OuG2s7brtdHg9e1YOu2x+guwEAAAUyE5eXC7XvHnzPvjgA7PZnJ2dXVBQkJKS4hnKzMwsLS0NCgp6+eWXH3744TVrvP97A3Ah5C3omRESEY1O8hZ4NXiKGp2ExCjrZ3K7xdHaNVvVE7Hq5V+/UnY2VCsrAADgskd28rJ9+/bExMQhQ4aIyPTp09evX9+dna699lrPRW5u7sqVK7sfAXABeSZ/ztcnkVQqCdBLgF6M3ttClLxyxuyW2esWAACA7KRQU1NjsVg812azuaSkxHtcRORPf/rTj370I0Vx+fLly5cvF5Hjx48rhgB8JyOmfae89HV8ndktAABw2SM7fTMrV64sLS396KOPFPU5c+bMmTNHRLKyshRDAC5153d2CwAADFBkJy8mk8lq7Vq6U11dbTJ5LezZtGnTk08++dFHH2m12t51AD6vH2a3AACAj/sm559cBrKzsw8dOlRRUdHR0bF69eqCgoLuobKysrlz5xYWFkZGRvZ6AgAAAMBlgezkRa1WL1u2bPz48cnJydOmTUtNTV2wYEFhYaGIzJ8/v7m5+dZbb83IyOidqQAAAABcDlizp5Sfn5+fn999+8QTT3guNm3a1F0EAAAAcLlh3gkAAAAA+kZ2AgAAAIC+sWbvPKuqqvr625SfOHFi0KBByqpv4l0uQQPmReSSfJeqqiplCQAADGhkp/PsG52Nm5WVVVpaqqz6Jt7lEjRgXkQG1rsAAAAfxZo9AAAAAOgb2QkAAAAA+kZ2upjmzJmjLPks3uUSNGBeRAbWuwAAAB+lys3NtdlsUVFRypFzcLvdnu8eLpfL6XTq9Xpl38Wwbds2ZQkA+tGYMWOUJQAAMFAw7wQAAAAAfSM7AQAAAEDfyE4Xzfvvv5+UlJSYmPj0008rx3yK1Wq99tprU1JSUlNTlyxZohz2NS6XKzMzc8KECcoBX1NfXz916tThw4cnJyf79HLWF154ITU19aqrrrrtttva2tqUwwAAAP2F7HRxuFyuefPmvffee+Xl5X/729/Ky8uVHb5DrVb//ve/Ly8vLy4ufumll3z6XURkyZIlycnJyqoPuv/++2+88cb9+/fv3r3bd9+opqZm6dKlpaWle/fudblcq1evVnYAAAD0F7LTxbF9+/bExMQhQ4YEBARMnz59/fr1yg7fERMTM3LkSBExGAzJyck1NTXKDt9RXV39zjvvzJ49WzngaxoaGv7973/ffffdIhIQEBAaGqrs8B1Op9NutzudztbW1tjYWOUwAABAfyE7XRw1NTUWi8VzbTabfTpvdKusrCwrK8vJyVEO+I4HHnjgmWee8fPz+b+LioqKiIiIO++8MzMzc/bs2S0tLcoOH2EymR566KG4uLiYmBij0XjDDTcoOwAAAPqLz/+PiEtEc3PzlClTFi9eHBISohzzERs3boyMjBw1apRywAc5nc6dO3fee++9ZWVler3edz9TV1dXt379+oqKitra2paWlpUrVyo7AAAA+gvZ6eIwmUxWq9VzXV1dbTKZvMd9jMPhmDJlysyZMydPnqwc8x1FRUWFhYUJCQnTp0/fsmXL7bffruzwHWaz2Ww2e+YAp06dunPnTmWHj9i0adPgwYMjIiI0Gs3kyZO3bt2q7AAAAOgvZKeLIzs7+9ChQxUVFR0dHatXry4oKFB2+A6323333XcnJyc/+OCDyjGfsmjRourq6srKytWrV1933XU+PcURHR1tsVgOHDggIps3b05JSVF2+Ii4uLji4uLW1la3271582bf3fQCAAAMAGplAf1CrVYvW7Zs/PjxLpfrrrvuSk1NVXb4jqKiohUrVqSlpWVkZIjIU089lZ+fr2xCv3vxxRdnzpzZ0dExZMiQ1157TTnsI3JycqZOnTpy5Ei1Wp2ZmTlnzhxlBwAAQH9R5ebm2my2qKgo5cg5uN1uz3cPl8vldDr1er2y72Lw6UNsAAwAY8aMUZYAAMBAwZo9AAAAAOgb2QkAAAAA+kZ2AgAAAIC+kZ0AAAAAoG9kJwAAAADoG9kJuIA+/PDDCRMmKKsAAADwQWQnAAAAAOgb2Qk4p5UrV44ePTojI2Pu3Lkulys4OPjnP/95ampqXl7e8ePHRWTXrl25ubkjRoyYNGlSXV2diHz++efXX399enr6yJEjv/jiCxFpbm6eOnXq8OHDZ86c6TkeDQAAAL6I7ASc3b59+9asWVNUVLRr1y5/f/833nijpaUlKyvrs88+Gzdu3OOPPy4id9xxx+9+97s9e/akpaV5KjNnzpw3b97u3bu3bt0aExMjImVlZYsXLy4vL//yyy+LiooUvwUAAAC+Qq0sABARkc2bN+/YsSM7O1tE7HZ7ZGSkn5/fj3/8YxG5/fbbJ0+e3NDQUF9fP27cOBGZNWvWrbfe2tTUVFNTM2nSJBEJDAz0/JzRo0ebzWYRycjIqKysHDt2bPevAAAAgA8hOwFn53a7Z82atWjRou7Kb3/72+5rlUrVff3VtFqt58Lf39/pdHoPAgAAwGewZg84u7y8vLVr1x47dkxETp06VVVV1dnZuXbtWhFZtWrV2LFjjUZjWFjYxx9/LCIrVqwYN26cwWAwm83r1q0Tkfb29tbWVu8fCQAAAB/GvBNwdikpKQsXLrzhhhs6Ozs1Gs1LL72k1+u3b9++cOHCyMjINWvWiMhf/vKXe+65p7W1dciQIa+99pqIrFixYu7cuQsWLNBoNG+99ZbyhwIAAMBnqXJzc202W1RUlHLkHDwbhblPc7lcTqdTr9cr+y6Gbdu2KUvA+RMcHNzc3KysAr2MGTNGWQIAAAMFa/YAAAAAoG9kJ+DrYtIJAADgckZ2AgAAAIC+kZ0AAAAAoG9kJwAAAADoG9kJAAAAAPpGdgIAAACAvn3Xs3FVKpWydPFwsgoAAACAC4R5JwAAAADoG9kJAAAAAPpGdgIAAACAvn377HRJfdIJAAAAAC6ob5+duhGiAAAAAAx45yE7AQAAAMCA9y2zE3NNAAAAAC4r3zg7nZmazqwAAAAAwADz/5+W31v4p6q2AAAAAElFTkSuQmCC)"
      ],
      "metadata": {
        "id": "oHfNi5-5XZru"
      }
    },
    {
      "cell_type": "markdown",
      "source": [
        "2. Accuracy\n",
        "\n",
        "---\n",
        "\n",
        "The model was trained for 10 epochs and the accuracy between training set and validation set is as follows.\n",
        "\n",
        "![Screenshot_20220721_163238.png](data:image/png;base64,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)"
      ],
      "metadata": {
        "id": "JvkRAcodX6UV"
      }
    },
    {
      "cell_type": "markdown",
      "source": [
        "# Graphical User Interface"
      ],
      "metadata": {
        "id": "juIEUbgpgX30"
      }
    },
    {
      "cell_type": "markdown",
      "source": [
        "---\n",
        "Let us create a simple Graphical User Interface (GUI) using gradio"
      ],
      "metadata": {
        "id": "8IuW5_uhEwA8"
      }
    },
    {
      "cell_type": "code",
      "source": [
        "!pip install gradio"
      ],
      "metadata": {
        "id": "ODageC9LhWm8",
        "colab": {
          "base_uri": "https://localhost:8080/"
        },
        "outputId": "6244181f-dfc0-4062-8a98-dcb9fc29fd7f"
      },
      "execution_count": 25,
      "outputs": [
        {
          "output_type": "stream",
          "name": "stdout",
          "text": [
            "Looking in indexes: https://pypi.org/simple, https://us-python.pkg.dev/colab-wheels/public/simple/\n",
            "Requirement already satisfied: gradio in /usr/local/lib/python3.7/dist-packages (3.1.0)\n",
            "Requirement already satisfied: python-multipart in /usr/local/lib/python3.7/dist-packages (from gradio) (0.0.5)\n",
            "Requirement already satisfied: pydub in /usr/local/lib/python3.7/dist-packages (from gradio) (0.25.1)\n",
            "Requirement already satisfied: pycryptodome in /usr/local/lib/python3.7/dist-packages (from gradio) (3.15.0)\n",
            "Requirement already satisfied: httpx in /usr/local/lib/python3.7/dist-packages (from gradio) (0.23.0)\n",
            "Requirement already satisfied: markdown-it-py[linkify,plugins] in /usr/local/lib/python3.7/dist-packages (from gradio) (2.1.0)\n",
            "Requirement already satisfied: fastapi in /usr/local/lib/python3.7/dist-packages (from gradio) (0.79.0)\n",
            "Requirement already satisfied: Jinja2 in /usr/local/lib/python3.7/dist-packages (from gradio) (2.11.3)\n",
            "Requirement already satisfied: analytics-python in /usr/local/lib/python3.7/dist-packages (from gradio) (1.4.0)\n",
            "Requirement already satisfied: aiohttp in /usr/local/lib/python3.7/dist-packages (from gradio) (3.8.1)\n",
            "Requirement already satisfied: uvicorn in /usr/local/lib/python3.7/dist-packages (from gradio) (0.18.2)\n",
            "Requirement already satisfied: matplotlib in /usr/local/lib/python3.7/dist-packages (from gradio) (3.2.2)\n",
            "Requirement already satisfied: numpy in /usr/local/lib/python3.7/dist-packages (from gradio) (1.21.6)\n",
            "Requirement already satisfied: pandas in /usr/local/lib/python3.7/dist-packages (from gradio) (1.3.5)\n",
            "Requirement already satisfied: pillow in /usr/local/lib/python3.7/dist-packages (from gradio) (7.1.2)\n",
            "Requirement already satisfied: orjson in /usr/local/lib/python3.7/dist-packages (from gradio) (3.7.8)\n",
            "Requirement already satisfied: h11<0.13,>=0.11 in /usr/local/lib/python3.7/dist-packages (from gradio) (0.12.0)\n",
            "Requirement already satisfied: requests in /usr/local/lib/python3.7/dist-packages (from gradio) (2.23.0)\n",
            "Requirement already satisfied: fsspec in /usr/local/lib/python3.7/dist-packages (from gradio) (2022.5.0)\n",
            "Requirement already satisfied: paramiko in /usr/local/lib/python3.7/dist-packages (from gradio) (2.11.0)\n",
            "Requirement already satisfied: pydantic in /usr/local/lib/python3.7/dist-packages (from gradio) (1.8.2)\n",
            "Requirement already satisfied: ffmpy in /usr/local/lib/python3.7/dist-packages (from gradio) (0.3.0)\n",
            "Requirement already satisfied: charset-normalizer<3.0,>=2.0 in /usr/local/lib/python3.7/dist-packages (from aiohttp->gradio) (2.1.0)\n",
            "Requirement already satisfied: asynctest==0.13.0 in /usr/local/lib/python3.7/dist-packages (from aiohttp->gradio) (0.13.0)\n",
            "Requirement already satisfied: typing-extensions>=3.7.4 in /usr/local/lib/python3.7/dist-packages (from aiohttp->gradio) (4.1.1)\n",
            "Requirement already satisfied: multidict<7.0,>=4.5 in /usr/local/lib/python3.7/dist-packages (from aiohttp->gradio) (6.0.2)\n",
            "Requirement already satisfied: aiosignal>=1.1.2 in /usr/local/lib/python3.7/dist-packages (from aiohttp->gradio) (1.2.0)\n",
            "Requirement already satisfied: frozenlist>=1.1.1 in /usr/local/lib/python3.7/dist-packages (from aiohttp->gradio) (1.3.0)\n",
            "Requirement already satisfied: yarl<2.0,>=1.0 in /usr/local/lib/python3.7/dist-packages (from aiohttp->gradio) (1.7.2)\n",
            "Requirement already satisfied: attrs>=17.3.0 in /usr/local/lib/python3.7/dist-packages (from aiohttp->gradio) (21.4.0)\n",
            "Requirement already satisfied: async-timeout<5.0,>=4.0.0a3 in /usr/local/lib/python3.7/dist-packages (from aiohttp->gradio) (4.0.2)\n",
            "Requirement already satisfied: idna>=2.0 in /usr/local/lib/python3.7/dist-packages (from yarl<2.0,>=1.0->aiohttp->gradio) (2.10)\n",
            "Requirement already satisfied: six>=1.5 in /usr/local/lib/python3.7/dist-packages (from analytics-python->gradio) (1.15.0)\n",
            "Requirement already satisfied: python-dateutil>2.1 in /usr/local/lib/python3.7/dist-packages (from analytics-python->gradio) (2.8.2)\n",
            "Requirement already satisfied: backoff==1.10.0 in /usr/local/lib/python3.7/dist-packages (from analytics-python->gradio) (1.10.0)\n",
            "Requirement already satisfied: monotonic>=1.5 in /usr/local/lib/python3.7/dist-packages (from analytics-python->gradio) (1.6)\n",
            "Requirement already satisfied: urllib3!=1.25.0,!=1.25.1,<1.26,>=1.21.1 in /usr/local/lib/python3.7/dist-packages (from requests->gradio) (1.25.11)\n",
            "Requirement already satisfied: chardet<4,>=3.0.2 in /usr/local/lib/python3.7/dist-packages (from requests->gradio) (3.0.4)\n",
            "Requirement already satisfied: certifi>=2017.4.17 in /usr/local/lib/python3.7/dist-packages (from requests->gradio) (2022.6.15)\n",
            "Requirement already satisfied: starlette==0.19.1 in /usr/local/lib/python3.7/dist-packages (from fastapi->gradio) (0.19.1)\n",
            "Requirement already satisfied: anyio<5,>=3.4.0 in /usr/local/lib/python3.7/dist-packages (from starlette==0.19.1->fastapi->gradio) (3.6.1)\n",
            "Requirement already satisfied: sniffio>=1.1 in /usr/local/lib/python3.7/dist-packages (from anyio<5,>=3.4.0->starlette==0.19.1->fastapi->gradio) (1.2.0)\n",
            "Requirement already satisfied: rfc3986[idna2008]<2,>=1.3 in /usr/local/lib/python3.7/dist-packages (from httpx->gradio) (1.5.0)\n",
            "Requirement already satisfied: httpcore<0.16.0,>=0.15.0 in /usr/local/lib/python3.7/dist-packages (from httpx->gradio) (0.15.0)\n",
            "Requirement already satisfied: MarkupSafe>=0.23 in /usr/local/lib/python3.7/dist-packages (from Jinja2->gradio) (2.0.1)\n",
            "Requirement already satisfied: mdurl~=0.1 in /usr/local/lib/python3.7/dist-packages (from markdown-it-py[linkify,plugins]->gradio) (0.1.1)\n",
            "Requirement already satisfied: linkify-it-py~=1.0 in /usr/local/lib/python3.7/dist-packages (from markdown-it-py[linkify,plugins]->gradio) (1.0.3)\n",
            "Requirement already satisfied: mdit-py-plugins in /usr/local/lib/python3.7/dist-packages (from markdown-it-py[linkify,plugins]->gradio) (0.3.0)\n",
            "Requirement already satisfied: uc-micro-py in /usr/local/lib/python3.7/dist-packages (from linkify-it-py~=1.0->markdown-it-py[linkify,plugins]->gradio) (1.0.1)\n",
            "Requirement already satisfied: pyparsing!=2.0.4,!=2.1.2,!=2.1.6,>=2.0.1 in /usr/local/lib/python3.7/dist-packages (from matplotlib->gradio) (3.0.9)\n",
            "Requirement already satisfied: kiwisolver>=1.0.1 in /usr/local/lib/python3.7/dist-packages (from matplotlib->gradio) (1.4.4)\n",
            "Requirement already satisfied: cycler>=0.10 in /usr/local/lib/python3.7/dist-packages (from matplotlib->gradio) (0.11.0)\n",
            "Requirement already satisfied: pytz>=2017.3 in /usr/local/lib/python3.7/dist-packages (from pandas->gradio) (2022.1)\n",
            "Requirement already satisfied: cryptography>=2.5 in /usr/local/lib/python3.7/dist-packages (from paramiko->gradio) (37.0.4)\n",
            "Requirement already satisfied: bcrypt>=3.1.3 in /usr/local/lib/python3.7/dist-packages (from paramiko->gradio) (3.2.2)\n",
            "Requirement already satisfied: pynacl>=1.0.1 in /usr/local/lib/python3.7/dist-packages (from paramiko->gradio) (1.5.0)\n",
            "Requirement already satisfied: cffi>=1.1 in /usr/local/lib/python3.7/dist-packages (from bcrypt>=3.1.3->paramiko->gradio) (1.15.1)\n",
            "Requirement already satisfied: pycparser in /usr/local/lib/python3.7/dist-packages (from cffi>=1.1->bcrypt>=3.1.3->paramiko->gradio) (2.21)\n",
            "Requirement already satisfied: click>=7.0 in /usr/local/lib/python3.7/dist-packages (from uvicorn->gradio) (7.1.2)\n"
          ]
        }
      ]
    },
    {
      "cell_type": "code",
      "source": [
        "import gradio as gr"
      ],
      "metadata": {
        "id": "EfN-SU-9hWi9"
      },
      "execution_count": 26,
      "outputs": []
    },
    {
      "cell_type": "code",
      "source": [
        "appInp = gr.inputs.Textbox(lines=3,placeholder=\"Enter your sentence here...\")"
      ],
      "metadata": {
        "id": "gYzFkjYnhWcQ",
        "colab": {
          "base_uri": "https://localhost:8080/"
        },
        "outputId": "0d8d2db8-7467-4398-a7b0-f23cd1b3f0cc"
      },
      "execution_count": 27,
      "outputs": [
        {
          "output_type": "stream",
          "name": "stderr",
          "text": [
            "/usr/local/lib/python3.7/dist-packages/gradio/inputs.py:27: UserWarning: Usage of gradio.inputs is deprecated, and will not be supported in the future, please import your component from gradio.components\n",
            "  \"Usage of gradio.inputs is deprecated, and will not be supported in the future, please import your component from gradio.components\",\n",
            "/usr/local/lib/python3.7/dist-packages/gradio/deprecation.py:40: UserWarning: `optional` parameter is deprecated, and it has no effect\n",
            "  warnings.warn(value)\n",
            "/usr/local/lib/python3.7/dist-packages/gradio/deprecation.py:40: UserWarning: `numeric` parameter is deprecated, and it has no effect\n",
            "  warnings.warn(value)\n",
            "/usr/local/lib/python3.7/dist-packages/gradio/deprecation.py:40: UserWarning: The 'type' parameter has been deprecated. Use the Number component instead.\n",
            "  warnings.warn(value)\n"
          ]
        }
      ]
    },
    {
      "cell_type": "code",
      "source": [
        "interface = gr.Interface(fn=gc.correctSentence,inputs=appInp,outputs=\"text\",title=\"Grammatical Error Correction\")"
      ],
      "metadata": {
        "id": "i-jVKZCohWZL"
      },
      "execution_count": 28,
      "outputs": []
    },
    {
      "cell_type": "code",
      "source": [
        "interface.launch()"
      ],
      "metadata": {
        "id": "mQ5urLEzhWJG",
        "colab": {
          "base_uri": "https://localhost:8080/",
          "height": 643
        },
        "outputId": "91db0fd1-0155-4920-aeb8-8dbb2af68fe8"
      },
      "execution_count": 29,
      "outputs": [
        {
          "output_type": "stream",
          "name": "stdout",
          "text": [
            "Colab notebook detected. To show errors in colab notebook, set `debug=True` in `launch()`\n",
            "Running on public URL: https://50307.gradio.app\n",
            "\n",
            "This share link expires in 72 hours. For free permanent hosting, check out Spaces (https://huggingface.co/spaces)\n"
          ]
        },
        {
          "output_type": "display_data",
          "data": {
            "text/plain": [
              "<IPython.core.display.HTML object>"
            ],
            "text/html": [
              "<div><iframe src=\"https://50307.gradio.app\" width=\"900\" height=\"500\" allow=\"autoplay; camera; microphone;\" frameborder=\"0\" allowfullscreen></iframe></div>"
            ]
          },
          "metadata": {}
        },
        {
          "output_type": "execute_result",
          "data": {
            "text/plain": [
              "(<gradio.routes.App at 0x7f01d67c6350>,\n",
              " 'http://127.0.0.1:7860/',\n",
              " 'https://50307.gradio.app')"
            ]
          },
          "metadata": {},
          "execution_count": 29
        }
      ]
    },
    {
      "cell_type": "markdown",
      "source": [
        "# Save the model"
      ],
      "metadata": {
        "id": "A-b1Yl9__R7Q"
      }
    },
    {
      "cell_type": "markdown",
      "source": [
        "---\n",
        "Save the model using `save()`"
      ],
      "metadata": {
        "id": "lWMMJxLWE4zO"
      }
    },
    {
      "cell_type": "code",
      "source": [
        "g_model.save('t5_model')"
      ],
      "metadata": {
        "colab": {
          "base_uri": "https://localhost:8080/"
        },
        "id": "7kC4sjjC_XSY",
        "outputId": "dc2f3e06-6513-4a11-af41-7c567b71c232"
      },
      "execution_count": 30,
      "outputs": [
        {
          "output_type": "stream",
          "name": "stderr",
          "text": [
            "Configuration saved in t5_model/config.json\n",
            "Model weights saved in t5_model/pytorch_model.bin\n",
            "tokenizer config file saved in t5_model/tokenizer_config.json\n",
            "Special tokens file saved in t5_model/special_tokens_map.json\n",
            "Copy vocab file to t5_model/spiece.model\n"
          ]
        }
      ]
    },
    {
      "cell_type": "markdown",
      "source": [
        "# References\n",
        "\n",
        "---"
      ],
      "metadata": {
        "id": "mtTUjWjo9pTH"
      }
    },
    {
      "cell_type": "markdown",
      "source": [
        "Moustafa Alzantot, Yash Sharma, Ahmed Elgohary,\n",
        "Bo-Jhang Ho, Mani Srivastava, and Kai-Wei Chang.\n",
        "2018. Generating natural language adversarial ex-\n",
        "amples. arXiv preprint arXiv:1804.07998.\n",
        "\n",
        "---\n",
        "Hamidreza Ghader and Christof Monz. 2017. What\n",
        "does attention in neural machine translation pay at-\n",
        "tention to? arXiv preprint arXiv:1710.03348.\n",
        "\n",
        "---\n",
        "Courtney Napoles, Keisuke Sakaguchi, and Joel\n",
        "Tetreault. 2017. Jfleg: A fluency corpus and\n",
        "benchmark for grammatical error correction. arXiv\n",
        "preprint arXiv:1702.04066.\n",
        "\n",
        "---\n",
        "Shamil Chollampatt and Hwee Tou Ng. 2018a. A mul-\n",
        "tilayer convolutional encoder-decoder neural net-\n",
        "work for grammatical error correction. In Thirty-\n",
        "Second AAAI Conference on Artificial Intelligence.\n",
        "\n",
        "---"
      ],
      "metadata": {
        "id": "RPeuJx4D-Y5v"
      }
    }
  ]
}